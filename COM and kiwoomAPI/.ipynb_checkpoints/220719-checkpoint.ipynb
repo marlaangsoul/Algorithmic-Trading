{
 "cells": [
  {
   "cell_type": "code",
   "execution_count": 1,
   "id": "e2755b5c",
   "metadata": {},
   "outputs": [],
   "source": [
    "class CpStockCode:\n",
    "    def __init__(self):\n",
    "        self.stocks = {'유한양행':'A000100'}\n",
    "    def GetCount(self):\n",
    "        return len(self.stocks)\n",
    "    def NameToCode(self, name):\n",
    "        return self.stocks[name]\n"
   ]
  },
  {
   "cell_type": "code",
   "execution_count": 2,
   "id": "6d1f998c",
   "metadata": {},
   "outputs": [],
   "source": [
    "instCpStockCode = CpStockCode()"
   ]
  },
  {
   "cell_type": "code",
   "execution_count": 3,
   "id": "cb24f8ea",
   "metadata": {},
   "outputs": [
    {
     "name": "stdout",
     "output_type": "stream",
     "text": [
      "1\n"
     ]
    }
   ],
   "source": [
    "print(instCpStockCode.GetCount())"
   ]
  },
  {
   "cell_type": "code",
   "execution_count": 4,
   "id": "feab35f5",
   "metadata": {
    "scrolled": false
   },
   "outputs": [
    {
     "name": "stdout",
     "output_type": "stream",
     "text": [
      "A000100\n"
     ]
    }
   ],
   "source": [
    "print(instCpStockCode.NameToCode('유한양행'))"
   ]
  },
  {
   "cell_type": "code",
   "execution_count": 5,
   "id": "46e084b5",
   "metadata": {},
   "outputs": [],
   "source": [
    "import win32com.client\n",
    "\n",
    "explore = win32com.client.Dispatch(\"InternetExplorer.Application\")\n",
    "explore.Visible = True\n"
   ]
  },
  {
   "cell_type": "code",
   "execution_count": null,
   "id": "07c93568",
   "metadata": {},
   "outputs": [],
   "source": [
    "import win32com.client\n",
    "excel = win32com.client.Dispatch(\"Excel.Application\")\n"
   ]
  },
  {
   "cell_type": "code",
   "execution_count": null,
   "id": "83552e34",
   "metadata": {},
   "outputs": [],
   "source": []
  }
 ],
 "metadata": {
  "kernelspec": {
   "display_name": "Python 3 (ipykernel)",
   "language": "python",
   "name": "python3"
  },
  "language_info": {
   "codemirror_mode": {
    "name": "ipython",
    "version": 3
   },
   "file_extension": ".py",
   "mimetype": "text/x-python",
   "name": "python",
   "nbconvert_exporter": "python",
   "pygments_lexer": "ipython3",
   "version": "3.8.13"
  }
 },
 "nbformat": 4,
 "nbformat_minor": 5
}
