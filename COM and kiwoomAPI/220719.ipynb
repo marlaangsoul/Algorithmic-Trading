{
 "cells": [
  {
   "cell_type": "code",
   "execution_count": 1,
   "id": "e2755b5c",
   "metadata": {},
   "outputs": [],
   "source": [
    "class CpStockCode:\n",
    "    def __init__(self):\n",
    "        self.stocks = {'유한양행':'A000100'}\n",
    "    def GetCount(self):\n",
    "        return len(self.stocks)\n",
    "    def NameToCode(self, name):\n",
    "        return self.stocks[name]\n"
   ]
  },
  {
   "cell_type": "code",
   "execution_count": 2,
   "id": "6d1f998c",
   "metadata": {},
   "outputs": [],
   "source": [
    "instCpStockCode = CpStockCode()"
   ]
  },
  {
   "cell_type": "code",
   "execution_count": 3,
   "id": "cb24f8ea",
   "metadata": {},
   "outputs": [
    {
     "name": "stdout",
     "output_type": "stream",
     "text": [
      "1\n"
     ]
    }
   ],
   "source": [
    "print(instCpStockCode.GetCount())"
   ]
  },
  {
   "cell_type": "code",
   "execution_count": 4,
   "id": "feab35f5",
   "metadata": {
    "scrolled": false
   },
   "outputs": [
    {
     "name": "stdout",
     "output_type": "stream",
     "text": [
      "A000100\n"
     ]
    }
   ],
   "source": [
    "print(instCpStockCode.NameToCode('유한양행'))"
   ]
  },
  {
   "cell_type": "code",
   "execution_count": 5,
   "id": "46e084b5",
   "metadata": {},
   "outputs": [],
   "source": [
    "import win32com.client\n",
    "\n",
    "explore = win32com.client.Dispatch(\"InternetExplorer.Application\")\n",
    "explore.Visible = True\n"
   ]
  },
  {
   "cell_type": "code",
   "execution_count": null,
   "id": "07c93568",
   "metadata": {},
   "outputs": [],
   "source": [
    "import win32com.client\n",
    "excel = win32com.client.Dispatch(\"Excel.Application\")\n"
   ]
  },
  {
   "cell_type": "markdown",
   "id": "aa10e70b",
   "metadata": {},
   "source": [
    "xingAPI나 CYBOS Plus가 COM(Component Object Model) 방식을 사용하는 것과 달리 키움 Open API+는 OCX(Object Linking and Embedding Custom Control) 방식을 사용합니다. \n",
    "기본적으로 COM과 OCX는 모두 마이크로소프트에서 만든 기술로서 매우 유사합니다. \n",
    "그러나 OCX 방식은 COM에 비해 파이썬에서 사용하기 쉽지 않다는 문제가 있습니다.\n",
    "\n",
    "\n",
    "이 책에서는 이러한 문제를 해결하기 위해 PyQt 패키지의 QAxContainer 모듈을 통해 OCX를 사용합니다. \n",
    "이를 위해 이 책의 후반부에서 배울 PyQt의 내용 중 기초적인 부분을 이번 절에서 간단히 다루겠습니다.\n",
    "\n"
   ]
  },
  {
   "cell_type": "code",
   "execution_count": 1,
   "id": "e2f6e86d",
   "metadata": {
    "scrolled": false
   },
   "outputs": [
    {
     "ename": "AttributeError",
     "evalue": "module 'tkinter' has no attribute 'TK'",
     "output_type": "error",
     "traceback": [
      "\u001b[1;31m---------------------------------------------------------------------------\u001b[0m",
      "\u001b[1;31mAttributeError\u001b[0m                            Traceback (most recent call last)",
      "Input \u001b[1;32mIn [1]\u001b[0m, in \u001b[0;36m<cell line: 2>\u001b[1;34m()\u001b[0m\n\u001b[0;32m      1\u001b[0m \u001b[38;5;28;01mimport\u001b[39;00m \u001b[38;5;21;01mtkinter\u001b[39;00m\n\u001b[1;32m----> 2\u001b[0m root \u001b[38;5;241m=\u001b[39m \u001b[43mtkinter\u001b[49m\u001b[38;5;241;43m.\u001b[39;49m\u001b[43mTK\u001b[49m()\n",
      "\u001b[1;31mAttributeError\u001b[0m: module 'tkinter' has no attribute 'TK'"
     ]
    }
   ],
   "source": [
    "import tkinter\n",
    "root = tkinter.TK()"
   ]
  }
 ],
 "metadata": {
  "kernelspec": {
   "display_name": "Python 3 (ipykernel)",
   "language": "python",
   "name": "python3"
  },
  "language_info": {
   "codemirror_mode": {
    "name": "ipython",
    "version": 3
   },
   "file_extension": ".py",
   "mimetype": "text/x-python",
   "name": "python",
   "nbconvert_exporter": "python",
   "pygments_lexer": "ipython3",
   "version": "3.8.13"
  }
 },
 "nbformat": 4,
 "nbformat_minor": 5
}
