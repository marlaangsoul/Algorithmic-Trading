{
 "cells": [
  {
   "cell_type": "code",
   "execution_count": 3,
   "metadata": {
    "scrolled": true
   },
   "outputs": [
    {
     "name": "stdout",
     "output_type": "stream",
     "text": [
      "Collecting PyQt5\n",
      "  Using cached PyQt5-5.15.6-cp36-abi3-win_amd64.whl (6.7 MB)\n",
      "Requirement already satisfied: PyQt5-Qt5>=5.15.2 in c:\\users\\notebook\\.conda\\envs\\py36\\lib\\site-packages (from PyQt5) (5.15.2)\n",
      "Requirement already satisfied: PyQt5-sip<13,>=12.8 in c:\\users\\notebook\\.conda\\envs\\py36\\lib\\site-packages (from PyQt5) (12.9.1)\n",
      "Installing collected packages: PyQt5\n",
      "Successfully installed PyQt5-5.15.6\n"
     ]
    },
    {
     "name": "stderr",
     "output_type": "stream",
     "text": [
      "ERROR: spyder 4.1.4 requires pyqtwebengine<5.13; python_version >= \"3\", which is not installed.\n",
      "ERROR: spyder 4.1.4 has requirement pyqt5<5.13; python_version >= \"3\", but you'll have pyqt5 5.15.6 which is incompatible.\n",
      "  WARNING: The scripts pylupdate5.exe, pyrcc5.exe and pyuic5.exe are installed in 'C:\\Users\\NOTEBOOK\\AppData\\Roaming\\Python\\Python36\\Scripts' which is not on PATH.\n",
      "  Consider adding this directory to PATH or, if you prefer to suppress this warning, use --no-warn-script-location.\n"
     ]
    }
   ],
   "source": [
    "!pip install PyQt5 --user"
   ]
  },
  {
   "cell_type": "code",
   "execution_count": 4,
   "metadata": {
    "scrolled": true
   },
   "outputs": [
    {
     "ename": "ImportError",
     "evalue": "DLL load failed: 지정된 프로시저를 찾을 수 없습니다.",
     "output_type": "error",
     "traceback": [
      "\u001b[1;31m---------------------------------------------------------------------------\u001b[0m",
      "\u001b[1;31mImportError\u001b[0m                               Traceback (most recent call last)",
      "\u001b[1;32m<ipython-input-4-3416ecc9662e>\u001b[0m in \u001b[0;36m<module>\u001b[1;34m\u001b[0m\n\u001b[0;32m      1\u001b[0m \u001b[1;32mimport\u001b[0m \u001b[0msys\u001b[0m\u001b[1;33m\u001b[0m\u001b[1;33m\u001b[0m\u001b[0m\n\u001b[0;32m      2\u001b[0m \u001b[1;32mfrom\u001b[0m \u001b[0mPyQt5\u001b[0m\u001b[1;33m.\u001b[0m\u001b[0mQtWidgets\u001b[0m \u001b[1;32mimport\u001b[0m \u001b[1;33m*\u001b[0m\u001b[1;33m\u001b[0m\u001b[1;33m\u001b[0m\u001b[0m\n\u001b[1;32m----> 3\u001b[1;33m \u001b[1;32mfrom\u001b[0m \u001b[0mPyQt5\u001b[0m\u001b[1;33m.\u001b[0m\u001b[0mQAxContainer\u001b[0m \u001b[1;32mimport\u001b[0m \u001b[1;33m*\u001b[0m\u001b[1;33m\u001b[0m\u001b[1;33m\u001b[0m\u001b[0m\n\u001b[0m\u001b[0;32m      4\u001b[0m \u001b[1;32mfrom\u001b[0m \u001b[0mPyQt5\u001b[0m\u001b[1;33m.\u001b[0m\u001b[0mQtCore\u001b[0m \u001b[1;32mimport\u001b[0m \u001b[1;33m*\u001b[0m\u001b[1;33m\u001b[0m\u001b[1;33m\u001b[0m\u001b[0m\n\u001b[0;32m      5\u001b[0m \u001b[1;33m\u001b[0m\u001b[0m\n",
      "\u001b[1;31mImportError\u001b[0m: DLL load failed: 지정된 프로시저를 찾을 수 없습니다."
     ]
    }
   ],
   "source": [
    "import sys\n",
    "from PyQt5.QtWidgets import *\n",
    "from PyQt5.QAxContainer import *\n",
    "from PyQt5.QtCore import *\n",
    "\n",
    "class Kiwoom(QAxWidget):\n",
    "    def __init__(self):\n",
    "        super().__init__()\n",
    "        self._create_kiwoom_instance()\n",
    "        self._set_signal_slots()\n",
    "\n",
    "    def _create_kiwoom_instance(self):\n",
    "        self.setControl(\"KHOPENAPI.KHOpenAPICtrl.1\")\n",
    "\n",
    "    def _set_signal_slots(self):\n",
    "        self.OnEventConnect.connect(self._event_connect)\n",
    "\n",
    "    def comm_connect(self):\n",
    "        self.dynamicCall(\"CommConnect()\")\n",
    "        self.login_event_loop = QEventLoop()\n",
    "        self.login_event_loop.exec_()\n",
    "\n",
    "    def _event_connect(self, err_code):\n",
    "        if err_code == 0:\n",
    "            print(\"connected\")\n",
    "        else:\n",
    "            print(\"disconnected\")\n",
    "\n",
    "        self.login_event_loop.exit()\n",
    "\n",
    "    def get_code_list_by_market(self, market):\n",
    "        code_list = self.dynamicCall(\"GetCodeListByMarket(QString)\", market)\n",
    "        code_list = code_list.split(';')\n",
    "        return code_list[:-1]\n",
    "\n",
    "if __name__ == \"__main__\":\n",
    "    app = QApplication(sys.argv)\n",
    "    kiwoom = Kiwoom()\n",
    "    kiwoom.comm_connect()\n",
    "    code_list = kiwoom.get_code_list_by_market('10')\n",
    "    for code in code_list:\n",
    "        print(code, end=\" \")"
   ]
  }
 ],
 "metadata": {
  "kernelspec": {
   "display_name": "Python 3",
   "language": "python",
   "name": "python3"
  },
  "language_info": {
   "codemirror_mode": {
    "name": "ipython",
    "version": 3
   },
   "file_extension": ".py",
   "mimetype": "text/x-python",
   "name": "python",
   "nbconvert_exporter": "python",
   "pygments_lexer": "ipython3",
   "version": "3.6.10"
  }
 },
 "nbformat": 4,
 "nbformat_minor": 4
}
