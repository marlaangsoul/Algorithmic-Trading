{
 "cells": [
  {
   "cell_type": "code",
   "execution_count": 1,
   "metadata": {},
   "outputs": [],
   "source": [
    "import pandas as pd\n",
    "import pandas_datareader.data as web\n",
    "import datetime\n",
    "import sqlite3\n"
   ]
  },
  {
   "cell_type": "code",
   "execution_count": 2,
   "metadata": {},
   "outputs": [],
   "source": [
    "start = datetime.datetime(2020, 1, 1)\n",
    "end = datetime.datetime(2022, 8, 1)\n",
    "df = web.DataReader(\"078930.KS\", \"yahoo\", start, end)"
   ]
  },
  {
   "cell_type": "code",
   "execution_count": 3,
   "metadata": {},
   "outputs": [
    {
     "data": {
      "text/html": [
       "<div>\n",
       "<style scoped>\n",
       "    .dataframe tbody tr th:only-of-type {\n",
       "        vertical-align: middle;\n",
       "    }\n",
       "\n",
       "    .dataframe tbody tr th {\n",
       "        vertical-align: top;\n",
       "    }\n",
       "\n",
       "    .dataframe thead th {\n",
       "        text-align: right;\n",
       "    }\n",
       "</style>\n",
       "<table border=\"1\" class=\"dataframe\">\n",
       "  <thead>\n",
       "    <tr style=\"text-align: right;\">\n",
       "      <th></th>\n",
       "      <th>High</th>\n",
       "      <th>Low</th>\n",
       "      <th>Open</th>\n",
       "      <th>Close</th>\n",
       "      <th>Volume</th>\n",
       "      <th>Adj Close</th>\n",
       "    </tr>\n",
       "    <tr>\n",
       "      <th>Date</th>\n",
       "      <th></th>\n",
       "      <th></th>\n",
       "      <th></th>\n",
       "      <th></th>\n",
       "      <th></th>\n",
       "      <th></th>\n",
       "    </tr>\n",
       "  </thead>\n",
       "  <tbody>\n",
       "    <tr>\n",
       "      <th>2020-01-02</th>\n",
       "      <td>51400.0</td>\n",
       "      <td>50000.0</td>\n",
       "      <td>51300.0</td>\n",
       "      <td>50000.0</td>\n",
       "      <td>143431.0</td>\n",
       "      <td>45226.398438</td>\n",
       "    </tr>\n",
       "    <tr>\n",
       "      <th>2020-01-03</th>\n",
       "      <td>50700.0</td>\n",
       "      <td>49700.0</td>\n",
       "      <td>50000.0</td>\n",
       "      <td>50300.0</td>\n",
       "      <td>126085.0</td>\n",
       "      <td>45497.753906</td>\n",
       "    </tr>\n",
       "    <tr>\n",
       "      <th>2020-01-06</th>\n",
       "      <td>51100.0</td>\n",
       "      <td>49950.0</td>\n",
       "      <td>50600.0</td>\n",
       "      <td>50100.0</td>\n",
       "      <td>154646.0</td>\n",
       "      <td>45316.847656</td>\n",
       "    </tr>\n",
       "    <tr>\n",
       "      <th>2020-01-07</th>\n",
       "      <td>50500.0</td>\n",
       "      <td>49900.0</td>\n",
       "      <td>50100.0</td>\n",
       "      <td>50500.0</td>\n",
       "      <td>107859.0</td>\n",
       "      <td>45678.660156</td>\n",
       "    </tr>\n",
       "    <tr>\n",
       "      <th>2020-01-08</th>\n",
       "      <td>49250.0</td>\n",
       "      <td>47600.0</td>\n",
       "      <td>49050.0</td>\n",
       "      <td>48800.0</td>\n",
       "      <td>193500.0</td>\n",
       "      <td>44140.964844</td>\n",
       "    </tr>\n",
       "  </tbody>\n",
       "</table>\n",
       "</div>"
      ],
      "text/plain": [
       "               High      Low     Open    Close    Volume     Adj Close\n",
       "Date                                                                  \n",
       "2020-01-02  51400.0  50000.0  51300.0  50000.0  143431.0  45226.398438\n",
       "2020-01-03  50700.0  49700.0  50000.0  50300.0  126085.0  45497.753906\n",
       "2020-01-06  51100.0  49950.0  50600.0  50100.0  154646.0  45316.847656\n",
       "2020-01-07  50500.0  49900.0  50100.0  50500.0  107859.0  45678.660156\n",
       "2020-01-08  49250.0  47600.0  49050.0  48800.0  193500.0  44140.964844"
      ]
     },
     "execution_count": 3,
     "metadata": {},
     "output_type": "execute_result"
    }
   ],
   "source": [
    "df.head()"
   ]
  },
  {
   "cell_type": "code",
   "execution_count": 4,
   "metadata": {
    "scrolled": true
   },
   "outputs": [
    {
     "name": "stderr",
     "output_type": "stream",
     "text": [
      "C:\\Users\\NOTEBOOK\\.conda\\envs\\py36\\lib\\site-packages\\pandas\\core\\generic.py:2615: UserWarning: The spaces in these column names will not be changed. In pandas versions < 0.14, spaces were converted to underscores.\n",
      "  method=method,\n"
     ]
    }
   ],
   "source": [
    "con = sqlite3.connect(r\"C:\\bigdata0214_0811\\jupyterws\\Algorithmic Trading\\project\\revision_study\\data\\kospi.db\")\n",
    "df.to_sql('078930', con, if_exists='replace')"
   ]
  },
  {
   "cell_type": "code",
   "execution_count": 5,
   "metadata": {},
   "outputs": [],
   "source": [
    "readed_df = pd.read_sql(\"SELECT * FROM '078930'\", con, index_col = 'Date')\n"
   ]
  },
  {
   "cell_type": "code",
   "execution_count": 6,
   "metadata": {
    "scrolled": true
   },
   "outputs": [
    {
     "data": {
      "text/html": [
       "<div>\n",
       "<style scoped>\n",
       "    .dataframe tbody tr th:only-of-type {\n",
       "        vertical-align: middle;\n",
       "    }\n",
       "\n",
       "    .dataframe tbody tr th {\n",
       "        vertical-align: top;\n",
       "    }\n",
       "\n",
       "    .dataframe thead th {\n",
       "        text-align: right;\n",
       "    }\n",
       "</style>\n",
       "<table border=\"1\" class=\"dataframe\">\n",
       "  <thead>\n",
       "    <tr style=\"text-align: right;\">\n",
       "      <th></th>\n",
       "      <th>High</th>\n",
       "      <th>Low</th>\n",
       "      <th>Open</th>\n",
       "      <th>Close</th>\n",
       "      <th>Volume</th>\n",
       "      <th>Adj Close</th>\n",
       "    </tr>\n",
       "    <tr>\n",
       "      <th>Date</th>\n",
       "      <th></th>\n",
       "      <th></th>\n",
       "      <th></th>\n",
       "      <th></th>\n",
       "      <th></th>\n",
       "      <th></th>\n",
       "    </tr>\n",
       "  </thead>\n",
       "  <tbody>\n",
       "    <tr>\n",
       "      <th>2020-01-02 00:00:00</th>\n",
       "      <td>51400.0</td>\n",
       "      <td>50000.0</td>\n",
       "      <td>51300.0</td>\n",
       "      <td>50000.0</td>\n",
       "      <td>143431.0</td>\n",
       "      <td>45226.398438</td>\n",
       "    </tr>\n",
       "    <tr>\n",
       "      <th>2020-01-03 00:00:00</th>\n",
       "      <td>50700.0</td>\n",
       "      <td>49700.0</td>\n",
       "      <td>50000.0</td>\n",
       "      <td>50300.0</td>\n",
       "      <td>126085.0</td>\n",
       "      <td>45497.753906</td>\n",
       "    </tr>\n",
       "    <tr>\n",
       "      <th>2020-01-06 00:00:00</th>\n",
       "      <td>51100.0</td>\n",
       "      <td>49950.0</td>\n",
       "      <td>50600.0</td>\n",
       "      <td>50100.0</td>\n",
       "      <td>154646.0</td>\n",
       "      <td>45316.847656</td>\n",
       "    </tr>\n",
       "    <tr>\n",
       "      <th>2020-01-07 00:00:00</th>\n",
       "      <td>50500.0</td>\n",
       "      <td>49900.0</td>\n",
       "      <td>50100.0</td>\n",
       "      <td>50500.0</td>\n",
       "      <td>107859.0</td>\n",
       "      <td>45678.660156</td>\n",
       "    </tr>\n",
       "    <tr>\n",
       "      <th>2020-01-08 00:00:00</th>\n",
       "      <td>49250.0</td>\n",
       "      <td>47600.0</td>\n",
       "      <td>49050.0</td>\n",
       "      <td>48800.0</td>\n",
       "      <td>193500.0</td>\n",
       "      <td>44140.964844</td>\n",
       "    </tr>\n",
       "  </tbody>\n",
       "</table>\n",
       "</div>"
      ],
      "text/plain": [
       "                        High      Low     Open    Close    Volume  \\\n",
       "Date                                                                \n",
       "2020-01-02 00:00:00  51400.0  50000.0  51300.0  50000.0  143431.0   \n",
       "2020-01-03 00:00:00  50700.0  49700.0  50000.0  50300.0  126085.0   \n",
       "2020-01-06 00:00:00  51100.0  49950.0  50600.0  50100.0  154646.0   \n",
       "2020-01-07 00:00:00  50500.0  49900.0  50100.0  50500.0  107859.0   \n",
       "2020-01-08 00:00:00  49250.0  47600.0  49050.0  48800.0  193500.0   \n",
       "\n",
       "                        Adj Close  \n",
       "Date                               \n",
       "2020-01-02 00:00:00  45226.398438  \n",
       "2020-01-03 00:00:00  45497.753906  \n",
       "2020-01-06 00:00:00  45316.847656  \n",
       "2020-01-07 00:00:00  45678.660156  \n",
       "2020-01-08 00:00:00  44140.964844  "
      ]
     },
     "execution_count": 6,
     "metadata": {},
     "output_type": "execute_result"
    }
   ],
   "source": [
    "readed_df.head()"
   ]
  },
  {
   "cell_type": "markdown",
   "metadata": {},
   "source": [
    "여기까지는 datareader를 통해서 진행한 부분."
   ]
  }
 ],
 "metadata": {
  "kernelspec": {
   "display_name": "Python 3",
   "language": "python",
   "name": "python3"
  },
  "language_info": {
   "codemirror_mode": {
    "name": "ipython",
    "version": 3
   },
   "file_extension": ".py",
   "mimetype": "text/x-python",
   "name": "python",
   "nbconvert_exporter": "python",
   "pygments_lexer": "ipython3",
   "version": "3.6.10"
  }
 },
 "nbformat": 4,
 "nbformat_minor": 4
}
