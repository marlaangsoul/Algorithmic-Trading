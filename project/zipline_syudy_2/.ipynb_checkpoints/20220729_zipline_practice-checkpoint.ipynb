{
 "cells": [
  {
   "cell_type": "code",
   "execution_count": 1,
   "metadata": {},
   "outputs": [
    {
     "ename": "ModuleNotFoundError",
     "evalue": "No module named 'pyupbit'",
     "output_type": "error",
     "traceback": [
      "\u001b[1;31m-----------------------------------------------------------------------\u001b[0m",
      "\u001b[1;31mModuleNotFoundError\u001b[0m                   Traceback (most recent call last)",
      "\u001b[1;32m<ipython-input-1-c9bcaec2c599>\u001b[0m in \u001b[0;36m<module>\u001b[1;34m\u001b[0m\n\u001b[1;32m----> 1\u001b[1;33m \u001b[1;32mimport\u001b[0m \u001b[0mpyupbit\u001b[0m\u001b[1;33m\u001b[0m\u001b[1;33m\u001b[0m\u001b[0m\n\u001b[0m",
      "\u001b[1;31mModuleNotFoundError\u001b[0m: No module named 'pyupbit'"
     ]
    }
   ],
   "source": [
    "import pyupbit"
   ]
  },
  {
   "cell_type": "code",
   "execution_count": 2,
   "metadata": {},
   "outputs": [
    {
     "name": "stdout",
     "output_type": "stream",
     "text": [
      "Collecting pyupbit\n",
      "  Downloading pyupbit-0.2.33-py3-none-any.whl (24 kB)\n",
      "Requirement already satisfied: requests in c:\\users\\notebook\\.conda\\envs\\py36\\lib\\site-packages (from pyupbit) (2.27.1)\n",
      "Collecting pyjwt>=2.0.0\n",
      "  Downloading PyJWT-2.4.0-py3-none-any.whl (18 kB)\n",
      "Collecting websockets\n",
      "  Downloading websockets-9.1-cp36-cp36m-win_amd64.whl (90 kB)\n",
      "Requirement already satisfied: pandas in c:\\users\\notebook\\.conda\\envs\\py36\\lib\\site-packages (from pyupbit) (1.1.5)\n",
      "Requirement already satisfied: urllib3<1.27,>=1.21.1 in c:\\users\\notebook\\.conda\\envs\\py36\\lib\\site-packages (from requests->pyupbit) (1.25.9)\n",
      "Requirement already satisfied: certifi>=2017.4.17 in c:\\users\\notebook\\.conda\\envs\\py36\\lib\\site-packages (from requests->pyupbit) (2020.6.20)\n",
      "Requirement already satisfied: charset-normalizer~=2.0.0; python_version >= \"3\" in c:\\users\\notebook\\.conda\\envs\\py36\\lib\\site-packages (from requests->pyupbit) (2.0.12)\n",
      "Requirement already satisfied: idna<4,>=2.5; python_version >= \"3\" in c:\\users\\notebook\\.conda\\envs\\py36\\lib\\site-packages (from requests->pyupbit) (2.10)\n",
      "Requirement already satisfied: pytz>=2017.2 in c:\\users\\notebook\\.conda\\envs\\py36\\lib\\site-packages (from pandas->pyupbit) (2020.1)\n",
      "Requirement already satisfied: python-dateutil>=2.7.3 in c:\\users\\notebook\\.conda\\envs\\py36\\lib\\site-packages (from pandas->pyupbit) (2.8.1)\n",
      "Requirement already satisfied: numpy>=1.15.4 in c:\\users\\notebook\\.conda\\envs\\py36\\lib\\site-packages (from pandas->pyupbit) (1.17.0)\n",
      "Requirement already satisfied: six>=1.5 in c:\\users\\notebook\\.conda\\envs\\py36\\lib\\site-packages (from python-dateutil>=2.7.3->pandas->pyupbit) (1.15.0)\n",
      "Installing collected packages: pyjwt, websockets, pyupbit\n",
      "Successfully installed pyjwt-2.4.0 pyupbit-0.2.33 websockets-9.1\n"
     ]
    }
   ],
   "source": [
    "!pip install pyupbit"
   ]
  },
  {
   "cell_type": "code",
   "execution_count": null,
   "metadata": {},
   "outputs": [],
   "source": [
    "import pandas_datareader.data as web\n",
    "import datetime\n",
    "import matplotlib.pyplot as plt\n",
    "start = datetime.datetime(2017, 7, 1)\n",
    "end = datetime.datetime(2021, 6, 30)\n",
    "data = web.DataReader(\"AAPL\", \"yahoo\", start, end)\n",
    "plt.plot(data.index, data['Adj Close'])\n",
    "plt.show()\n"
   ]
  },
  {
   "cell_type": "code",
   "execution_count": 7,
   "metadata": {},
   "outputs": [
    {
     "ename": "NameError",
     "evalue": "name 'head' is not defined",
     "output_type": "error",
     "traceback": [
      "\u001b[1;31m-----------------------------------------------------------------------\u001b[0m",
      "\u001b[1;31mNameError\u001b[0m                             Traceback (most recent call last)",
      "\u001b[1;32m<ipython-input-7-1bf4f0301b05>\u001b[0m in \u001b[0;36m<module>\u001b[1;34m\u001b[0m\n\u001b[1;32m----> 1\u001b[1;33m \u001b[0mprint\u001b[0m\u001b[1;33m(\u001b[0m\u001b[0mhead\u001b[0m\u001b[1;33m.\u001b[0m\u001b[0mdata\u001b[0m\u001b[1;33m)\u001b[0m\u001b[1;33m\u001b[0m\u001b[1;33m\u001b[0m\u001b[0m\n\u001b[0m",
      "\u001b[1;31mNameError\u001b[0m: name 'head' is not defined"
     ]
    }
   ],
   "source": [
    "print(head.data)"
   ]
  },
  {
   "cell_type": "code",
   "execution_count": 8,
   "metadata": {
    "scrolled": true
   },
   "outputs": [
    {
     "name": "stdout",
     "output_type": "stream",
     "text": [
      "                  High         Low        Open       Close      Volume  \\\n",
      "Date                                                                     \n",
      "2017-06-30   36.240002   35.945000   36.112499   36.005001  92096400.0   \n",
      "2017-07-03   36.325001   35.775002   36.220001   35.875000  57111200.0   \n",
      "2017-07-05   36.197498   35.680000   35.922501   36.022499  86278400.0   \n",
      "2017-07-06   35.875000   35.602501   35.755001   35.682499  96515200.0   \n",
      "2017-07-07   36.187500   35.724998   35.724998   36.044998  76806800.0   \n",
      "...                ...         ...         ...         ...         ...   \n",
      "2021-06-24  134.639999  132.929993  134.449997  133.410004  68711000.0   \n",
      "2021-06-25  133.889999  132.809998  133.460007  133.110001  70783700.0   \n",
      "2021-06-28  135.250000  133.350006  133.410004  134.779999  62111300.0   \n",
      "2021-06-29  136.490005  134.350006  134.800003  136.330002  64556100.0   \n",
      "2021-06-30  137.410004  135.869995  136.169998  136.960007  63261400.0   \n",
      "\n",
      "             Adj Close  \n",
      "Date                    \n",
      "2017-06-30   34.084713  \n",
      "2017-07-03   33.961643  \n",
      "2017-07-05   34.101273  \n",
      "2017-07-06   33.779411  \n",
      "2017-07-07   34.122581  \n",
      "...                ...  \n",
      "2021-06-24  132.652130  \n",
      "2021-06-25  132.353851  \n",
      "2021-06-28  134.014343  \n",
      "2021-06-29  135.555542  \n",
      "2021-06-30  136.181976  \n",
      "\n",
      "[1007 rows x 6 columns]\n"
     ]
    }
   ],
   "source": [
    "print(data)"
   ]
  },
  {
   "cell_type": "code",
   "execution_count": 10,
   "metadata": {
    "scrolled": false
   },
   "outputs": [
    {
     "name": "stdout",
     "output_type": "stream",
     "text": [
      "DatetimeIndex(['2017-07-07', '2017-07-10', '2017-07-13', '2017-07-17',\n",
      "               '2017-07-24', '2017-07-25', '2017-08-07', '2017-08-08',\n",
      "               '2017-08-09', '2017-08-11',\n",
      "               ...\n",
      "               '2021-05-20', '2021-05-24', '2021-06-04', '2021-06-08',\n",
      "               '2021-06-14', '2021-06-17', '2021-06-21', '2021-06-22',\n",
      "               '2021-06-28', '2021-06-29'],\n",
      "              dtype='datetime64[ns]', name='Date', length=420, freq=None)\n"
     ]
    }
   ],
   "source": [
    "import pandas_datareader.data as web\n",
    "import datetime\n",
    "import pyupbit\n",
    "import matplotlib.pyplot as plt\n",
    "\n",
    "start = datetime.datetime(2017, 7, 1)\n",
    "end = datetime.datetime(2021, 6, 30)\n",
    "df = web.DataReader(\"AAPL\", \"yahoo\", start, end)\n",
    "# plt.plot(data.index, data['Adj Close'])\n",
    "# plt.show()\n",
    "\n",
    "cond = df['High'] >= df['Open']*1.01\n",
    "print(df.index[cond])"
   ]
  },
  {
   "cell_type": "markdown",
   "metadata": {},
   "source": [
    "https://www.youtube.com/watch?v=88I07p-2ptw\n",
    "\n",
    "위의 비트코인 연습 참조. "
   ]
  },
  {
   "cell_type": "code",
   "execution_count": 14,
   "metadata": {
    "scrolled": false
   },
   "outputs": [
    {
     "name": "stdout",
     "output_type": "stream",
     "text": [
      "                      open   high    low  close        volume         value\n",
      "2022-01-10 09:00:00  928.0  935.0  862.0  908.0  3.287032e+08  2.957908e+11\n",
      "2022-01-11 09:00:00  907.0  948.0  890.0  942.0  2.855795e+08  2.604090e+11\n",
      "2022-01-12 09:00:00  942.0  980.0  927.0  969.0  2.435053e+08  2.315454e+11\n",
      "2022-01-13 09:00:00  969.0  974.0  932.0  934.0  1.953008e+08  1.867695e+11\n",
      "2022-01-14 09:00:00  935.0  958.0  920.0  938.0  2.026807e+08  1.905134e+11\n",
      "...                    ...    ...    ...    ...           ...           ...\n",
      "2022-07-24 09:00:00  476.0  482.0  472.0  473.0  1.252774e+08  5.978155e+10\n",
      "2022-07-25 09:00:00  474.0  476.0  449.0  451.0  1.970229e+08  9.054827e+10\n",
      "2022-07-26 09:00:00  450.0  453.0  435.0  451.0  1.940179e+08  8.610218e+10\n",
      "2022-07-27 09:00:00  451.0  475.0  442.0  473.0  2.245176e+08  1.025685e+11\n",
      "2022-07-28 09:00:00  473.0  495.0  461.0  490.0  3.201664e+08  1.524251e+11\n",
      "\n",
      "[200 rows x 6 columns]\n"
     ]
    }
   ],
   "source": [
    "import pyupbit\n",
    "\n",
    "\n",
    "df = pyupbit.get_ohlcv(\"KRW-XRP\", interval=\"minutel\", to=\"20220728 23:00:00\")\n",
    "#ㄴ 기본적으로 200개의 데이터를 출력한다.\n",
    "print(df)"
   ]
  },
  {
   "cell_type": "code",
   "execution_count": 17,
   "metadata": {
    "scrolled": true
   },
   "outputs": [
    {
     "name": "stdout",
     "output_type": "stream",
     "text": [
      "                      open   high    low  close        volume         value\n",
      "2022-01-10 09:00:00  928.0  935.0  862.0  908.0  3.287032e+08  2.957908e+11\n",
      "2022-01-11 09:00:00  907.0  948.0  890.0  942.0  2.855795e+08  2.604090e+11\n",
      "2022-01-12 09:00:00  942.0  980.0  927.0  969.0  2.435053e+08  2.315454e+11\n",
      "2022-01-13 09:00:00  969.0  974.0  932.0  934.0  1.953008e+08  1.867695e+11\n",
      "2022-01-14 09:00:00  935.0  958.0  920.0  938.0  2.026807e+08  1.905134e+11\n",
      "...                    ...    ...    ...    ...           ...           ...\n",
      "2022-07-24 09:00:00  476.0  482.0  472.0  473.0  1.252774e+08  5.978155e+10\n",
      "2022-07-25 09:00:00  474.0  476.0  449.0  451.0  1.970229e+08  9.054827e+10\n",
      "2022-07-26 09:00:00  450.0  453.0  435.0  451.0  1.940179e+08  8.610218e+10\n",
      "2022-07-27 09:00:00  451.0  475.0  442.0  473.0  2.245176e+08  1.025685e+11\n",
      "2022-07-28 09:00:00  473.0  495.0  461.0  490.0  3.201664e+08  1.524251e+11\n",
      "\n",
      "[200 rows x 6 columns]\n"
     ]
    },
    {
     "data": {
      "image/png": "[encoded data removed]",
      "text/plain": [
       "<Figure size 432x288 with 1 Axes>"
      ]
     },
     "metadata": {
      "needs_background": "light"
     },
     "output_type": "display_data"
    }
   ],
   "source": [
    "import pyupbit\n",
    "import matplotlib.pyplot as plt\n",
    "\n",
    "df = pyupbit.get_ohlcv(\"KRW-XRP\", interval=\"minutel\", to=\"20220728 23:00:00\")\n",
    "#ㄴ 기본적으로 200개의 데이터를 출력한다.\n",
    "print(df)\n",
    "df['close'].plot()\n",
    "plt.show()\n",
    "\n"
   ]
  },
  {
   "cell_type": "code",
   "execution_count": 22,
   "metadata": {
    "scrolled": true
   },
   "outputs": [
    {
     "name": "stdout",
     "output_type": "stream",
     "text": [
      "DatetimeIndex(['2022-01-11 09:00:00', '2022-01-12 09:00:00',\n",
      "               '2022-01-20 09:00:00', '2022-01-23 09:00:00',\n",
      "               '2022-01-26 09:00:00', '2022-02-04 09:00:00',\n",
      "               '2022-02-05 09:00:00', '2022-02-07 09:00:00',\n",
      "               '2022-02-08 09:00:00', '2022-02-09 09:00:00',\n",
      "               '2022-02-12 09:00:00', '2022-02-13 09:00:00',\n",
      "               '2022-02-15 09:00:00', '2022-02-18 09:00:00',\n",
      "               '2022-02-19 09:00:00', '2022-02-23 09:00:00',\n",
      "               '2022-02-25 09:00:00', '2022-02-28 09:00:00',\n",
      "               '2022-03-05 09:00:00', '2022-03-07 09:00:00',\n",
      "               '2022-03-09 09:00:00', '2022-03-11 09:00:00',\n",
      "               '2022-03-12 09:00:00', '2022-03-19 09:00:00',\n",
      "               '2022-03-21 09:00:00', '2022-03-28 09:00:00',\n",
      "               '2022-04-07 09:00:00', '2022-04-12 09:00:00',\n",
      "               '2022-04-15 09:00:00', '2022-05-02 09:00:00',\n",
      "               '2022-05-04 09:00:00', '2022-05-10 09:00:00',\n",
      "               '2022-05-13 09:00:00', '2022-05-14 09:00:00',\n",
      "               '2022-05-15 09:00:00', '2022-05-19 09:00:00',\n",
      "               '2022-05-20 09:00:00', '2022-05-30 09:00:00',\n",
      "               '2022-05-31 09:00:00', '2022-06-07 09:00:00',\n",
      "               '2022-06-10 09:00:00', '2022-06-14 09:00:00',\n",
      "               '2022-06-15 09:00:00', '2022-06-17 09:00:00',\n",
      "               '2022-06-19 09:00:00', '2022-06-21 09:00:00',\n",
      "               '2022-06-23 09:00:00', '2022-06-24 09:00:00',\n",
      "               '2022-07-07 09:00:00', '2022-07-08 09:00:00',\n",
      "               '2022-07-13 09:00:00', '2022-07-14 09:00:00',\n",
      "               '2022-07-15 09:00:00', '2022-07-16 09:00:00',\n",
      "               '2022-07-18 09:00:00', '2022-07-19 09:00:00',\n",
      "               '2022-07-27 09:00:00', '2022-07-28 09:00:00'],\n",
      "              dtype='datetime64[ns]', freq=None)\n"
     ]
    }
   ],
   "source": [
    "import pyupbit\n",
    "import matplotlib.pyplot as plt\n",
    "\n",
    "df = pyupbit.get_ohlcv(\"KRW-XRP\", interval=\"minutel\", to=\"20220728 23:00:00\")\n",
    "#ㄴ 기본적으로 200개의 데이터를 출력한다.\n",
    "#print(df)\n",
    "# df['close'].plot()\n",
    "# plt.show()\n",
    "\n",
    "# 1) 매수 일자 판별.\n",
    "cond = df['high'] >= df['open'] * 1.03\n",
    "print(df.index[cond])\n",
    "\n",
    "# 2) 매도 조건 탐색 및 수익률 계산."
   ]
  },
  {
   "cell_type": "markdown",
   "metadata": {},
   "source": [
    "1% 상승하면 매수하고 2% 상승하면 매도하도록 조정해보자. "
   ]
  },
  {
   "cell_type": "code",
   "execution_count": 38,
   "metadata": {
    "scrolled": true
   },
   "outputs": [
    {
     "name": "stdout",
     "output_type": "stream",
     "text": [
      "DatetimeIndex(['2022-01-11 09:00:00', '2022-01-12 09:00:00',\n",
      "               '2022-01-14 09:00:00', '2022-01-15 09:00:00',\n",
      "               '2022-01-20 09:00:00', '2022-01-22 09:00:00',\n",
      "               '2022-01-23 09:00:00', '2022-01-25 09:00:00',\n",
      "               '2022-01-26 09:00:00', '2022-01-27 09:00:00',\n",
      "               ...\n",
      "               '2022-07-17 09:00:00', '2022-07-18 09:00:00',\n",
      "               '2022-07-19 09:00:00', '2022-07-20 09:00:00',\n",
      "               '2022-07-21 09:00:00', '2022-07-22 09:00:00',\n",
      "               '2022-07-23 09:00:00', '2022-07-24 09:00:00',\n",
      "               '2022-07-27 09:00:00', '2022-07-28 09:00:00'],\n",
      "              dtype='datetime64[ns]', length=135, freq=None)\n",
      "2.4486326746484828\n"
     ]
    }
   ],
   "source": [
    "import pyupbit\n",
    "import matplotlib.pyplot as plt\n",
    "\n",
    "df = pyupbit.get_ohlcv(\"KRW-XRP\", interval=\"minutel\", to=\"20220728 23:00:00\")\n",
    "#ㄴ 기본적으로 200개의 데이터를 출력한다.\n",
    "#print(df)\n",
    "# df['close'].plot()\n",
    "# plt.show()\n",
    "\n",
    "# 1) 매수 일자 판별.\n",
    "cond = df['high'] >= df['open'] * 1.01\n",
    "print(df.index[cond])\n",
    "\n",
    "acc_ror = 1\n",
    "sell_date = None\n",
    "\n",
    "# 2) 매도 조건 탐색 및 수익률 계산.\n",
    "for buy_date in df.index[cond]:\n",
    "    if sell_date != None and buy_date <= sell_date:\n",
    "        continue\n",
    "    \n",
    "    target = df.loc[ buy_date : ]\n",
    "    \n",
    "    cond = target['high'] >= target['open'] * 1.02\n",
    "    sell_candidate = target.index[cond]\n",
    "    \n",
    "    if len(sell_candidate) == 0:\n",
    "        buy_price = df.loc[buy_date, 'open'] * 1.01\n",
    "        sell_price = df.iloc[-1,3]\n",
    "        acc_ror *= (sell_price / buy_price)\n",
    "        break\n",
    "    else:\n",
    "        sell_date = sell_candidate[0]\n",
    "        acc_ror *= 1.01\n",
    "        \n",
    "print(acc_ror)"
   ]
  },
  {
   "cell_type": "markdown",
   "metadata": {},
   "source": []
  },
  {
   "cell_type": "code",
   "execution_count": null,
   "metadata": {},
   "outputs": [],
   "source": [
    "import pyupbit\n",
    "import matplotlib.pyplot as plt\n",
    "\n",
    "df = pyupbit.get_ohlcv(\"KRW-XRP\", interval=\"minutel\", to=\"20220728 23:00:00\")\n",
    "#ㄴ 기본적으로 200개의 데이터를 출력한다.\n",
    "#print(df)\n",
    "# df['close'].plot()\n",
    "# plt.show()\n",
    "\n",
    "# 1) 매수 일자 판별.\n",
    "cond = df['high'] >= df['open'] * 1.01\n",
    "print(df.index[cond])\n",
    "\n",
    "acc_ror = 1\n",
    "sell_date = None\n",
    "\n",
    "# 2) 매도 조건 탐색 및 수익률 계산.\n",
    "for buy_date in df.index[cond]:\n",
    "    if sell_date != None and buy_date <= sell_date:\n",
    "        continue\n",
    "    \n",
    "    target = df.loc[ buy_date : ]\n",
    "    \n",
    "    cond = target['high'] >= target['open'] * 1.02\n",
    "    sell_candidate = target.index[cond]\n",
    "    \n",
    "    if len(sell_candidate) == 0:\n",
    "        buy_price = df.loc[buy_date, 'open'] * 1.01\n",
    "        sell_price = df.iloc[-1,3]\n",
    "        acc_ror *= (sell_price / buy_price)\n",
    "        break\n",
    "    else:\n",
    "        sell_date = sell_candidate[0]\n",
    "        acc_ror *= 1.01\n",
    "        \n",
    "print(acc_ror)"
   ]
  }
 ],
 "metadata": {
  "kernelspec": {
   "display_name": "Python 3",
   "language": "python",
   "name": "python3"
  },
  "language_info": {
   "codemirror_mode": {
    "name": "ipython",
    "version": 3
   },
   "file_extension": ".py",
   "mimetype": "text/x-python",
   "name": "python",
   "nbconvert_exporter": "python",
   "pygments_lexer": "ipython3",
   "version": "3.6.10"
  }
 },
 "nbformat": 4,
 "nbformat_minor": 4
}
