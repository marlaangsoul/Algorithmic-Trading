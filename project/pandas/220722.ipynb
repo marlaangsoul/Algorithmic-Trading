{
 "cells": [
  {
   "cell_type": "code",
   "execution_count": 1,
   "id": "bf2658ef",
   "metadata": {},
   "outputs": [],
   "source": [
    "mystock = ['kakao', 'naver']\n"
   ]
  },
  {
   "cell_type": "code",
   "execution_count": 2,
   "id": "64540d47",
   "metadata": {
    "scrolled": true
   },
   "outputs": [
    {
     "name": "stdout",
     "output_type": "stream",
     "text": [
      "kakao\n",
      "naver\n"
     ]
    }
   ],
   "source": [
    "print(mystock[0])\n",
    "print(mystock[1])\n"
   ]
  },
  {
   "cell_type": "code",
   "execution_count": 3,
   "id": "f0cede6d",
   "metadata": {},
   "outputs": [
    {
     "name": "stdout",
     "output_type": "stream",
     "text": [
      "kakao\n",
      "naver\n"
     ]
    }
   ],
   "source": [
    "for stock in mystock:\n",
    "    print(stock)"
   ]
  },
  {
   "cell_type": "markdown",
   "id": "29d4b9db",
   "metadata": {},
   "source": [
    "파이썬 리스트는 반복문을 사용할 수 있다는 장점 외에도 다양한 메서드를 제공합니다. 대표적으로 insert, append, index 등이 있다\n"
   ]
  },
  {
   "cell_type": "code",
   "execution_count": 4,
   "id": "bc828521",
   "metadata": {},
   "outputs": [
    {
     "name": "stdout",
     "output_type": "stream",
     "text": [
      "room1\n",
      "room2\n"
     ]
    }
   ],
   "source": [
    "exam_dic = {'key1': 'room1', 'key2':'room2'}\n",
    "print(exam_dic['key1'])\n",
    "print(exam_dic['key2'])\n"
   ]
  },
  {
   "cell_type": "code",
   "execution_count": 5,
   "id": "813099b2",
   "metadata": {},
   "outputs": [],
   "source": [
    "kakao_daily_ending_prices = [92300, 94300, 92100, 92400, 92600]"
   ]
  },
  {
   "cell_type": "code",
   "execution_count": 6,
   "id": "0e4806bf",
   "metadata": {
    "scrolled": true
   },
   "outputs": [
    {
     "name": "stdout",
     "output_type": "stream",
     "text": [
      "92300\n",
      "94300\n",
      "92100\n",
      "92400\n",
      "92600\n"
     ]
    }
   ],
   "source": [
    "for price in kakao_daily_ending_prices:\n",
    "    print(price)"
   ]
  },
  {
   "cell_type": "code",
   "execution_count": 7,
   "id": "db4db101",
   "metadata": {},
   "outputs": [],
   "source": [
    "kakao_daily_ending_prices = {'2016-02-19': 92600,\n",
    "                             '2016-02-18': 92400,\n",
    "                             '2016-02-17': 92100,\n",
    "                             '2016-02-16': 94300,\n",
    "                             '2016-02-15': 92300}"
   ]
  },
  {
   "cell_type": "code",
   "execution_count": 8,
   "id": "8972bb64",
   "metadata": {
    "scrolled": true
   },
   "outputs": [
    {
     "name": "stdout",
     "output_type": "stream",
     "text": [
      "92100\n"
     ]
    }
   ],
   "source": [
    "print(kakao_daily_ending_prices['2016-02-17'])"
   ]
  },
  {
   "cell_type": "markdown",
   "id": "c214787a",
   "metadata": {},
   "source": [
    "Series 기초\n"
   ]
  },
  {
   "cell_type": "code",
   "execution_count": 9,
   "id": "f4259b29",
   "metadata": {},
   "outputs": [],
   "source": [
    "from pandas import Series, DataFrame\n"
   ]
  },
  {
   "cell_type": "code",
   "execution_count": 10,
   "id": "932d9550",
   "metadata": {},
   "outputs": [
    {
     "name": "stdout",
     "output_type": "stream",
     "text": [
      "<class 'pandas.core.series.Series'>\n"
     ]
    }
   ],
   "source": [
    "import pandas\n",
    "print(pandas.Series)\n"
   ]
  },
  {
   "cell_type": "code",
   "execution_count": 11,
   "id": "975eb3a5",
   "metadata": {},
   "outputs": [
    {
     "name": "stdout",
     "output_type": "stream",
     "text": [
      "0    92600\n",
      "1    92400\n",
      "2    92100\n",
      "3    94300\n",
      "4    92300\n",
      "dtype: int64\n"
     ]
    }
   ],
   "source": [
    "kakao = Series([92600, 92400, 92100, 94300, 92300])\n",
    "print(kakao)"
   ]
  },
  {
   "cell_type": "markdown",
   "id": "d1cad483",
   "metadata": {},
   "source": [
    "Series 객체는 일차원 배열과 달리 값뿐만 아니라 각 값에 연결된 인덱스 값도 동시에 저장합니다."
   ]
  },
  {
   "cell_type": "code",
   "execution_count": 12,
   "id": "fa17f408",
   "metadata": {},
   "outputs": [
    {
     "name": "stdout",
     "output_type": "stream",
     "text": [
      "92600\n",
      "92100\n",
      "92300\n"
     ]
    }
   ],
   "source": [
    "print(kakao[0])\n",
    "print(kakao[2])\n",
    "print(kakao[4])\n"
   ]
  },
  {
   "cell_type": "code",
   "execution_count": 13,
   "id": "a75f8079",
   "metadata": {},
   "outputs": [],
   "source": [
    "kakao2 = Series([92600, 92400, 92100, 94300, 92300],\n",
    "                index=['2016-02-19',                       \n",
    "                       '2016-02-18',                 \n",
    "                       '2016-02-17',                                                            \n",
    "                       '2016-02-16',                                                           \n",
    "                       '2016-02-15'])\n"
   ]
  },
  {
   "cell_type": "code",
   "execution_count": 14,
   "id": "eb2d51a9",
   "metadata": {},
   "outputs": [
    {
     "name": "stdout",
     "output_type": "stream",
     "text": [
      "2016-02-19    92600\n",
      "2016-02-18    92400\n",
      "2016-02-17    92100\n",
      "2016-02-16    94300\n",
      "2016-02-15    92300\n",
      "dtype: int64\n"
     ]
    }
   ],
   "source": [
    "print(kakao2)\n"
   ]
  },
  {
   "attachments": {
    "image.png": {
     "image/png": "[encoded data removed]"
    }
   },
   "cell_type": "markdown",
   "id": "ba8bc846",
   "metadata": {},
   "source": [
    "![image.png](attachment:image.png)"
   ]
  },
  {
   "cell_type": "code",
   "execution_count": 15,
   "id": "b66406e8",
   "metadata": {},
   "outputs": [
    {
     "name": "stdout",
     "output_type": "stream",
     "text": [
      "92600\n",
      "92400\n"
     ]
    }
   ],
   "source": [
    "print(kakao2['2016-02-19'])\n",
    "print(kakao2['2016-02-18'])"
   ]
  },
  {
   "cell_type": "code",
   "execution_count": 16,
   "id": "67c532e8",
   "metadata": {},
   "outputs": [
    {
     "name": "stdout",
     "output_type": "stream",
     "text": [
      "2016-02-19\n",
      "2016-02-18\n",
      "2016-02-17\n",
      "2016-02-16\n",
      "2016-02-15\n"
     ]
    }
   ],
   "source": [
    "for date in kakao2.index:\n",
    "    print(date)"
   ]
  },
  {
   "cell_type": "code",
   "execution_count": 17,
   "id": "3e1149a3",
   "metadata": {
    "scrolled": true
   },
   "outputs": [
    {
     "name": "stdout",
     "output_type": "stream",
     "text": [
      "92600\n",
      "92400\n",
      "92100\n",
      "94300\n",
      "92300\n"
     ]
    }
   ],
   "source": [
    "for ending_price in kakao2.values:\n",
    "    print(ending_price)"
   ]
  },
  {
   "cell_type": "markdown",
   "id": "5cd7431e",
   "metadata": {},
   "source": [
    "pandas의 Series는 서로 다르게 인덱싱된 데이터에 대해서도 알아서 덧셈 연산을 처리해 준다."
   ]
  },
  {
   "cell_type": "code",
   "execution_count": 18,
   "id": "7ba14405",
   "metadata": {},
   "outputs": [],
   "source": [
    "from pandas import Series, DataFrame\n",
    "\n",
    "mine   = Series([10, 20, 30], index=['naver', 'sk', 'kt'])\n",
    "# friend = Series(index=['kt', 'naver', 'sk'], [10, 30, 20]) <<< 에러\n",
    "friend = Series([10, 30, 20], index=['kt', 'naver', 'sk'])"
   ]
  },
  {
   "attachments": {
    "image.png": {
     "image/png": "[encoded data removed]"
    }
   },
   "cell_type": "markdown",
   "id": "a0da1ed0",
   "metadata": {},
   "source": [
    "![image.png](attachment:image.png)"
   ]
  },
  {
   "cell_type": "markdown",
   "id": "160b132d",
   "metadata": {},
   "source": [
    "인덱스의 순서가 다르다. "
   ]
  },
  {
   "cell_type": "code",
   "execution_count": 19,
   "id": "a66e1ecd",
   "metadata": {
    "scrolled": true
   },
   "outputs": [
    {
     "name": "stdout",
     "output_type": "stream",
     "text": [
      "kt       40\n",
      "naver    40\n",
      "sk       40\n",
      "dtype: int64\n"
     ]
    }
   ],
   "source": [
    "merge = mine + friend\n",
    "print(merge)"
   ]
  },
  {
   "cell_type": "markdown",
   "id": "eedd6794",
   "metadata": {},
   "source": [
    "같은 값끼리 인덱스로 정상적인 덧셈을 해준다. "
   ]
  },
  {
   "cell_type": "markdown",
   "id": "ae179965",
   "metadata": {},
   "source": [
    "# 1) DataFrame 생성\n"
   ]
  },
  {
   "cell_type": "code",
   "execution_count": 20,
   "id": "b3320fb2",
   "metadata": {},
   "outputs": [],
   "source": [
    "from pandas import Series, DataFrame"
   ]
  },
  {
   "cell_type": "code",
   "execution_count": 21,
   "id": "75a14761",
   "metadata": {},
   "outputs": [],
   "source": [
    "raw_data = {'col0': [1, 2, 3, 4],\n",
    "            'col1': [10, 20, 30, 40],\n",
    "            'col2': [100, 200, 300, 400]}\n",
    "data = DataFrame(raw_data)"
   ]
  },
  {
   "cell_type": "code",
   "execution_count": 22,
   "id": "7271868e",
   "metadata": {
    "scrolled": true
   },
   "outputs": [
    {
     "name": "stdout",
     "output_type": "stream",
     "text": [
      "   col0  col1  col2\n",
      "0     1    10   100\n",
      "1     2    20   200\n",
      "2     3    30   300\n",
      "3     4    40   400\n"
     ]
    }
   ],
   "source": [
    "print(data)"
   ]
  },
  {
   "cell_type": "code",
   "execution_count": 23,
   "id": "8bd1175c",
   "metadata": {},
   "outputs": [
    {
     "data": {
      "text/plain": [
       "0    1\n",
       "1    2\n",
       "2    3\n",
       "3    4\n",
       "Name: col0, dtype: int64"
      ]
     },
     "execution_count": 23,
     "metadata": {},
     "output_type": "execute_result"
    }
   ],
   "source": [
    "data['col0']"
   ]
  },
  {
   "cell_type": "code",
   "execution_count": 24,
   "id": "d94467a8",
   "metadata": {},
   "outputs": [
    {
     "data": {
      "text/plain": [
       "0    10\n",
       "1    20\n",
       "2    30\n",
       "3    40\n",
       "Name: col1, dtype: int64"
      ]
     },
     "execution_count": 24,
     "metadata": {},
     "output_type": "execute_result"
    }
   ],
   "source": [
    "data['col1']\n"
   ]
  },
  {
   "cell_type": "code",
   "execution_count": 25,
   "id": "8beb1970",
   "metadata": {},
   "outputs": [
    {
     "data": {
      "text/plain": [
       "0    100\n",
       "1    200\n",
       "2    300\n",
       "3    400\n",
       "Name: col2, dtype: int64"
      ]
     },
     "execution_count": 25,
     "metadata": {},
     "output_type": "execute_result"
    }
   ],
   "source": [
    "data['col2']\n"
   ]
  },
  {
   "cell_type": "code",
   "execution_count": 26,
   "id": "1a9cffcf",
   "metadata": {},
   "outputs": [
    {
     "data": {
      "text/plain": [
       "pandas.core.series.Series"
      ]
     },
     "execution_count": 26,
     "metadata": {},
     "output_type": "execute_result"
    }
   ],
   "source": [
    "type(data['col0'])\n"
   ]
  },
  {
   "attachments": {
    "image.png": {
     "image/png": "[encoded data removed]"
    }
   },
   "cell_type": "markdown",
   "id": "ea39aa3c",
   "metadata": {},
   "source": [
    "![image.png](attachment:image.png)"
   ]
  },
  {
   "attachments": {
    "image.png": {
     "image/png": "[encoded data removed]"
    }
   },
   "cell_type": "markdown",
   "id": "b33d2839",
   "metadata": {},
   "source": [
    "![image.png](attachment:image.png)"
   ]
  },
  {
   "cell_type": "code",
   "execution_count": 27,
   "id": "f721c425",
   "metadata": {},
   "outputs": [],
   "source": [
    "from pandas import Series, DataFrame\n",
    "daeshin = {'open':  [11650, 11100, 11200, 11100, 11000],\n",
    "           'high':  [12100, 11800, 11200, 11100, 11150],\n",
    "           'low' :  [11600, 11050, 10900, 10950, 10900],\n",
    "           'close': [11900, 11600, 11000, 11100, 11050]}\n"
   ]
  },
  {
   "cell_type": "code",
   "execution_count": 28,
   "id": "2442079d",
   "metadata": {},
   "outputs": [],
   "source": [
    "daeshin_day  = DataFrame(daeshin)"
   ]
  },
  {
   "cell_type": "code",
   "execution_count": 29,
   "id": "2ec15c00",
   "metadata": {
    "scrolled": true
   },
   "outputs": [
    {
     "name": "stdout",
     "output_type": "stream",
     "text": [
      "    open   high    low  close\n",
      "0  11650  12100  11600  11900\n",
      "1  11100  11800  11050  11600\n",
      "2  11200  11200  10900  11000\n",
      "3  11100  11100  10950  11100\n",
      "4  11000  11150  10900  11050\n"
     ]
    }
   ],
   "source": [
    "print(daeshin_day)\n"
   ]
  },
  {
   "cell_type": "code",
   "execution_count": 30,
   "id": "0594e739",
   "metadata": {},
   "outputs": [],
   "source": [
    "daeshin_day = DataFrame(daeshin, columns=['open', 'high', 'low', 'close'])"
   ]
  },
  {
   "cell_type": "code",
   "execution_count": 31,
   "id": "4ed9df59",
   "metadata": {
    "scrolled": true
   },
   "outputs": [
    {
     "name": "stdout",
     "output_type": "stream",
     "text": [
      "    open   high    low  close\n",
      "0  11650  12100  11600  11900\n",
      "1  11100  11800  11050  11600\n",
      "2  11200  11200  10900  11000\n",
      "3  11100  11100  10950  11100\n",
      "4  11000  11150  10900  11050\n"
     ]
    }
   ],
   "source": [
    "print(daeshin_day)"
   ]
  },
  {
   "cell_type": "code",
   "execution_count": 32,
   "id": "41a05449",
   "metadata": {},
   "outputs": [],
   "source": [
    "date = ['16.02.29', '16.02.26', '16.02.25', '16.02.24', '16.02.23']\n",
    "daeshin_day = DataFrame(daeshin, columns=['open', 'high', 'low', 'close'], index=date)\n"
   ]
  },
  {
   "cell_type": "code",
   "execution_count": 33,
   "id": "2a87be44",
   "metadata": {
    "scrolled": false
   },
   "outputs": [
    {
     "name": "stdout",
     "output_type": "stream",
     "text": [
      "           open   high    low  close\n",
      "16.02.29  11650  12100  11600  11900\n",
      "16.02.26  11100  11800  11050  11600\n",
      "16.02.25  11200  11200  10900  11000\n",
      "16.02.24  11100  11100  10950  11100\n",
      "16.02.23  11000  11150  10900  11050\n"
     ]
    }
   ],
   "source": [
    "print(daeshin_day)"
   ]
  },
  {
   "cell_type": "code",
   "execution_count": 34,
   "id": "a86f0c00",
   "metadata": {
    "scrolled": true
   },
   "outputs": [
    {
     "name": "stdout",
     "output_type": "stream",
     "text": [
      "16.02.29    11900\n",
      "16.02.26    11600\n",
      "16.02.25    11000\n",
      "16.02.24    11100\n",
      "16.02.23    11050\n",
      "Name: close, dtype: int64\n"
     ]
    }
   ],
   "source": [
    "close = daeshin_day['close']\n",
    "print(close)"
   ]
  },
  {
   "cell_type": "code",
   "execution_count": 35,
   "id": "32a1d623",
   "metadata": {
    "scrolled": false
   },
   "outputs": [],
   "source": [
    "# print(daeshin_day['16.02.24'])"
   ]
  },
  {
   "cell_type": "markdown",
   "id": "9eb3ba4a",
   "metadata": {},
   "source": [
    "그러나 위 코드를 실행해보면 에러가 발생합니다. 앞서 칼럼에 접근할 때 'close' 라는 값을 사용한 것처럼 '16.02.04'와 같은 값을 사용해서 접근하면 pandas는 이 값을 칼럼의 키 값으로 판단합니다. 그러나 daeshin_day라는 DataFrame 객체에는 ‘16.02.04’라는 키 값을 갖는 칼럼이 없으므로 에러가 발생하는 것입니다.\n",
    "\n"
   ]
  },
  {
   "cell_type": "code",
   "execution_count": 36,
   "id": "493b8cb6",
   "metadata": {
    "scrolled": false
   },
   "outputs": [
    {
     "name": "stdout",
     "output_type": "stream",
     "text": [
      "open     11100\n",
      "high     11100\n",
      "low      10950\n",
      "close    11100\n",
      "Name: 16.02.24, dtype: int64\n",
      "<class 'pandas.core.series.Series'>\n"
     ]
    }
   ],
   "source": [
    "day_data = daeshin_day.loc['16.02.24']\n",
    "print(day_data)\n",
    "print(type(day_data))"
   ]
  },
  {
   "cell_type": "markdown",
   "id": "3b95a6b3",
   "metadata": {},
   "source": [
    "loc 메서드를 사용해 인덱스 값을 넘겨주면 됩니다."
   ]
  },
  {
   "cell_type": "code",
   "execution_count": 37,
   "id": "ce828d51",
   "metadata": {
    "scrolled": true
   },
   "outputs": [
    {
     "name": "stdout",
     "output_type": "stream",
     "text": [
      "Index(['open', 'high', 'low', 'close'], dtype='object')\n",
      "Index(['16.02.29', '16.02.26', '16.02.25', '16.02.24', '16.02.23'], dtype='object')\n"
     ]
    }
   ],
   "source": [
    "print(daeshin_day.columns)\n",
    "print(daeshin_day.index)"
   ]
  },
  {
   "cell_type": "code",
   "execution_count": 38,
   "id": "507b66c2",
   "metadata": {
    "scrolled": true
   },
   "outputs": [],
   "source": [
    "#day_data = daeshin_day.index['16.02.24']\n",
    "#print(day_data)"
   ]
  },
  {
   "cell_type": "code",
   "execution_count": 39,
   "id": "36dec828",
   "metadata": {},
   "outputs": [],
   "source": [
    "#!pip install pandas_datareader"
   ]
  },
  {
   "cell_type": "markdown",
   "id": "fab5c81f",
   "metadata": {},
   "source": [
    "아래와 같이 데이터를 가져올수도 있다."
   ]
  },
  {
   "cell_type": "code",
   "execution_count": 40,
   "id": "f9bc90ff",
   "metadata": {},
   "outputs": [],
   "source": [
    "import pandas_datareader.data as web\n",
    "import datetime\n",
    "start = datetime.datetime(2022, 7, 1)\n",
    "end = datetime.datetime(2022, 7, 21)"
   ]
  },
  {
   "cell_type": "code",
   "execution_count": 41,
   "id": "aad68d58",
   "metadata": {},
   "outputs": [],
   "source": [
    "start2 = datetime.datetime(2010, 1, 1)"
   ]
  },
  {
   "cell_type": "code",
   "execution_count": 42,
   "id": "70e9fe37",
   "metadata": {},
   "outputs": [],
   "source": [
    "gs = web.DataReader(\"078930.KS\", \"yahoo\", start, end)"
   ]
  },
  {
   "cell_type": "code",
   "execution_count": 43,
   "id": "64f9f0d3",
   "metadata": {
    "scrolled": true
   },
   "outputs": [
    {
     "data": {
      "text/html": [
       "<div>\n",
       "<style scoped>\n",
       "    .dataframe tbody tr th:only-of-type {\n",
       "        vertical-align: middle;\n",
       "    }\n",
       "\n",
       "    .dataframe tbody tr th {\n",
       "        vertical-align: top;\n",
       "    }\n",
       "\n",
       "    .dataframe thead th {\n",
       "        text-align: right;\n",
       "    }\n",
       "</style>\n",
       "<table border=\"1\" class=\"dataframe\">\n",
       "  <thead>\n",
       "    <tr style=\"text-align: right;\">\n",
       "      <th></th>\n",
       "      <th>High</th>\n",
       "      <th>Low</th>\n",
       "      <th>Open</th>\n",
       "      <th>Close</th>\n",
       "      <th>Volume</th>\n",
       "      <th>Adj Close</th>\n",
       "    </tr>\n",
       "    <tr>\n",
       "      <th>Date</th>\n",
       "      <th></th>\n",
       "      <th></th>\n",
       "      <th></th>\n",
       "      <th></th>\n",
       "      <th></th>\n",
       "      <th></th>\n",
       "    </tr>\n",
       "  </thead>\n",
       "  <tbody>\n",
       "    <tr>\n",
       "      <th>2022-07-01</th>\n",
       "      <td>42700</td>\n",
       "      <td>40550</td>\n",
       "      <td>42600</td>\n",
       "      <td>40900</td>\n",
       "      <td>223271</td>\n",
       "      <td>40900</td>\n",
       "    </tr>\n",
       "    <tr>\n",
       "      <th>2022-07-04</th>\n",
       "      <td>41200</td>\n",
       "      <td>40000</td>\n",
       "      <td>41100</td>\n",
       "      <td>40600</td>\n",
       "      <td>204840</td>\n",
       "      <td>40600</td>\n",
       "    </tr>\n",
       "    <tr>\n",
       "      <th>2022-07-05</th>\n",
       "      <td>41050</td>\n",
       "      <td>40200</td>\n",
       "      <td>40850</td>\n",
       "      <td>40950</td>\n",
       "      <td>209505</td>\n",
       "      <td>40950</td>\n",
       "    </tr>\n",
       "    <tr>\n",
       "      <th>2022-07-06</th>\n",
       "      <td>40350</td>\n",
       "      <td>38300</td>\n",
       "      <td>40300</td>\n",
       "      <td>38450</td>\n",
       "      <td>560899</td>\n",
       "      <td>38450</td>\n",
       "    </tr>\n",
       "    <tr>\n",
       "      <th>2022-07-07</th>\n",
       "      <td>39900</td>\n",
       "      <td>38450</td>\n",
       "      <td>38950</td>\n",
       "      <td>39600</td>\n",
       "      <td>267620</td>\n",
       "      <td>39600</td>\n",
       "    </tr>\n",
       "    <tr>\n",
       "      <th>2022-07-08</th>\n",
       "      <td>40300</td>\n",
       "      <td>39650</td>\n",
       "      <td>39750</td>\n",
       "      <td>39650</td>\n",
       "      <td>135373</td>\n",
       "      <td>39650</td>\n",
       "    </tr>\n",
       "    <tr>\n",
       "      <th>2022-07-11</th>\n",
       "      <td>40100</td>\n",
       "      <td>39350</td>\n",
       "      <td>39850</td>\n",
       "      <td>39600</td>\n",
       "      <td>141612</td>\n",
       "      <td>39600</td>\n",
       "    </tr>\n",
       "    <tr>\n",
       "      <th>2022-07-12</th>\n",
       "      <td>39700</td>\n",
       "      <td>38450</td>\n",
       "      <td>39700</td>\n",
       "      <td>38850</td>\n",
       "      <td>187872</td>\n",
       "      <td>38850</td>\n",
       "    </tr>\n",
       "    <tr>\n",
       "      <th>2022-07-13</th>\n",
       "      <td>39750</td>\n",
       "      <td>38300</td>\n",
       "      <td>38400</td>\n",
       "      <td>39200</td>\n",
       "      <td>240749</td>\n",
       "      <td>39200</td>\n",
       "    </tr>\n",
       "    <tr>\n",
       "      <th>2022-07-14</th>\n",
       "      <td>39850</td>\n",
       "      <td>38800</td>\n",
       "      <td>38900</td>\n",
       "      <td>39150</td>\n",
       "      <td>216922</td>\n",
       "      <td>39150</td>\n",
       "    </tr>\n",
       "    <tr>\n",
       "      <th>2022-07-15</th>\n",
       "      <td>39750</td>\n",
       "      <td>38150</td>\n",
       "      <td>39750</td>\n",
       "      <td>38700</td>\n",
       "      <td>245052</td>\n",
       "      <td>38700</td>\n",
       "    </tr>\n",
       "    <tr>\n",
       "      <th>2022-07-18</th>\n",
       "      <td>39600</td>\n",
       "      <td>38600</td>\n",
       "      <td>38900</td>\n",
       "      <td>39500</td>\n",
       "      <td>229419</td>\n",
       "      <td>39500</td>\n",
       "    </tr>\n",
       "    <tr>\n",
       "      <th>2022-07-19</th>\n",
       "      <td>40050</td>\n",
       "      <td>39450</td>\n",
       "      <td>39750</td>\n",
       "      <td>39850</td>\n",
       "      <td>121859</td>\n",
       "      <td>39850</td>\n",
       "    </tr>\n",
       "    <tr>\n",
       "      <th>2022-07-20</th>\n",
       "      <td>40400</td>\n",
       "      <td>39900</td>\n",
       "      <td>40300</td>\n",
       "      <td>40200</td>\n",
       "      <td>123559</td>\n",
       "      <td>40200</td>\n",
       "    </tr>\n",
       "    <tr>\n",
       "      <th>2022-07-21</th>\n",
       "      <td>40850</td>\n",
       "      <td>39700</td>\n",
       "      <td>39750</td>\n",
       "      <td>40800</td>\n",
       "      <td>195377</td>\n",
       "      <td>40800</td>\n",
       "    </tr>\n",
       "  </tbody>\n",
       "</table>\n",
       "</div>"
      ],
      "text/plain": [
       "             High    Low   Open  Close  Volume  Adj Close\n",
       "Date                                                     \n",
       "2022-07-01  42700  40550  42600  40900  223271      40900\n",
       "2022-07-04  41200  40000  41100  40600  204840      40600\n",
       "2022-07-05  41050  40200  40850  40950  209505      40950\n",
       "2022-07-06  40350  38300  40300  38450  560899      38450\n",
       "2022-07-07  39900  38450  38950  39600  267620      39600\n",
       "2022-07-08  40300  39650  39750  39650  135373      39650\n",
       "2022-07-11  40100  39350  39850  39600  141612      39600\n",
       "2022-07-12  39700  38450  39700  38850  187872      38850\n",
       "2022-07-13  39750  38300  38400  39200  240749      39200\n",
       "2022-07-14  39850  38800  38900  39150  216922      39150\n",
       "2022-07-15  39750  38150  39750  38700  245052      38700\n",
       "2022-07-18  39600  38600  38900  39500  229419      39500\n",
       "2022-07-19  40050  39450  39750  39850  121859      39850\n",
       "2022-07-20  40400  39900  40300  40200  123559      40200\n",
       "2022-07-21  40850  39700  39750  40800  195377      40800"
      ]
     },
     "execution_count": 43,
     "metadata": {},
     "output_type": "execute_result"
    }
   ],
   "source": [
    "gs"
   ]
  },
  {
   "cell_type": "code",
   "execution_count": 44,
   "id": "2c52c912",
   "metadata": {},
   "outputs": [],
   "source": [
    "gs = web.DataReader(\"078930.KS\", \"yahoo\", start2)"
   ]
  },
  {
   "cell_type": "markdown",
   "id": "e8047f1a",
   "metadata": {},
   "source": [
    "데이터 시작일과 종료일을 지정하지 않으면, 2010/1/1일부터 데이터를 조회한 날까지의 모든 데이터를 가져온다. "
   ]
  },
  {
   "cell_type": "code",
   "execution_count": 45,
   "id": "6f33c13a",
   "metadata": {
    "scrolled": true
   },
   "outputs": [
    {
     "name": "stdout",
     "output_type": "stream",
     "text": [
      "<class 'pandas.core.frame.DataFrame'>\n",
      "DatetimeIndex: 3096 entries, 2010-01-04 to 2022-07-22\n",
      "Data columns (total 6 columns):\n",
      " #   Column     Non-Null Count  Dtype  \n",
      "---  ------     --------------  -----  \n",
      " 0   High       3096 non-null   float64\n",
      " 1   Low        3096 non-null   float64\n",
      " 2   Open       3096 non-null   float64\n",
      " 3   Close      3096 non-null   float64\n",
      " 4   Volume     3096 non-null   float64\n",
      " 5   Adj Close  3096 non-null   float64\n",
      "dtypes: float64(6)\n",
      "memory usage: 169.3 KB\n"
     ]
    }
   ],
   "source": [
    "gs.info()"
   ]
  },
  {
   "cell_type": "code",
   "execution_count": 46,
   "id": "cb78c47c",
   "metadata": {},
   "outputs": [],
   "source": [
    "import matplotlib.pyplot as plt\n"
   ]
  },
  {
   "cell_type": "code",
   "execution_count": 47,
   "id": "02e3b16f",
   "metadata": {
    "scrolled": false
   },
   "outputs": [
    {
     "data": {
      "text/plain": [
       "[<matplotlib.lines.Line2D at 0x1c503cb0ee0>]"
      ]
     },
     "execution_count": 47,
     "metadata": {},
     "output_type": "execute_result"
    },
    {
     "data": {
      "image/png": "[encoded data removed]",
      "text/plain": [
       "<Figure size 432x288 with 1 Axes>"
      ]
     },
     "metadata": {
      "needs_background": "light"
     },
     "output_type": "display_data"
    }
   ],
   "source": [
    "plt.plot(gs['Adj Close'])"
   ]
  },
  {
   "cell_type": "code",
   "execution_count": 48,
   "id": "8b2706e7",
   "metadata": {},
   "outputs": [
    {
     "data": {
      "text/plain": [
       "DatetimeIndex(['2010-01-04', '2010-01-05', '2010-01-06', '2010-01-07',\n",
       "               '2010-01-08', '2010-01-11', '2010-01-12', '2010-01-13',\n",
       "               '2010-01-14', '2010-01-15',\n",
       "               ...\n",
       "               '2022-07-11', '2022-07-12', '2022-07-13', '2022-07-14',\n",
       "               '2022-07-15', '2022-07-18', '2022-07-19', '2022-07-20',\n",
       "               '2022-07-21', '2022-07-22'],\n",
       "              dtype='datetime64[ns]', name='Date', length=3096, freq=None)"
      ]
     },
     "execution_count": 48,
     "metadata": {},
     "output_type": "execute_result"
    }
   ],
   "source": [
    "gs.index"
   ]
  },
  {
   "cell_type": "code",
   "execution_count": 49,
   "id": "ee3ceafd",
   "metadata": {
    "scrolled": false
   },
   "outputs": [
    {
     "data": {
      "text/plain": [
       "[<matplotlib.lines.Line2D at 0x1c505de6100>]"
      ]
     },
     "execution_count": 49,
     "metadata": {},
     "output_type": "execute_result"
    },
    {
     "data": {
      "image/png": "[encoded data removed]",
      "text/plain": [
       "<Figure size 432x288 with 1 Axes>"
      ]
     },
     "metadata": {
      "needs_background": "light"
     },
     "output_type": "display_data"
    }
   ],
   "source": [
    "plt.plot(gs.index, gs['Adj Close'])"
   ]
  },
  {
   "cell_type": "markdown",
   "id": "ccf95bfa",
   "metadata": {},
   "source": [
    "## 이동평균선이란?\n",
    "\n",
    "\"일정 기간 동안의 주가를 산술 평균한 값인 주가이동평균을 차례로 연결해 만든 선\""
   ]
  },
  {
   "cell_type": "markdown",
   "id": "6632f38c",
   "metadata": {},
   "source": [
    "예를 들어, 이전 5일의 기간 동안 산술평균으로 금액을 계산하면, 5일 주가이동평균선이다. "
   ]
  },
  {
   "cell_type": "code",
   "execution_count": 50,
   "id": "a093509b",
   "metadata": {},
   "outputs": [
    {
     "data": {
      "text/html": [
       "<div>\n",
       "<style scoped>\n",
       "    .dataframe tbody tr th:only-of-type {\n",
       "        vertical-align: middle;\n",
       "    }\n",
       "\n",
       "    .dataframe tbody tr th {\n",
       "        vertical-align: top;\n",
       "    }\n",
       "\n",
       "    .dataframe thead th {\n",
       "        text-align: right;\n",
       "    }\n",
       "</style>\n",
       "<table border=\"1\" class=\"dataframe\">\n",
       "  <thead>\n",
       "    <tr style=\"text-align: right;\">\n",
       "      <th></th>\n",
       "      <th>High</th>\n",
       "      <th>Low</th>\n",
       "      <th>Open</th>\n",
       "      <th>Close</th>\n",
       "      <th>Volume</th>\n",
       "      <th>Adj Close</th>\n",
       "    </tr>\n",
       "    <tr>\n",
       "      <th>Date</th>\n",
       "      <th></th>\n",
       "      <th></th>\n",
       "      <th></th>\n",
       "      <th></th>\n",
       "      <th></th>\n",
       "      <th></th>\n",
       "    </tr>\n",
       "  </thead>\n",
       "  <tbody>\n",
       "    <tr>\n",
       "      <th>2010-01-04</th>\n",
       "      <td>34050.0</td>\n",
       "      <td>33500.0</td>\n",
       "      <td>33500.0</td>\n",
       "      <td>33750.0</td>\n",
       "      <td>237735.0</td>\n",
       "      <td>23050.585938</td>\n",
       "    </tr>\n",
       "    <tr>\n",
       "      <th>2010-01-05</th>\n",
       "      <td>34500.0</td>\n",
       "      <td>33600.0</td>\n",
       "      <td>33950.0</td>\n",
       "      <td>33900.0</td>\n",
       "      <td>440485.0</td>\n",
       "      <td>23153.035156</td>\n",
       "    </tr>\n",
       "    <tr>\n",
       "      <th>2010-01-06</th>\n",
       "      <td>34900.0</td>\n",
       "      <td>33900.0</td>\n",
       "      <td>33900.0</td>\n",
       "      <td>34250.0</td>\n",
       "      <td>534581.0</td>\n",
       "      <td>23392.076172</td>\n",
       "    </tr>\n",
       "    <tr>\n",
       "      <th>2010-01-07</th>\n",
       "      <td>35100.0</td>\n",
       "      <td>34300.0</td>\n",
       "      <td>34350.0</td>\n",
       "      <td>34600.0</td>\n",
       "      <td>543769.0</td>\n",
       "      <td>23631.119141</td>\n",
       "    </tr>\n",
       "    <tr>\n",
       "      <th>2010-01-08</th>\n",
       "      <td>35100.0</td>\n",
       "      <td>34200.0</td>\n",
       "      <td>34700.0</td>\n",
       "      <td>34450.0</td>\n",
       "      <td>553288.0</td>\n",
       "      <td>23528.671875</td>\n",
       "    </tr>\n",
       "    <tr>\n",
       "      <th>...</th>\n",
       "      <td>...</td>\n",
       "      <td>...</td>\n",
       "      <td>...</td>\n",
       "      <td>...</td>\n",
       "      <td>...</td>\n",
       "      <td>...</td>\n",
       "    </tr>\n",
       "    <tr>\n",
       "      <th>2022-07-18</th>\n",
       "      <td>39600.0</td>\n",
       "      <td>38600.0</td>\n",
       "      <td>38900.0</td>\n",
       "      <td>39500.0</td>\n",
       "      <td>229419.0</td>\n",
       "      <td>39500.000000</td>\n",
       "    </tr>\n",
       "    <tr>\n",
       "      <th>2022-07-19</th>\n",
       "      <td>40050.0</td>\n",
       "      <td>39450.0</td>\n",
       "      <td>39750.0</td>\n",
       "      <td>39850.0</td>\n",
       "      <td>121859.0</td>\n",
       "      <td>39850.000000</td>\n",
       "    </tr>\n",
       "    <tr>\n",
       "      <th>2022-07-20</th>\n",
       "      <td>40400.0</td>\n",
       "      <td>39900.0</td>\n",
       "      <td>40300.0</td>\n",
       "      <td>40200.0</td>\n",
       "      <td>123559.0</td>\n",
       "      <td>40200.000000</td>\n",
       "    </tr>\n",
       "    <tr>\n",
       "      <th>2022-07-21</th>\n",
       "      <td>40850.0</td>\n",
       "      <td>39700.0</td>\n",
       "      <td>39750.0</td>\n",
       "      <td>40800.0</td>\n",
       "      <td>195377.0</td>\n",
       "      <td>40800.000000</td>\n",
       "    </tr>\n",
       "    <tr>\n",
       "      <th>2022-07-22</th>\n",
       "      <td>40550.0</td>\n",
       "      <td>39700.0</td>\n",
       "      <td>40400.0</td>\n",
       "      <td>40150.0</td>\n",
       "      <td>140515.0</td>\n",
       "      <td>40150.000000</td>\n",
       "    </tr>\n",
       "  </tbody>\n",
       "</table>\n",
       "<p>3096 rows × 6 columns</p>\n",
       "</div>"
      ],
      "text/plain": [
       "               High      Low     Open    Close    Volume     Adj Close\n",
       "Date                                                                  \n",
       "2010-01-04  34050.0  33500.0  33500.0  33750.0  237735.0  23050.585938\n",
       "2010-01-05  34500.0  33600.0  33950.0  33900.0  440485.0  23153.035156\n",
       "2010-01-06  34900.0  33900.0  33900.0  34250.0  534581.0  23392.076172\n",
       "2010-01-07  35100.0  34300.0  34350.0  34600.0  543769.0  23631.119141\n",
       "2010-01-08  35100.0  34200.0  34700.0  34450.0  553288.0  23528.671875\n",
       "...             ...      ...      ...      ...       ...           ...\n",
       "2022-07-18  39600.0  38600.0  38900.0  39500.0  229419.0  39500.000000\n",
       "2022-07-19  40050.0  39450.0  39750.0  39850.0  121859.0  39850.000000\n",
       "2022-07-20  40400.0  39900.0  40300.0  40200.0  123559.0  40200.000000\n",
       "2022-07-21  40850.0  39700.0  39750.0  40800.0  195377.0  40800.000000\n",
       "2022-07-22  40550.0  39700.0  40400.0  40150.0  140515.0  40150.000000\n",
       "\n",
       "[3096 rows x 6 columns]"
      ]
     },
     "execution_count": 50,
     "metadata": {},
     "output_type": "execute_result"
    }
   ],
   "source": [
    "gs"
   ]
  },
  {
   "cell_type": "code",
   "execution_count": 51,
   "id": "2b4e788c",
   "metadata": {},
   "outputs": [],
   "source": [
    "ma5 = gs['Adj Close'].rolling(window=5).mean()"
   ]
  },
  {
   "cell_type": "code",
   "execution_count": 52,
   "id": "cb4f0a77",
   "metadata": {},
   "outputs": [
    {
     "data": {
      "text/plain": [
       "pandas.core.series.Series"
      ]
     },
     "execution_count": 52,
     "metadata": {},
     "output_type": "execute_result"
    }
   ],
   "source": [
    "type(ma5)\n"
   ]
  },
  {
   "cell_type": "code",
   "execution_count": 53,
   "id": "ac98d5a7",
   "metadata": {
    "scrolled": true
   },
   "outputs": [
    {
     "data": {
      "text/plain": [
       "Date\n",
       "2022-07-11    39650.0\n",
       "2022-07-12    39230.0\n",
       "2022-07-13    39380.0\n",
       "2022-07-14    39290.0\n",
       "2022-07-15    39100.0\n",
       "2022-07-18    39080.0\n",
       "2022-07-19    39280.0\n",
       "2022-07-20    39480.0\n",
       "2022-07-21    39810.0\n",
       "2022-07-22    40100.0\n",
       "Name: Adj Close, dtype: float64"
      ]
     },
     "execution_count": 53,
     "metadata": {},
     "output_type": "execute_result"
    }
   ],
   "source": [
    "ma5.tail(10)"
   ]
  },
  {
   "cell_type": "code",
   "execution_count": 54,
   "id": "c85d0bbb",
   "metadata": {
    "scrolled": true
   },
   "outputs": [
    {
     "data": {
      "text/plain": [
       "Date\n",
       "2010-01-04    True\n",
       "2010-01-05    True\n",
       "2010-01-06    True\n",
       "2010-01-07    True\n",
       "2010-01-08    True\n",
       "              ... \n",
       "2022-07-18    True\n",
       "2022-07-19    True\n",
       "2022-07-20    True\n",
       "2022-07-21    True\n",
       "2022-07-22    True\n",
       "Name: Volume, Length: 3096, dtype: bool"
      ]
     },
     "execution_count": 54,
     "metadata": {},
     "output_type": "execute_result"
    }
   ],
   "source": [
    "gs['Volume'] != 0"
   ]
  },
  {
   "cell_type": "code",
   "execution_count": 56,
   "id": "664ba41d",
   "metadata": {},
   "outputs": [],
   "source": [
    "new_gs = gs[gs['Volume'] !=0]"
   ]
  },
  {
   "cell_type": "code",
   "execution_count": 57,
   "id": "33b061d7",
   "metadata": {},
   "outputs": [
    {
     "data": {
      "text/html": [
       "<div>\n",
       "<style scoped>\n",
       "    .dataframe tbody tr th:only-of-type {\n",
       "        vertical-align: middle;\n",
       "    }\n",
       "\n",
       "    .dataframe tbody tr th {\n",
       "        vertical-align: top;\n",
       "    }\n",
       "\n",
       "    .dataframe thead th {\n",
       "        text-align: right;\n",
       "    }\n",
       "</style>\n",
       "<table border=\"1\" class=\"dataframe\">\n",
       "  <thead>\n",
       "    <tr style=\"text-align: right;\">\n",
       "      <th></th>\n",
       "      <th>High</th>\n",
       "      <th>Low</th>\n",
       "      <th>Open</th>\n",
       "      <th>Close</th>\n",
       "      <th>Volume</th>\n",
       "      <th>Adj Close</th>\n",
       "    </tr>\n",
       "    <tr>\n",
       "      <th>Date</th>\n",
       "      <th></th>\n",
       "      <th></th>\n",
       "      <th></th>\n",
       "      <th></th>\n",
       "      <th></th>\n",
       "      <th></th>\n",
       "    </tr>\n",
       "  </thead>\n",
       "  <tbody>\n",
       "    <tr>\n",
       "      <th>2022-07-18</th>\n",
       "      <td>39600.0</td>\n",
       "      <td>38600.0</td>\n",
       "      <td>38900.0</td>\n",
       "      <td>39500.0</td>\n",
       "      <td>229419.0</td>\n",
       "      <td>39500.0</td>\n",
       "    </tr>\n",
       "    <tr>\n",
       "      <th>2022-07-19</th>\n",
       "      <td>40050.0</td>\n",
       "      <td>39450.0</td>\n",
       "      <td>39750.0</td>\n",
       "      <td>39850.0</td>\n",
       "      <td>121859.0</td>\n",
       "      <td>39850.0</td>\n",
       "    </tr>\n",
       "    <tr>\n",
       "      <th>2022-07-20</th>\n",
       "      <td>40400.0</td>\n",
       "      <td>39900.0</td>\n",
       "      <td>40300.0</td>\n",
       "      <td>40200.0</td>\n",
       "      <td>123559.0</td>\n",
       "      <td>40200.0</td>\n",
       "    </tr>\n",
       "    <tr>\n",
       "      <th>2022-07-21</th>\n",
       "      <td>40850.0</td>\n",
       "      <td>39700.0</td>\n",
       "      <td>39750.0</td>\n",
       "      <td>40800.0</td>\n",
       "      <td>195377.0</td>\n",
       "      <td>40800.0</td>\n",
       "    </tr>\n",
       "    <tr>\n",
       "      <th>2022-07-22</th>\n",
       "      <td>40550.0</td>\n",
       "      <td>39700.0</td>\n",
       "      <td>40400.0</td>\n",
       "      <td>40150.0</td>\n",
       "      <td>140515.0</td>\n",
       "      <td>40150.0</td>\n",
       "    </tr>\n",
       "  </tbody>\n",
       "</table>\n",
       "</div>"
      ],
      "text/plain": [
       "               High      Low     Open    Close    Volume  Adj Close\n",
       "Date                                                               \n",
       "2022-07-18  39600.0  38600.0  38900.0  39500.0  229419.0    39500.0\n",
       "2022-07-19  40050.0  39450.0  39750.0  39850.0  121859.0    39850.0\n",
       "2022-07-20  40400.0  39900.0  40300.0  40200.0  123559.0    40200.0\n",
       "2022-07-21  40850.0  39700.0  39750.0  40800.0  195377.0    40800.0\n",
       "2022-07-22  40550.0  39700.0  40400.0  40150.0  140515.0    40150.0"
      ]
     },
     "execution_count": 57,
     "metadata": {},
     "output_type": "execute_result"
    }
   ],
   "source": [
    "new_gs.tail(5)\n"
   ]
  },
  {
   "cell_type": "code",
   "execution_count": 58,
   "id": "b1ffc16a",
   "metadata": {},
   "outputs": [],
   "source": [
    "ma5 =  new_gs['Adj Close'].rolling(window=5).mean()"
   ]
  },
  {
   "cell_type": "code",
   "execution_count": 59,
   "id": "85fa5647",
   "metadata": {},
   "outputs": [],
   "source": [
    "new_gs.insert(len(new_gs.columns), \"MA5\", ma5)\n"
   ]
  },
  {
   "cell_type": "code",
   "execution_count": 60,
   "id": "ffdee9db",
   "metadata": {
    "scrolled": true
   },
   "outputs": [
    {
     "data": {
      "text/html": [
       "<div>\n",
       "<style scoped>\n",
       "    .dataframe tbody tr th:only-of-type {\n",
       "        vertical-align: middle;\n",
       "    }\n",
       "\n",
       "    .dataframe tbody tr th {\n",
       "        vertical-align: top;\n",
       "    }\n",
       "\n",
       "    .dataframe thead th {\n",
       "        text-align: right;\n",
       "    }\n",
       "</style>\n",
       "<table border=\"1\" class=\"dataframe\">\n",
       "  <thead>\n",
       "    <tr style=\"text-align: right;\">\n",
       "      <th></th>\n",
       "      <th>High</th>\n",
       "      <th>Low</th>\n",
       "      <th>Open</th>\n",
       "      <th>Close</th>\n",
       "      <th>Volume</th>\n",
       "      <th>Adj Close</th>\n",
       "      <th>MA5</th>\n",
       "    </tr>\n",
       "    <tr>\n",
       "      <th>Date</th>\n",
       "      <th></th>\n",
       "      <th></th>\n",
       "      <th></th>\n",
       "      <th></th>\n",
       "      <th></th>\n",
       "      <th></th>\n",
       "      <th></th>\n",
       "    </tr>\n",
       "  </thead>\n",
       "  <tbody>\n",
       "    <tr>\n",
       "      <th>2022-07-18</th>\n",
       "      <td>39600.0</td>\n",
       "      <td>38600.0</td>\n",
       "      <td>38900.0</td>\n",
       "      <td>39500.0</td>\n",
       "      <td>229419.0</td>\n",
       "      <td>39500.0</td>\n",
       "      <td>39080.0</td>\n",
       "    </tr>\n",
       "    <tr>\n",
       "      <th>2022-07-19</th>\n",
       "      <td>40050.0</td>\n",
       "      <td>39450.0</td>\n",
       "      <td>39750.0</td>\n",
       "      <td>39850.0</td>\n",
       "      <td>121859.0</td>\n",
       "      <td>39850.0</td>\n",
       "      <td>39280.0</td>\n",
       "    </tr>\n",
       "    <tr>\n",
       "      <th>2022-07-20</th>\n",
       "      <td>40400.0</td>\n",
       "      <td>39900.0</td>\n",
       "      <td>40300.0</td>\n",
       "      <td>40200.0</td>\n",
       "      <td>123559.0</td>\n",
       "      <td>40200.0</td>\n",
       "      <td>39480.0</td>\n",
       "    </tr>\n",
       "    <tr>\n",
       "      <th>2022-07-21</th>\n",
       "      <td>40850.0</td>\n",
       "      <td>39700.0</td>\n",
       "      <td>39750.0</td>\n",
       "      <td>40800.0</td>\n",
       "      <td>195377.0</td>\n",
       "      <td>40800.0</td>\n",
       "      <td>39810.0</td>\n",
       "    </tr>\n",
       "    <tr>\n",
       "      <th>2022-07-22</th>\n",
       "      <td>40550.0</td>\n",
       "      <td>39700.0</td>\n",
       "      <td>40400.0</td>\n",
       "      <td>40150.0</td>\n",
       "      <td>140515.0</td>\n",
       "      <td>40150.0</td>\n",
       "      <td>40100.0</td>\n",
       "    </tr>\n",
       "  </tbody>\n",
       "</table>\n",
       "</div>"
      ],
      "text/plain": [
       "               High      Low     Open    Close    Volume  Adj Close      MA5\n",
       "Date                                                                        \n",
       "2022-07-18  39600.0  38600.0  38900.0  39500.0  229419.0    39500.0  39080.0\n",
       "2022-07-19  40050.0  39450.0  39750.0  39850.0  121859.0    39850.0  39280.0\n",
       "2022-07-20  40400.0  39900.0  40300.0  40200.0  123559.0    40200.0  39480.0\n",
       "2022-07-21  40850.0  39700.0  39750.0  40800.0  195377.0    40800.0  39810.0\n",
       "2022-07-22  40550.0  39700.0  40400.0  40150.0  140515.0    40150.0  40100.0"
      ]
     },
     "execution_count": 60,
     "metadata": {},
     "output_type": "execute_result"
    }
   ],
   "source": [
    "new_gs.tail(5)\n"
   ]
  },
  {
   "cell_type": "code",
   "execution_count": 61,
   "id": "8017b341",
   "metadata": {},
   "outputs": [],
   "source": [
    "ma20 = new_gs['Adj Close'].rolling(window=20).mean()\n"
   ]
  },
  {
   "cell_type": "code",
   "execution_count": 62,
   "id": "3175d8da",
   "metadata": {},
   "outputs": [],
   "source": [
    "ma60 = new_gs['Adj Close'].rolling(window=60).mean()\n"
   ]
  },
  {
   "cell_type": "code",
   "execution_count": 63,
   "id": "bb4af69c",
   "metadata": {},
   "outputs": [],
   "source": [
    "ma120 = new_gs['Adj Close'].rolling(window=120).mean()\n"
   ]
  },
  {
   "cell_type": "code",
   "execution_count": 64,
   "id": "4b099fb7",
   "metadata": {},
   "outputs": [],
   "source": [
    "new_gs.insert(len(new_gs.columns), \"MA20\", ma20)\n"
   ]
  },
  {
   "cell_type": "code",
   "execution_count": 65,
   "id": "711916d7",
   "metadata": {},
   "outputs": [],
   "source": [
    "new_gs.insert(len(new_gs.columns), \"MA60\", ma60)\n"
   ]
  },
  {
   "cell_type": "code",
   "execution_count": 66,
   "id": "842b1de9",
   "metadata": {},
   "outputs": [],
   "source": [
    "new_gs.insert(len(new_gs.columns), \"MA120\", ma120)\n"
   ]
  },
  {
   "cell_type": "code",
   "execution_count": 67,
   "id": "0ad621a5",
   "metadata": {},
   "outputs": [],
   "source": [
    "import matplotlib.pyplot as plt\n"
   ]
  },
  {
   "cell_type": "code",
   "execution_count": 68,
   "id": "7ef3316e",
   "metadata": {},
   "outputs": [
    {
     "data": {
      "text/plain": [
       "[<matplotlib.lines.Line2D at 0x1c506987f70>]"
      ]
     },
     "execution_count": 68,
     "metadata": {},
     "output_type": "execute_result"
    },
    {
     "data": {
      "image/png": "[encoded data removed]",
      "text/plain": [
       "<Figure size 432x288 with 1 Axes>"
      ]
     },
     "metadata": {
      "needs_background": "light"
     },
     "output_type": "display_data"
    }
   ],
   "source": [
    "plt.plot(new_gs.index, new_gs['Adj Close'], label=\"Adj Close\")\n"
   ]
  },
  {
   "cell_type": "code",
   "execution_count": 69,
   "id": "20a43870",
   "metadata": {
    "scrolled": true
   },
   "outputs": [
    {
     "data": {
      "text/plain": [
       "[<matplotlib.lines.Line2D at 0x1c57ffc2700>]"
      ]
     },
     "execution_count": 69,
     "metadata": {},
     "output_type": "execute_result"
    },
    {
     "data": {
      "image/png": "[encoded data removed]",
      "text/plain": [
       "<Figure size 432x288 with 1 Axes>"
      ]
     },
     "metadata": {
      "needs_background": "light"
     },
     "output_type": "display_data"
    }
   ],
   "source": [
    "plt.plot(new_gs.index, new_gs['MA5'], label=\"MA5\")"
   ]
  },
  {
   "cell_type": "code",
   "execution_count": 70,
   "id": "5fc53890",
   "metadata": {
    "scrolled": true
   },
   "outputs": [
    {
     "data": {
      "text/plain": [
       "[<matplotlib.lines.Line2D at 0x1c5069d34f0>]"
      ]
     },
     "execution_count": 70,
     "metadata": {},
     "output_type": "execute_result"
    },
    {
     "data": {
      "image/png": "[encoded data removed]",
      "text/plain": [
       "<Figure size 432x288 with 1 Axes>"
      ]
     },
     "metadata": {
      "needs_background": "light"
     },
     "output_type": "display_data"
    }
   ],
   "source": [
    "plt.plot(new_gs.index, new_gs['MA20'], label=\"MA20\")"
   ]
  },
  {
   "cell_type": "code",
   "execution_count": 71,
   "id": "751b9212",
   "metadata": {
    "scrolled": true
   },
   "outputs": [
    {
     "data": {
      "text/plain": [
       "[<matplotlib.lines.Line2D at 0x1c506a55d30>]"
      ]
     },
     "execution_count": 71,
     "metadata": {},
     "output_type": "execute_result"
    },
    {
     "data": {
      "image/png": "[encoded data removed]",
      "text/plain": [
       "<Figure size 432x288 with 1 Axes>"
      ]
     },
     "metadata": {
      "needs_background": "light"
     },
     "output_type": "display_data"
    }
   ],
   "source": [
    "plt.plot(new_gs.index, new_gs['MA60'], label=\"MA60\")"
   ]
  },
  {
   "cell_type": "code",
   "execution_count": 72,
   "id": "1a512a28",
   "metadata": {
    "scrolled": true
   },
   "outputs": [
    {
     "data": {
      "text/plain": [
       "[<matplotlib.lines.Line2D at 0x1c506a9c430>]"
      ]
     },
     "execution_count": 72,
     "metadata": {},
     "output_type": "execute_result"
    },
    {
     "data": {
      "image/png": "[encoded data removed]",
      "text/plain": [
       "<Figure size 432x288 with 1 Axes>"
      ]
     },
     "metadata": {
      "needs_background": "light"
     },
     "output_type": "display_data"
    }
   ],
   "source": [
    "plt.plot(new_gs.index, new_gs['MA120'], label=\"MA120\")"
   ]
  },
  {
   "cell_type": "code",
   "execution_count": 73,
   "id": "68f93f40",
   "metadata": {
    "scrolled": true
   },
   "outputs": [
    {
     "name": "stderr",
     "output_type": "stream",
     "text": [
      "No artists with labels found to put in legend.  Note that artists whose label start with an underscore are ignored when legend() is called with no argument.\n"
     ]
    },
    {
     "data": {
      "text/plain": [
       "<matplotlib.legend.Legend at 0x1c506b276a0>"
      ]
     },
     "execution_count": 73,
     "metadata": {},
     "output_type": "execute_result"
    },
    {
     "data": {
      "image/png": "[encoded data removed]",
      "text/plain": [
       "<Figure size 432x288 with 1 Axes>"
      ]
     },
     "metadata": {
      "needs_background": "light"
     },
     "output_type": "display_data"
    }
   ],
   "source": [
    "plt.legend(loc='best')"
   ]
  },
  {
   "cell_type": "code",
   "execution_count": 74,
   "id": "946397bc",
   "metadata": {},
   "outputs": [
    {
     "data": {
      "image/png": "[encoded data removed]",
      "text/plain": [
       "<Figure size 432x288 with 1 Axes>"
      ]
     },
     "metadata": {
      "needs_background": "light"
     },
     "output_type": "display_data"
    }
   ],
   "source": [
    "plt.grid()"
   ]
  },
  {
   "cell_type": "code",
   "execution_count": 79,
   "id": "bfa337b2",
   "metadata": {
    "scrolled": false
   },
   "outputs": [
    {
     "data": {
      "image/png": "[encoded data removed]",
      "text/plain": [
       "<Figure size 432x288 with 1 Axes>"
      ]
     },
     "metadata": {
      "needs_background": "light"
     },
     "output_type": "display_data"
    }
   ],
   "source": [
    "import pandas as pd\n",
    "import pandas_datareader.data as web\n",
    "import matplotlib.pyplot as plt\n",
    "\n",
    "# Get GS Data from Yahoo\n",
    "gs = web.DataReader(\"078930.KS\", \"yahoo\", \"2022-01-01\", \"2022-07-22\")\n",
    "new_gs = gs[gs['Volume']!=0]\n",
    "\n",
    "# Moving average\n",
    "ma5 = new_gs['Adj Close'].rolling(window=5).mean()\n",
    "ma20 = new_gs['Adj Close'].rolling(window=20).mean()\n",
    "ma60 = new_gs['Adj Close'].rolling(window=60).mean()\n",
    "ma120 = new_gs['Adj Close'].rolling(window=120).mean()\n",
    "\n",
    "# Insert columns\n",
    "new_gs.insert(len(new_gs.columns), \"MA5\", ma5)\n",
    "new_gs.insert(len(new_gs.columns), \"MA20\", ma20)\n",
    "new_gs.insert(len(new_gs.columns), \"MA60\", ma60)\n",
    "new_gs.insert(len(new_gs.columns), \"MA120\", ma120)\n",
    "\n",
    "# Plot\n",
    "plt.plot(new_gs.index, new_gs['Adj Close'], label='Adj Close')\n",
    "plt.plot(new_gs.index, new_gs['MA5'], label='MA5')\n",
    "plt.plot(new_gs.index, new_gs['MA20'], label='MA20')\n",
    "plt.plot(new_gs.index, new_gs['MA60'], label='MA60')\n",
    "plt.plot(new_gs.index, new_gs['MA120'], label='MA120')\n",
    "\n",
    "plt.legend(loc=\"best\")\n",
    "plt.grid()\n",
    "plt.show()"
   ]
  },
  {
   "cell_type": "markdown",
   "id": "89beb0d4",
   "metadata": {},
   "source": [
    "# Pandas와 zipline을 이용한 백테스팅 (revision)"
   ]
  }
 ],
 "metadata": {
  "kernelspec": {
   "display_name": "Python 3 (ipykernel)",
   "language": "python",
   "name": "python3"
  },
  "language_info": {
   "codemirror_mode": {
    "name": "ipython",
    "version": 3
   },
   "file_extension": ".py",
   "mimetype": "text/x-python",
   "name": "python",
   "nbconvert_exporter": "python",
   "pygments_lexer": "ipython3",
   "version": "3.8.13"
  }
 },
 "nbformat": 4,
 "nbformat_minor": 5
}
