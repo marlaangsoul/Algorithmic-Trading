{
 "cells": [
  {
   "cell_type": "code",
   "execution_count": 1,
   "id": "bf2658ef",
   "metadata": {},
   "outputs": [],
   "source": [
    "mystock = ['kakao', 'naver']\n"
   ]
  },
  {
   "cell_type": "code",
   "execution_count": 2,
   "id": "64540d47",
   "metadata": {},
   "outputs": [
    {
     "name": "stdout",
     "output_type": "stream",
     "text": [
      "kakao\n",
      "naver\n"
     ]
    }
   ],
   "source": [
    "print(mystock[0])\n",
    "print(mystock[1])\n"
   ]
  },
  {
   "cell_type": "code",
   "execution_count": 3,
   "id": "f0cede6d",
   "metadata": {},
   "outputs": [
    {
     "name": "stdout",
     "output_type": "stream",
     "text": [
      "kakao\n",
      "naver\n"
     ]
    }
   ],
   "source": [
    "for stock in mystock:\n",
    "    print(stock)"
   ]
  },
  {
   "cell_type": "markdown",
   "id": "29d4b9db",
   "metadata": {},
   "source": [
    "파이썬 리스트는 반복문을 사용할 수 있다는 장점 외에도 다양한 메서드를 제공합니다. 대표적으로 insert, append, index 등이 있다\n"
   ]
  },
  {
   "cell_type": "code",
   "execution_count": 4,
   "id": "bc828521",
   "metadata": {},
   "outputs": [
    {
     "name": "stdout",
     "output_type": "stream",
     "text": [
      "room1\n",
      "room2\n"
     ]
    }
   ],
   "source": [
    "exam_dic = {'key1': 'room1', 'key2':'room2'}\n",
    "print(exam_dic['key1'])\n",
    "print(exam_dic['key2'])\n"
   ]
  },
  {
   "cell_type": "code",
   "execution_count": 6,
   "id": "813099b2",
   "metadata": {},
   "outputs": [],
   "source": [
    "kakao_daily_ending_prices = [92300, 94300, 92100, 92400, 92600]"
   ]
  },
  {
   "cell_type": "code",
   "execution_count": 7,
   "id": "0e4806bf",
   "metadata": {
    "scrolled": true
   },
   "outputs": [
    {
     "name": "stdout",
     "output_type": "stream",
     "text": [
      "92300\n",
      "94300\n",
      "92100\n",
      "92400\n",
      "92600\n"
     ]
    }
   ],
   "source": [
    "for price in kakao_daily_ending_prices:\n",
    "    print(price)"
   ]
  },
  {
   "cell_type": "code",
   "execution_count": 8,
   "id": "db4db101",
   "metadata": {},
   "outputs": [],
   "source": [
    "kakao_daily_ending_prices = {'2016-02-19': 92600,\n",
    "                             '2016-02-18': 92400,\n",
    "                             '2016-02-17': 92100,\n",
    "                             '2016-02-16': 94300,\n",
    "                             '2016-02-15': 92300}"
   ]
  },
  {
   "cell_type": "code",
   "execution_count": 10,
   "id": "8972bb64",
   "metadata": {
    "scrolled": true
   },
   "outputs": [
    {
     "name": "stdout",
     "output_type": "stream",
     "text": [
      "92100\n"
     ]
    }
   ],
   "source": [
    "print(kakao_daily_ending_prices['2016-02-17'])"
   ]
  },
  {
   "cell_type": "markdown",
   "id": "c214787a",
   "metadata": {},
   "source": [
    "Series 기초\n"
   ]
  },
  {
   "cell_type": "code",
   "execution_count": 11,
   "id": "f4259b29",
   "metadata": {},
   "outputs": [],
   "source": [
    "from pandas import Series, DataFrame\n"
   ]
  },
  {
   "cell_type": "code",
   "execution_count": 12,
   "id": "932d9550",
   "metadata": {},
   "outputs": [
    {
     "name": "stdout",
     "output_type": "stream",
     "text": [
      "<class 'pandas.core.series.Series'>\n"
     ]
    }
   ],
   "source": [
    "import pandas\n",
    "print(pandas.Series)\n"
   ]
  },
  {
   "cell_type": "code",
   "execution_count": 13,
   "id": "975eb3a5",
   "metadata": {},
   "outputs": [
    {
     "name": "stdout",
     "output_type": "stream",
     "text": [
      "0    92600\n",
      "1    92400\n",
      "2    92100\n",
      "3    94300\n",
      "4    92300\n",
      "dtype: int64\n"
     ]
    }
   ],
   "source": [
    "kakao = Series([92600, 92400, 92100, 94300, 92300])\n",
    "print(kakao)"
   ]
  },
  {
   "cell_type": "markdown",
   "id": "d1cad483",
   "metadata": {},
   "source": [
    "Series 객체는 일차원 배열과 달리 값뿐만 아니라 각 값에 연결된 인덱스 값도 동시에 저장합니다."
   ]
  },
  {
   "cell_type": "code",
   "execution_count": 14,
   "id": "fa17f408",
   "metadata": {},
   "outputs": [
    {
     "name": "stdout",
     "output_type": "stream",
     "text": [
      "92600\n",
      "92100\n",
      "92300\n"
     ]
    }
   ],
   "source": [
    "print(kakao[0])\n",
    "print(kakao[2])\n",
    "print(kakao[4])\n"
   ]
  },
  {
   "cell_type": "code",
   "execution_count": 15,
   "id": "a75f8079",
   "metadata": {},
   "outputs": [],
   "source": [
    "kakao2 = Series([92600, 92400, 92100, 94300, 92300],\n",
    "                index=['2016-02-19',                       \n",
    "                       '2016-02-18',                 \n",
    "                       '2016-02-17',                                                            \n",
    "                       '2016-02-16',                                                           \n",
    "                       '2016-02-15'])\n"
   ]
  },
  {
   "cell_type": "code",
   "execution_count": 16,
   "id": "eb2d51a9",
   "metadata": {},
   "outputs": [
    {
     "name": "stdout",
     "output_type": "stream",
     "text": [
      "2016-02-19    92600\n",
      "2016-02-18    92400\n",
      "2016-02-17    92100\n",
      "2016-02-16    94300\n",
      "2016-02-15    92300\n",
      "dtype: int64\n"
     ]
    }
   ],
   "source": [
    "print(kakao2)\n"
   ]
  },
  {
   "attachments": {
    "image.png": {
     "image/png": "[encoded data removed]"
    }
   },
   "cell_type": "markdown",
   "id": "ba8bc846",
   "metadata": {},
   "source": [
    "![image.png](attachment:image.png)"
   ]
  },
  {
   "cell_type": "code",
   "execution_count": 17,
   "id": "b66406e8",
   "metadata": {},
   "outputs": [
    {
     "name": "stdout",
     "output_type": "stream",
     "text": [
      "92600\n",
      "92400\n"
     ]
    }
   ],
   "source": [
    "print(kakao2['2016-02-19'])\n",
    "print(kakao2['2016-02-18'])"
   ]
  },
  {
   "cell_type": "code",
   "execution_count": 18,
   "id": "67c532e8",
   "metadata": {},
   "outputs": [
    {
     "name": "stdout",
     "output_type": "stream",
     "text": [
      "2016-02-19\n",
      "2016-02-18\n",
      "2016-02-17\n",
      "2016-02-16\n",
      "2016-02-15\n"
     ]
    }
   ],
   "source": [
    "for date in kakao2.index:\n",
    "    print(date)"
   ]
  },
  {
   "cell_type": "code",
   "execution_count": 19,
   "id": "3e1149a3",
   "metadata": {
    "scrolled": true
   },
   "outputs": [
    {
     "name": "stdout",
     "output_type": "stream",
     "text": [
      "92600\n",
      "92400\n",
      "92100\n",
      "94300\n",
      "92300\n"
     ]
    }
   ],
   "source": [
    "for ending_price in kakao2.values:\n",
    "    print(ending_price)"
   ]
  },
  {
   "cell_type": "markdown",
   "id": "5cd7431e",
   "metadata": {},
   "source": [
    "pandas의 Series는 서로 다르게 인덱싱된 데이터에 대해서도 알아서 덧셈 연산을 처리해 준다."
   ]
  },
  {
   "cell_type": "code",
   "execution_count": 22,
   "id": "7ba14405",
   "metadata": {},
   "outputs": [],
   "source": [
    "from pandas import Series, DataFrame\n",
    "\n",
    "mine   = Series([10, 20, 30], index=['naver', 'sk', 'kt'])\n",
    "# friend = Series(index=['kt', 'naver', 'sk'], [10, 30, 20]) <<< 에러\n",
    "friend = Series([10, 30, 20], index=['kt', 'naver', 'sk'])"
   ]
  },
  {
   "attachments": {
    "image.png": {
     "image/png": "[encoded data removed]"
    }
   },
   "cell_type": "markdown",
   "id": "a0da1ed0",
   "metadata": {},
   "source": [
    "![image.png](attachment:image.png)"
   ]
  },
  {
   "cell_type": "markdown",
   "id": "160b132d",
   "metadata": {},
   "source": [
    "인덱스의 순서가 다르다. "
   ]
  },
  {
   "cell_type": "code",
   "execution_count": 23,
   "id": "a66e1ecd",
   "metadata": {
    "scrolled": true
   },
   "outputs": [
    {
     "name": "stdout",
     "output_type": "stream",
     "text": [
      "kt       40\n",
      "naver    40\n",
      "sk       40\n",
      "dtype: int64\n"
     ]
    }
   ],
   "source": [
    "merge = mine + friend\n",
    "print(merge)"
   ]
  },
  {
   "cell_type": "markdown",
   "id": "eedd6794",
   "metadata": {},
   "source": [
    "같은 값끼리 인덱스로 정상적인 덧셈을 해준다. "
   ]
  },
  {
   "cell_type": "markdown",
   "id": "ae179965",
   "metadata": {},
   "source": [
    "# 1) DataFrame 생성\n"
   ]
  },
  {
   "cell_type": "code",
   "execution_count": 24,
   "id": "b3320fb2",
   "metadata": {},
   "outputs": [],
   "source": [
    "from pandas import Series, DataFrame"
   ]
  },
  {
   "cell_type": "code",
   "execution_count": 25,
   "id": "75a14761",
   "metadata": {},
   "outputs": [],
   "source": [
    "raw_data = {'col0': [1, 2, 3, 4],\n",
    "            'col1': [10, 20, 30, 40],\n",
    "            'col2': [100, 200, 300, 400]}\n",
    "data = DataFrame(raw_data)"
   ]
  },
  {
   "cell_type": "code",
   "execution_count": 26,
   "id": "7271868e",
   "metadata": {
    "scrolled": true
   },
   "outputs": [
    {
     "name": "stdout",
     "output_type": "stream",
     "text": [
      "   col0  col1  col2\n",
      "0     1    10   100\n",
      "1     2    20   200\n",
      "2     3    30   300\n",
      "3     4    40   400\n"
     ]
    }
   ],
   "source": [
    "print(data)"
   ]
  },
  {
   "cell_type": "code",
   "execution_count": 28,
   "id": "8bd1175c",
   "metadata": {},
   "outputs": [
    {
     "data": {
      "text/plain": [
       "0    1\n",
       "1    2\n",
       "2    3\n",
       "3    4\n",
       "Name: col0, dtype: int64"
      ]
     },
     "execution_count": 28,
     "metadata": {},
     "output_type": "execute_result"
    }
   ],
   "source": [
    "data['col0']"
   ]
  },
  {
   "cell_type": "code",
   "execution_count": 29,
   "id": "d94467a8",
   "metadata": {},
   "outputs": [
    {
     "data": {
      "text/plain": [
       "0    10\n",
       "1    20\n",
       "2    30\n",
       "3    40\n",
       "Name: col1, dtype: int64"
      ]
     },
     "execution_count": 29,
     "metadata": {},
     "output_type": "execute_result"
    }
   ],
   "source": [
    "data['col1']\n"
   ]
  },
  {
   "cell_type": "code",
   "execution_count": 30,
   "id": "8beb1970",
   "metadata": {},
   "outputs": [
    {
     "data": {
      "text/plain": [
       "0    100\n",
       "1    200\n",
       "2    300\n",
       "3    400\n",
       "Name: col2, dtype: int64"
      ]
     },
     "execution_count": 30,
     "metadata": {},
     "output_type": "execute_result"
    }
   ],
   "source": [
    "data['col2']\n"
   ]
  },
  {
   "cell_type": "code",
   "execution_count": 31,
   "id": "1a9cffcf",
   "metadata": {},
   "outputs": [
    {
     "data": {
      "text/plain": [
       "pandas.core.series.Series"
      ]
     },
     "execution_count": 31,
     "metadata": {},
     "output_type": "execute_result"
    }
   ],
   "source": [
    "type(data['col0'])\n"
   ]
  },
  {
   "attachments": {
    "image.png": {
     "image/png": "[encoded data removed]"
    }
   },
   "cell_type": "markdown",
   "id": "ea39aa3c",
   "metadata": {},
   "source": [
    "![image.png](attachment:image.png)"
   ]
  },
  {
   "attachments": {
    "image.png": {
     "image/png": "[encoded data removed]"
    }
   },
   "cell_type": "markdown",
   "id": "b33d2839",
   "metadata": {},
   "source": [
    "![image.png](attachment:image.png)"
   ]
  },
  {
   "cell_type": "code",
   "execution_count": 33,
   "id": "f721c425",
   "metadata": {},
   "outputs": [],
   "source": [
    "from pandas import Series, DataFrame\n",
    "daeshin = {'open':  [11650, 11100, 11200, 11100, 11000],\n",
    "           'high':  [12100, 11800, 11200, 11100, 11150],\n",
    "           'low' :  [11600, 11050, 10900, 10950, 10900],\n",
    "           'close': [11900, 11600, 11000, 11100, 11050]}\n"
   ]
  },
  {
   "cell_type": "code",
   "execution_count": 34,
   "id": "2442079d",
   "metadata": {},
   "outputs": [],
   "source": [
    "daeshin_day  = DataFrame(daeshin)"
   ]
  },
  {
   "cell_type": "code",
   "execution_count": 35,
   "id": "2ec15c00",
   "metadata": {
    "scrolled": true
   },
   "outputs": [
    {
     "name": "stdout",
     "output_type": "stream",
     "text": [
      "    open   high    low  close\n",
      "0  11650  12100  11600  11900\n",
      "1  11100  11800  11050  11600\n",
      "2  11200  11200  10900  11000\n",
      "3  11100  11100  10950  11100\n",
      "4  11000  11150  10900  11050\n"
     ]
    }
   ],
   "source": [
    "print(daeshin_day)\n"
   ]
  },
  {
   "cell_type": "code",
   "execution_count": 36,
   "id": "0594e739",
   "metadata": {},
   "outputs": [],
   "source": [
    "daeshin_day = DataFrame(daeshin, columns=['open', 'high', 'low', 'close'])"
   ]
  },
  {
   "cell_type": "code",
   "execution_count": 38,
   "id": "4ed9df59",
   "metadata": {
    "scrolled": true
   },
   "outputs": [
    {
     "name": "stdout",
     "output_type": "stream",
     "text": [
      "    open   high    low  close\n",
      "0  11650  12100  11600  11900\n",
      "1  11100  11800  11050  11600\n",
      "2  11200  11200  10900  11000\n",
      "3  11100  11100  10950  11100\n",
      "4  11000  11150  10900  11050\n"
     ]
    }
   ],
   "source": [
    "print(daeshin_day)"
   ]
  },
  {
   "cell_type": "code",
   "execution_count": 39,
   "id": "41a05449",
   "metadata": {},
   "outputs": [],
   "source": [
    "date = ['16.02.29', '16.02.26', '16.02.25', '16.02.24', '16.02.23']\n",
    "daeshin_day = DataFrame(daeshin, columns=['open', 'high', 'low', 'close'], index=date)\n"
   ]
  },
  {
   "cell_type": "code",
   "execution_count": 40,
   "id": "2a87be44",
   "metadata": {},
   "outputs": [
    {
     "name": "stdout",
     "output_type": "stream",
     "text": [
      "           open   high    low  close\n",
      "16.02.29  11650  12100  11600  11900\n",
      "16.02.26  11100  11800  11050  11600\n",
      "16.02.25  11200  11200  10900  11000\n",
      "16.02.24  11100  11100  10950  11100\n",
      "16.02.23  11000  11150  10900  11050\n"
     ]
    }
   ],
   "source": [
    "print(daeshin_day)"
   ]
  }
 ],
 "metadata": {
  "kernelspec": {
   "display_name": "Python 3 (ipykernel)",
   "language": "python",
   "name": "python3"
  },
  "language_info": {
   "codemirror_mode": {
    "name": "ipython",
    "version": 3
   },
   "file_extension": ".py",
   "mimetype": "text/x-python",
   "name": "python",
   "nbconvert_exporter": "python",
   "pygments_lexer": "ipython3",
   "version": "3.8.13"
  }
 },
 "nbformat": 4,
 "nbformat_minor": 5
}
