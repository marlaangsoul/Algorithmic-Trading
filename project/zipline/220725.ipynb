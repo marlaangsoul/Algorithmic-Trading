{
 "cells": [
  {
   "cell_type": "code",
   "execution_count": 8,
   "metadata": {
    "scrolled": true
   },
   "outputs": [
    {
     "name": "stdout",
     "output_type": "stream",
     "text": [
      "Requirement already satisfied: zipline in c:\\users\\notebook\\.conda\\envs\\py36\\lib\\site-packages (1.4.1)\n",
      "Requirement already satisfied: iso4217>=1.6.20180829 in c:\\users\\notebook\\.conda\\envs\\py36\\lib\\site-packages (from zipline) (1.11.20220401)\n",
      "Requirement already satisfied: pandas-datareader<0.9.0,>=0.2.1 in c:\\users\\notebook\\.conda\\envs\\py36\\lib\\site-packages (from zipline) (0.8.1)\n",
      "Requirement already satisfied: bottleneck>=1.0.0 in c:\\users\\notebook\\.conda\\envs\\py36\\lib\\site-packages (from zipline) (1.3.2)\n",
      "Requirement already satisfied: toolz>=0.8.2 in c:\\users\\notebook\\.conda\\envs\\py36\\lib\\site-packages (from zipline) (0.10.0)\n",
      "Requirement already satisfied: patsy>=0.4.0 in c:\\users\\notebook\\.conda\\envs\\py36\\lib\\site-packages (from zipline) (0.5.1)\n",
      "Requirement already satisfied: click>=4.0.0 in c:\\users\\notebook\\.conda\\envs\\py36\\lib\\site-packages (from zipline) (7.1.2)\n",
      "Requirement already satisfied: trading-calendars>=1.6.1 in c:\\users\\notebook\\.conda\\envs\\py36\\lib\\site-packages (from zipline) (2.1.1)\n",
      "Requirement already satisfied: empyrical>=0.5.0 in c:\\users\\notebook\\.conda\\envs\\py36\\lib\\site-packages (from zipline) (0.5.5)\n",
      "Requirement already satisfied: six>=1.10.0 in c:\\users\\notebook\\.conda\\envs\\py36\\lib\\site-packages (from zipline) (1.15.0)\n",
      "Requirement already satisfied: statsmodels>=0.6.1 in c:\\users\\notebook\\.conda\\envs\\py36\\lib\\site-packages (from zipline) (0.11.1)\n",
      "Requirement already satisfied: scipy>=0.17.1 in c:\\users\\notebook\\.conda\\envs\\py36\\lib\\site-packages (from zipline) (1.5.0)\n",
      "Requirement already satisfied: alembic>=0.7.7 in c:\\users\\notebook\\.conda\\envs\\py36\\lib\\site-packages (from zipline) (1.7.7)\n",
      "Requirement already satisfied: tables>=3.4.3 in c:\\users\\notebook\\.conda\\envs\\py36\\lib\\site-packages (from zipline) (3.6.1)\n",
      "Requirement already satisfied: lru-dict>=1.1.4 in c:\\users\\notebook\\.conda\\envs\\py36\\lib\\site-packages (from zipline) (1.1.8)\n",
      "Requirement already satisfied: multipledispatch>=0.6.0 in c:\\users\\notebook\\.conda\\envs\\py36\\lib\\site-packages (from zipline) (0.6.0)\n",
      "Requirement already satisfied: pandas<=0.22,>=0.18.1 in c:\\users\\notebook\\.conda\\envs\\py36\\lib\\site-packages (from zipline) (0.22.0)\n",
      "Requirement already satisfied: numexpr>=2.6.1 in c:\\users\\notebook\\.conda\\envs\\py36\\lib\\site-packages (from zipline) (2.7.1)\n",
      "Requirement already satisfied: pip>=7.1.0 in c:\\users\\notebook\\.conda\\envs\\py36\\lib\\site-packages (from zipline) (20.1.1)\n",
      "Requirement already satisfied: networkx<2.0,>=1.9.1 in c:\\users\\notebook\\.conda\\envs\\py36\\lib\\site-packages (from zipline) (1.11)\n",
      "Requirement already satisfied: pytz>=2018.5 in c:\\users\\notebook\\.conda\\envs\\py36\\lib\\site-packages (from zipline) (2020.1)\n",
      "Requirement already satisfied: iso3166>=0.9 in c:\\users\\notebook\\.conda\\envs\\py36\\lib\\site-packages (from zipline) (2.0.2)\n",
      "Requirement already satisfied: Logbook>=0.12.5 in c:\\users\\notebook\\.conda\\envs\\py36\\lib\\site-packages (from zipline) (1.5.3)\n",
      "Requirement already satisfied: setuptools>18.0 in c:\\users\\notebook\\.conda\\envs\\py36\\lib\\site-packages (from zipline) (49.2.0.post20200714)\n",
      "Requirement already satisfied: sqlalchemy>=1.0.8 in c:\\users\\notebook\\.conda\\envs\\py36\\lib\\site-packages (from zipline) (1.3.18)\n",
      "Requirement already satisfied: python-interface>=1.5.3 in c:\\users\\notebook\\.conda\\envs\\py36\\lib\\site-packages (from zipline) (1.6.1)\n",
      "Requirement already satisfied: numpy>=1.11.3 in c:\\users\\notebook\\.conda\\envs\\py36\\lib\\site-packages (from zipline) (1.17.0)\n",
      "Requirement already satisfied: requests>=2.9.1 in c:\\users\\notebook\\.conda\\envs\\py36\\lib\\site-packages (from zipline) (2.27.1)\n",
      "Requirement already satisfied: h5py>=2.7.1 in c:\\users\\notebook\\.conda\\envs\\py36\\lib\\site-packages (from zipline) (2.10.0)\n",
      "Requirement already satisfied: intervaltree>=2.1.0 in c:\\users\\notebook\\.conda\\envs\\py36\\lib\\site-packages (from zipline) (3.0.2)\n",
      "Requirement already satisfied: bcolz>=0.12.1 in c:\\users\\notebook\\.conda\\envs\\py36\\lib\\site-packages (from zipline) (1.2.1)\n",
      "Requirement already satisfied: importlib-resources; python_version > \"3.5\" and python_version < \"3.9\" in c:\\users\\notebook\\.conda\\envs\\py36\\lib\\site-packages (from iso4217>=1.6.20180829->zipline) (5.4.0)\n",
      "Requirement already satisfied: lxml in c:\\users\\notebook\\.conda\\envs\\py36\\lib\\site-packages (from pandas-datareader<0.9.0,>=0.2.1->zipline) (4.5.2)\n",
      "Requirement already satisfied: python-dateutil in c:\\users\\notebook\\.conda\\envs\\py36\\lib\\site-packages (from trading-calendars>=1.6.1->zipline) (2.8.1)\n",
      "Requirement already satisfied: Mako in c:\\users\\notebook\\.conda\\envs\\py36\\lib\\site-packages (from alembic>=0.7.7->zipline) (1.1.6)\n",
      "Requirement already satisfied: importlib-metadata; python_version < \"3.9\" in c:\\users\\notebook\\.conda\\envs\\py36\\lib\\site-packages (from alembic>=0.7.7->zipline) (1.7.0)\n",
      "Requirement already satisfied: decorator>=3.4.0 in c:\\users\\notebook\\.conda\\envs\\py36\\lib\\site-packages (from networkx<2.0,>=1.9.1->zipline) (4.4.2)\n",
      "Requirement already satisfied: charset-normalizer~=2.0.0; python_version >= \"3\" in c:\\users\\notebook\\.conda\\envs\\py36\\lib\\site-packages (from requests>=2.9.1->zipline) (2.0.12)\n",
      "Requirement already satisfied: certifi>=2017.4.17 in c:\\users\\notebook\\.conda\\envs\\py36\\lib\\site-packages (from requests>=2.9.1->zipline) (2020.6.20)\n",
      "Requirement already satisfied: idna<4,>=2.5; python_version >= \"3\" in c:\\users\\notebook\\.conda\\envs\\py36\\lib\\site-packages (from requests>=2.9.1->zipline) (2.10)\n",
      "Requirement already satisfied: urllib3<1.27,>=1.21.1 in c:\\users\\notebook\\.conda\\envs\\py36\\lib\\site-packages (from requests>=2.9.1->zipline) (1.25.9)\n",
      "Requirement already satisfied: sortedcontainers<3.0,>=2.0 in c:\\users\\notebook\\.conda\\envs\\py36\\lib\\site-packages (from intervaltree>=2.1.0->zipline) (2.2.2)\n",
      "Requirement already satisfied: zipp>=3.1.0; python_version < \"3.10\" in c:\\users\\notebook\\.conda\\envs\\py36\\lib\\site-packages (from importlib-resources; python_version > \"3.5\" and python_version < \"3.9\"->iso4217>=1.6.20180829->zipline) (3.1.0)\n",
      "Requirement already satisfied: MarkupSafe>=0.9.2 in c:\\users\\notebook\\.conda\\envs\\py36\\lib\\site-packages (from Mako->alembic>=0.7.7->zipline) (1.1.1)\n"
     ]
    }
   ],
   "source": [
    "!pip install zipline --user"
   ]
  },
  {
   "cell_type": "code",
   "execution_count": 11,
   "metadata": {},
   "outputs": [
    {
     "ename": "AttributeError",
     "evalue": "module 'pandas.core.indexing' has no attribute 'get_indexers_list'",
     "output_type": "error",
     "traceback": [
      "\u001b[1;31m---------------------------------------------------------------------------\u001b[0m",
      "\u001b[1;31mAttributeError\u001b[0m                            Traceback (most recent call last)",
      "\u001b[1;32m<ipython-input-11-ab8bff6e5ffb>\u001b[0m in \u001b[0;36m<module>\u001b[1;34m\u001b[0m\n\u001b[1;32m----> 1\u001b[1;33m \u001b[1;32mimport\u001b[0m \u001b[0mzipline\u001b[0m\u001b[1;33m\u001b[0m\u001b[1;33m\u001b[0m\u001b[0m\n\u001b[0m",
      "\u001b[1;32m~\\.conda\\envs\\py36\\lib\\site-packages\\zipline\\__init__.py\u001b[0m in \u001b[0;36m<module>\u001b[1;34m\u001b[0m\n\u001b[0;32m     22\u001b[0m \u001b[1;33m\u001b[0m\u001b[0m\n\u001b[0;32m     23\u001b[0m \u001b[1;32mfrom\u001b[0m \u001b[1;33m.\u001b[0m \u001b[1;32mimport\u001b[0m \u001b[0mdata\u001b[0m\u001b[1;33m\u001b[0m\u001b[1;33m\u001b[0m\u001b[0m\n\u001b[1;32m---> 24\u001b[1;33m \u001b[1;32mfrom\u001b[0m \u001b[1;33m.\u001b[0m \u001b[1;32mimport\u001b[0m \u001b[0mfinance\u001b[0m\u001b[1;33m\u001b[0m\u001b[1;33m\u001b[0m\u001b[0m\n\u001b[0m\u001b[0;32m     25\u001b[0m \u001b[1;32mfrom\u001b[0m \u001b[1;33m.\u001b[0m \u001b[1;32mimport\u001b[0m \u001b[0mgens\u001b[0m\u001b[1;33m\u001b[0m\u001b[1;33m\u001b[0m\u001b[0m\n\u001b[0;32m     26\u001b[0m \u001b[1;32mfrom\u001b[0m \u001b[1;33m.\u001b[0m \u001b[1;32mimport\u001b[0m \u001b[0mutils\u001b[0m\u001b[1;33m\u001b[0m\u001b[1;33m\u001b[0m\u001b[0m\n",
      "\u001b[1;32m~\\.conda\\envs\\py36\\lib\\site-packages\\zipline\\finance\\__init__.py\u001b[0m in \u001b[0;36m<module>\u001b[1;34m\u001b[0m\n\u001b[0;32m     14\u001b[0m \u001b[1;31m# limitations under the License.\u001b[0m\u001b[1;33m\u001b[0m\u001b[1;33m\u001b[0m\u001b[1;33m\u001b[0m\u001b[0m\n\u001b[0;32m     15\u001b[0m \u001b[1;33m\u001b[0m\u001b[0m\n\u001b[1;32m---> 16\u001b[1;33m \u001b[1;32mfrom\u001b[0m \u001b[1;33m.\u001b[0m \u001b[1;32mimport\u001b[0m \u001b[0mexecution\u001b[0m\u001b[1;33m,\u001b[0m \u001b[0mtrading\u001b[0m\u001b[1;33m\u001b[0m\u001b[1;33m\u001b[0m\u001b[0m\n\u001b[0m\u001b[0;32m     17\u001b[0m \u001b[1;33m\u001b[0m\u001b[0m\n\u001b[0;32m     18\u001b[0m __all__ = [\n",
      "\u001b[1;32m~\\.conda\\envs\\py36\\lib\\site-packages\\zipline\\finance\\trading.py\u001b[0m in \u001b[0;36m<module>\u001b[1;34m\u001b[0m\n\u001b[0;32m     18\u001b[0m \u001b[1;33m\u001b[0m\u001b[0m\n\u001b[0;32m     19\u001b[0m \u001b[1;32mfrom\u001b[0m \u001b[0mzipline\u001b[0m\u001b[1;33m.\u001b[0m\u001b[0mutils\u001b[0m\u001b[1;33m.\u001b[0m\u001b[0mmemoize\u001b[0m \u001b[1;32mimport\u001b[0m \u001b[0mremember_last\u001b[0m\u001b[1;33m\u001b[0m\u001b[1;33m\u001b[0m\u001b[0m\n\u001b[1;32m---> 20\u001b[1;33m \u001b[1;32mfrom\u001b[0m \u001b[0mzipline\u001b[0m\u001b[1;33m.\u001b[0m\u001b[0mutils\u001b[0m\u001b[1;33m.\u001b[0m\u001b[0mpandas_utils\u001b[0m \u001b[1;32mimport\u001b[0m \u001b[0mnormalize_date\u001b[0m\u001b[1;33m\u001b[0m\u001b[1;33m\u001b[0m\u001b[0m\n\u001b[0m\u001b[0;32m     21\u001b[0m \u001b[1;33m\u001b[0m\u001b[0m\n\u001b[0;32m     22\u001b[0m \u001b[0mlog\u001b[0m \u001b[1;33m=\u001b[0m \u001b[0mlogbook\u001b[0m\u001b[1;33m.\u001b[0m\u001b[0mLogger\u001b[0m\u001b[1;33m(\u001b[0m\u001b[1;34m'Trading'\u001b[0m\u001b[1;33m)\u001b[0m\u001b[1;33m\u001b[0m\u001b[1;33m\u001b[0m\u001b[0m\n",
      "\u001b[1;32m~\\.conda\\envs\\py36\\lib\\site-packages\\zipline\\utils\\pandas_utils.py\u001b[0m in \u001b[0;36m<module>\u001b[1;34m\u001b[0m\n\u001b[0;32m    221\u001b[0m \u001b[1;33m\u001b[0m\u001b[0m\n\u001b[0;32m    222\u001b[0m _INDEXER_NAMES = [\n\u001b[1;32m--> 223\u001b[1;33m     \u001b[1;34m'_'\u001b[0m \u001b[1;33m+\u001b[0m \u001b[0mname\u001b[0m \u001b[1;32mfor\u001b[0m \u001b[1;33m(\u001b[0m\u001b[0mname\u001b[0m\u001b[1;33m,\u001b[0m \u001b[0m_\u001b[0m\u001b[1;33m)\u001b[0m \u001b[1;32min\u001b[0m \u001b[0mpd\u001b[0m\u001b[1;33m.\u001b[0m\u001b[0mcore\u001b[0m\u001b[1;33m.\u001b[0m\u001b[0mindexing\u001b[0m\u001b[1;33m.\u001b[0m\u001b[0mget_indexers_list\u001b[0m\u001b[1;33m(\u001b[0m\u001b[1;33m)\u001b[0m\u001b[1;33m\u001b[0m\u001b[1;33m\u001b[0m\u001b[0m\n\u001b[0m\u001b[0;32m    224\u001b[0m ]\n\u001b[0;32m    225\u001b[0m \u001b[1;33m\u001b[0m\u001b[0m\n",
      "\u001b[1;31mAttributeError\u001b[0m: module 'pandas.core.indexing' has no attribute 'get_indexers_list'"
     ]
    }
   ],
   "source": [
    "import zipline"
   ]
  }
 ],
 "metadata": {
  "kernelspec": {
   "display_name": "Python 3",
   "language": "python",
   "name": "python3"
  },
  "language_info": {
   "codemirror_mode": {
    "name": "ipython",
    "version": 3
   },
   "file_extension": ".py",
   "mimetype": "text/x-python",
   "name": "python",
   "nbconvert_exporter": "python",
   "pygments_lexer": "ipython3",
   "version": "3.6.10"
  }
 },
 "nbformat": 4,
 "nbformat_minor": 4
}
