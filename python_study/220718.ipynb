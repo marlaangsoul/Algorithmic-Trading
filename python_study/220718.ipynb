{
 "cells": [
  {
   "cell_type": "code",
   "execution_count": 3,
   "id": "acfe9b05",
   "metadata": {},
   "outputs": [
    {
     "name": "stdout",
     "output_type": "stream",
     "text": [
      "*****"
     ]
    }
   ],
   "source": [
    "for i in range(0,5):\n",
    "    print('*', end='')"
   ]
  },
  {
   "cell_type": "code",
   "execution_count": 6,
   "id": "c3c245a7",
   "metadata": {
    "scrolled": true
   },
   "outputs": [
    {
     "name": "stdout",
     "output_type": "stream",
     "text": [
      "\n",
      "*****\n",
      "*****\n",
      "*****\n",
      "*****"
     ]
    }
   ],
   "source": [
    "for j in range(0,4):\n",
    "    print('')\n",
    "    for i in range(0,5):\n",
    "        print('*', end='')"
   ]
  },
  {
   "cell_type": "code",
   "execution_count": 12,
   "id": "6acffd19",
   "metadata": {
    "scrolled": true
   },
   "outputs": [
    {
     "name": "stdout",
     "output_type": "stream",
     "text": [
      "*\n"
     ]
    },
    {
     "ename": "TypeError",
     "evalue": "unsupported operand type(s) for *: 'NoneType' and 'int'",
     "output_type": "error",
     "traceback": [
      "\u001b[1;31m---------------------------------------------------------------------------\u001b[0m",
      "\u001b[1;31mTypeError\u001b[0m                                 Traceback (most recent call last)",
      "Input \u001b[1;32mIn [12]\u001b[0m, in \u001b[0;36m<cell line: 1>\u001b[1;34m()\u001b[0m\n\u001b[0;32m      1\u001b[0m \u001b[38;5;28;01mfor\u001b[39;00m i \u001b[38;5;129;01min\u001b[39;00m \u001b[38;5;28mrange\u001b[39m(\u001b[38;5;241m1\u001b[39m,\u001b[38;5;241m5\u001b[39m):\n\u001b[1;32m----> 2\u001b[0m     \u001b[38;5;28;43mprint\u001b[39;49m\u001b[43m(\u001b[49m\u001b[38;5;124;43m'\u001b[39;49m\u001b[38;5;124;43m*\u001b[39;49m\u001b[38;5;124;43m'\u001b[39;49m\u001b[43m)\u001b[49m\u001b[43m \u001b[49m\u001b[38;5;241;43m*\u001b[39;49m\u001b[43m \u001b[49m\u001b[43mi\u001b[49m\n\u001b[0;32m      3\u001b[0m     i \u001b[38;5;241m+\u001b[39m\u001b[38;5;241m=\u001b[39m\u001b[38;5;241m1\u001b[39m\n",
      "\u001b[1;31mTypeError\u001b[0m: unsupported operand type(s) for *: 'NoneType' and 'int'"
     ]
    }
   ],
   "source": [
    "for i in range(1,5):\n",
    "    print('*') * i\n",
    "    "
   ]
  },
  {
   "cell_type": "code",
   "execution_count": null,
   "id": "e040fd94",
   "metadata": {},
   "outputs": [],
   "source": [
    ">>> for j in range(4):\n",
    "        for i in range(5):\n",
    "                print('*', end='')\n",
    "        print(\"\")\n",
    ">>>\n"
   ]
  },
  {
   "cell_type": "code",
   "execution_count": 13,
   "id": "a71c7ee2",
   "metadata": {
    "scrolled": true
   },
   "outputs": [
    {
     "name": "stdout",
     "output_type": "stream",
     "text": [
      "*\n",
      "**\n",
      "***\n",
      "****\n",
      "*****\n"
     ]
    }
   ],
   "source": [
    ">>> for j in range(5):\n",
    "        for i in range(j+1):\n",
    "                print('*', end='')\n",
    "        print(\"\")\n",
    ">>>\n"
   ]
  },
  {
   "cell_type": "code",
   "execution_count": 15,
   "id": "933bbfec",
   "metadata": {
    "scrolled": true
   },
   "outputs": [
    {
     "name": "stdout",
     "output_type": "stream",
     "text": [
      "*\n",
      "**\n",
      "***\n",
      "****\n",
      "*****\n"
     ]
    }
   ],
   "source": [
    "for i in range(5):\n",
    "    for j in range(i+1):\n",
    "        print('*', end='')\n",
    "    print('')"
   ]
  },
  {
   "cell_type": "code",
   "execution_count": 49,
   "id": "65da00be",
   "metadata": {
    "scrolled": true
   },
   "outputs": [
    {
     "name": "stdout",
     "output_type": "stream",
     "text": [
      "*****\n",
      "****\n",
      "***\n",
      "**\n",
      "*\n"
     ]
    }
   ],
   "source": [
    "for i in range(5):\n",
    "    for j in range(5-i):\n",
    "        print('*', end='')\n",
    "    print('')"
   ]
  },
  {
   "cell_type": "code",
   "execution_count": 55,
   "id": "e5e839a7",
   "metadata": {},
   "outputs": [
    {
     "name": "stdout",
     "output_type": "stream",
     "text": [
      " *\n",
      "  *\n",
      "*\n",
      "   *\n",
      "*\n",
      "*\n",
      "    *\n",
      "*\n",
      "*\n",
      "*\n"
     ]
    }
   ],
   "source": [
    "for j in range(5):\n",
    "    for i in range(j):\n",
    "        print(' ', end='')\n",
    "    for k in range(j):\n",
    "        print(\"*\")"
   ]
  },
  {
   "cell_type": "code",
   "execution_count": 56,
   "id": "b2694eba",
   "metadata": {
    "scrolled": true
   },
   "outputs": [
    {
     "name": "stdout",
     "output_type": "stream",
     "text": [
      "    *\n",
      "   **\n",
      "  ***\n",
      " ****\n",
      "*****\n"
     ]
    }
   ],
   "source": [
    "for j in range(5):\n",
    "        for i in range(4-j):\n",
    "                print(' ', end='')\n",
    "        for i in range(j+1):\n",
    "                print('*', end='')\n",
    "        print(\"\")\n"
   ]
  },
  {
   "cell_type": "code",
   "execution_count": 63,
   "id": "82eeb305",
   "metadata": {
    "scrolled": true
   },
   "outputs": [
    {
     "name": "stdout",
     "output_type": "stream",
     "text": [
      "\n",
      "*\n",
      "**\n",
      "***\n",
      "****\n",
      "*****\n"
     ]
    }
   ],
   "source": [
    "for i in range(6):\n",
    "    for j in range(i):\n",
    "        print('*', end = '')\n",
    "    print('')"
   ]
  },
  {
   "cell_type": "code",
   "execution_count": null,
   "id": "6d5fbd51",
   "metadata": {},
   "outputs": [],
   "source": [
    "for i in range(6):\n",
    "    for j in range(i):\n",
    "        print('*', end='')"
   ]
  },
  {
   "cell_type": "code",
   "execution_count": 65,
   "id": "51fc4ad6",
   "metadata": {
    "scrolled": true
   },
   "outputs": [
    {
     "name": "stdout",
     "output_type": "stream",
     "text": [
      "*****\n",
      " ****\n",
      "  ***\n",
      "   **\n",
      "    *\n"
     ]
    }
   ],
   "source": [
    "for j in range(5):\n",
    "        for i in range(j):\n",
    "                print(' ', end='')\n",
    "        for i in range(5-j):\n",
    "                print('*', end='')\n",
    "        print(\"\")\n"
   ]
  },
  {
   "cell_type": "code",
   "execution_count": 69,
   "id": "54a39d28",
   "metadata": {
    "scrolled": true
   },
   "outputs": [
    {
     "name": "stdout",
     "output_type": "stream",
     "text": [
      "    *\n",
      "   ***\n",
      "  *****\n",
      " *******\n",
      "*********\n"
     ]
    }
   ],
   "source": [
    ">>> for j in range(5):\n",
    "        for i in range(4-j):\n",
    "                print(' ', end='')\n",
    "        for i in range(2*(j+1)-1):\n",
    "                print('*', end='')\n",
    "        print(\"\")"
   ]
  },
  {
   "cell_type": "code",
   "execution_count": 71,
   "id": "3519907e",
   "metadata": {},
   "outputs": [
    {
     "name": "stdout",
     "output_type": "stream",
     "text": [
      "*********\n",
      " *******\n",
      "  *****\n",
      "   ***\n",
      "    *\n"
     ]
    }
   ],
   "source": [
    "for j in range(5):\n",
    "        for i in range(j):\n",
    "                print(' ', end='')\n",
    "        for i in range(2*(5-j)-1):\n",
    "                print('*', end='')\n",
    "        print(\"\")"
   ]
  },
  {
   "cell_type": "code",
   "execution_count": 72,
   "id": "264165b3",
   "metadata": {},
   "outputs": [],
   "source": [
    "apart = [[101, 102, 103, 104],[201, 202, 203, 204],[301, 302, 302, 303], [401, 402, 403, 404]]\n",
    "arrears = [101, 203, 301, 404]\n"
   ]
  },
  {
   "cell_type": "code",
   "execution_count": 73,
   "id": "2b35c91b",
   "metadata": {
    "scrolled": true
   },
   "outputs": [
    {
     "name": "stdout",
     "output_type": "stream",
     "text": [
      "Newspaper delivery:  102\n",
      "Newspaper delivery:  103\n",
      "Newspaper delivery:  104\n",
      "Newspaper delivery:  201\n",
      "Newspaper delivery:  202\n",
      "Newspaper delivery:  204\n",
      "Newspaper delivery:  302\n",
      "Newspaper delivery:  302\n",
      "Newspaper delivery:  303\n",
      "Newspaper delivery:  401\n",
      "Newspaper delivery:  402\n",
      "Newspaper delivery:  403\n"
     ]
    }
   ],
   "source": [
    "for floor in apart:\n",
    "    for house in floor:\n",
    "        if house in arrears:\n",
    "            continue\n",
    "        else:\n",
    "            print(\"Newspaper delivery: \", house)\n"
   ]
  },
  {
   "cell_type": "code",
   "execution_count": 74,
   "id": "bdfe8e84",
   "metadata": {
    "scrolled": true
   },
   "outputs": [
    {
     "name": "stdout",
     "output_type": "stream",
     "text": [
      "대신증권\n",
      "대신증권\n",
      "대신증권\n"
     ]
    }
   ],
   "source": [
    "for i in range(3):\n",
    "    print('대신증권')"
   ]
  },
  {
   "cell_type": "code",
   "execution_count": 1,
   "id": "5ab2993b",
   "metadata": {},
   "outputs": [],
   "source": [
    "import sys\n",
    "sys.setrecursionlimit(10000)\n",
    "\n",
    "def print_ntimes(n):\n",
    "        for i in range(n):\n",
    "                print(\"대신증권\")\n"
   ]
  },
  {
   "cell_type": "code",
   "execution_count": 3,
   "id": "85245bda",
   "metadata": {},
   "outputs": [
    {
     "name": "stdout",
     "output_type": "stream",
     "text": [
      "대신증권\n",
      "대신증권\n",
      "대신증권\n"
     ]
    }
   ],
   "source": [
    "print_ntimes(3)"
   ]
  },
  {
   "cell_type": "code",
   "execution_count": 4,
   "id": "42d54964",
   "metadata": {},
   "outputs": [
    {
     "data": {
      "text/plain": [
       "10000"
      ]
     },
     "execution_count": 4,
     "metadata": {},
     "output_type": "execute_result"
    }
   ],
   "source": [
    "sys.getrecursionlimit()"
   ]
  },
  {
   "cell_type": "markdown",
   "id": "c5b653c4",
   "metadata": {},
   "source": [
    "maximum recursion depth exceeded 오류\n",
    "\n",
    "에러는 최대 재귀 한도의 깊이 에러이다. \n",
    "\n",
    "위와 같이 에러가 날 경우 계산할수 있는 값의 한계치를 늘려 놓으면 된다. "
   ]
  },
  {
   "cell_type": "code",
   "execution_count": 8,
   "id": "aacd6c35",
   "metadata": {},
   "outputs": [],
   "source": [
    "def cal_upper(price):\n",
    "    price = price + (price * 0.3)\n",
    "    print('상한가 : %i' % price)"
   ]
  },
  {
   "cell_type": "code",
   "execution_count": 9,
   "id": "dc06df86",
   "metadata": {},
   "outputs": [
    {
     "name": "stdout",
     "output_type": "stream",
     "text": [
      "상한가 : 13000\n"
     ]
    }
   ],
   "source": [
    "cal_upper(10000)\n"
   ]
  },
  {
   "cell_type": "code",
   "execution_count": 10,
   "id": "e905396f",
   "metadata": {
    "scrolled": true
   },
   "outputs": [
    {
     "name": "stdout",
     "output_type": "stream",
     "text": [
      "상한가 : 13000\n"
     ]
    }
   ],
   "source": [
    "cal_upper(10000)"
   ]
  },
  {
   "cell_type": "code",
   "execution_count": 12,
   "id": "2bfcf135",
   "metadata": {},
   "outputs": [
    {
     "ename": "NameError",
     "evalue": "name 'price' is not defined",
     "output_type": "error",
     "traceback": [
      "\u001b[1;31m---------------------------------------------------------------------------\u001b[0m",
      "\u001b[1;31mNameError\u001b[0m                                 Traceback (most recent call last)",
      "Input \u001b[1;32mIn [12]\u001b[0m, in \u001b[0;36m<cell line: 1>\u001b[1;34m()\u001b[0m\n\u001b[1;32m----> 1\u001b[0m \u001b[43mprice\u001b[49m\n",
      "\u001b[1;31mNameError\u001b[0m: name 'price' is not defined"
     ]
    }
   ],
   "source": [
    "price"
   ]
  },
  {
   "cell_type": "code",
   "execution_count": 21,
   "id": "b6531259",
   "metadata": {},
   "outputs": [],
   "source": [
    "def cal_upper2(price):\n",
    "    increment = price * 0.3\n",
    "    upper_price2  = price + increment\n",
    "    return upper_price2"
   ]
  },
  {
   "cell_type": "code",
   "execution_count": 23,
   "id": "40184903",
   "metadata": {
    "scrolled": true
   },
   "outputs": [
    {
     "data": {
      "text/plain": [
       "26000.0"
      ]
     },
     "execution_count": 23,
     "metadata": {},
     "output_type": "execute_result"
    }
   ],
   "source": [
    "cal_upper2(20000)"
   ]
  },
  {
   "cell_type": "code",
   "execution_count": 20,
   "id": "2b618e18",
   "metadata": {
    "scrolled": true
   },
   "outputs": [
    {
     "ename": "NameError",
     "evalue": "name 'increment' is not defined",
     "output_type": "error",
     "traceback": [
      "\u001b[1;31m---------------------------------------------------------------------------\u001b[0m",
      "\u001b[1;31mNameError\u001b[0m                                 Traceback (most recent call last)",
      "Input \u001b[1;32mIn [20]\u001b[0m, in \u001b[0;36m<cell line: 1>\u001b[1;34m()\u001b[0m\n\u001b[1;32m----> 1\u001b[0m \u001b[43mincrement\u001b[49m\n",
      "\u001b[1;31mNameError\u001b[0m: name 'increment' is not defined"
     ]
    }
   ],
   "source": [
    "increment"
   ]
  },
  {
   "cell_type": "code",
   "execution_count": 24,
   "id": "b8e2fcc7",
   "metadata": {},
   "outputs": [],
   "source": [
    "def cal_lower(price):\n",
    "    decrement = price * 0.3\n",
    "    lower_price = price - decrement\n",
    "    return lower_price"
   ]
  },
  {
   "cell_type": "code",
   "execution_count": 25,
   "id": "7a45a37e",
   "metadata": {
    "scrolled": true
   },
   "outputs": [
    {
     "data": {
      "text/plain": [
       "7000.0"
      ]
     },
     "execution_count": 25,
     "metadata": {},
     "output_type": "execute_result"
    }
   ],
   "source": [
    "cal_lower(10000)"
   ]
  },
  {
   "cell_type": "code",
   "execution_count": 30,
   "id": "a30dac37",
   "metadata": {},
   "outputs": [],
   "source": [
    "def cal_upper_lower(price):\n",
    "        offset = price * 0.3\n",
    "        upper = price + offset\n",
    "        lower = price - offset\n",
    "        return (upper, lower)"
   ]
  },
  {
   "cell_type": "code",
   "execution_count": 35,
   "id": "99f6f308",
   "metadata": {},
   "outputs": [],
   "source": [
    "(upper, lower) = cal_upper_lower(10000)"
   ]
  },
  {
   "cell_type": "code",
   "execution_count": 37,
   "id": "20599d0d",
   "metadata": {},
   "outputs": [
    {
     "data": {
      "text/plain": [
       "13000.0"
      ]
     },
     "execution_count": 37,
     "metadata": {},
     "output_type": "execute_result"
    }
   ],
   "source": [
    "upper"
   ]
  },
  {
   "cell_type": "code",
   "execution_count": 38,
   "id": "f0b6f4a0",
   "metadata": {},
   "outputs": [
    {
     "data": {
      "text/plain": [
       "7000.0"
      ]
     },
     "execution_count": 38,
     "metadata": {},
     "output_type": "execute_result"
    }
   ],
   "source": [
    "lower"
   ]
  },
  {
   "cell_type": "code",
   "execution_count": 39,
   "id": "9c4814ee",
   "metadata": {},
   "outputs": [],
   "source": [
    "def cal_upper_lower2(price):\n",
    "        offset = price * 0.3\n",
    "        upper = price + offset\n",
    "        lower = price - offset\n",
    "        return (print(upper, lower))"
   ]
  },
  {
   "cell_type": "code",
   "execution_count": 40,
   "id": "ca38128b",
   "metadata": {
    "scrolled": true
   },
   "outputs": [
    {
     "name": "stdout",
     "output_type": "stream",
     "text": [
      "13000.0 7000.0\n"
     ]
    }
   ],
   "source": [
    "cal_upper_lower2(10000)"
   ]
  },
  {
   "cell_type": "markdown",
   "id": "210b939d",
   "metadata": {},
   "source": [
    "모듈은 함수보다 상위 개념"
   ]
  },
  {
   "cell_type": "code",
   "execution_count": 42,
   "id": "188c8742",
   "metadata": {},
   "outputs": [],
   "source": [
    "import stock"
   ]
  },
  {
   "cell_type": "code",
   "execution_count": 48,
   "id": "17d26f02",
   "metadata": {
    "scrolled": true
   },
   "outputs": [
    {
     "name": "stdout",
     "output_type": "stream",
     "text": [
      "pystock\n"
     ]
    }
   ],
   "source": [
    "print(stock.author)\n"
   ]
  },
  {
   "cell_type": "code",
   "execution_count": 47,
   "id": "227401b4",
   "metadata": {
    "scrolled": true
   },
   "outputs": [
    {
     "data": {
      "text/plain": [
       "13000.0"
      ]
     },
     "execution_count": 47,
     "metadata": {},
     "output_type": "execute_result"
    }
   ],
   "source": [
    "stock.cal_upper(10000)\n"
   ]
  },
  {
   "cell_type": "code",
   "execution_count": 46,
   "id": "99713d6c",
   "metadata": {
    "scrolled": true
   },
   "outputs": [
    {
     "data": {
      "text/plain": [
       "7000.0"
      ]
     },
     "execution_count": 46,
     "metadata": {},
     "output_type": "execute_result"
    }
   ],
   "source": [
    "stock.cal_lower(10000)"
   ]
  },
  {
   "cell_type": "code",
   "execution_count": 50,
   "id": "557c1fa9",
   "metadata": {},
   "outputs": [],
   "source": [
    "import stock"
   ]
  },
  {
   "cell_type": "code",
   "execution_count": 51,
   "id": "53fb6cdd",
   "metadata": {},
   "outputs": [
    {
     "data": {
      "text/plain": [
       "13000.0"
      ]
     },
     "execution_count": 51,
     "metadata": {},
     "output_type": "execute_result"
    }
   ],
   "source": [
    "stock.cal_upper(10000)"
   ]
  },
  {
   "cell_type": "code",
   "execution_count": 52,
   "id": "479d3836",
   "metadata": {},
   "outputs": [],
   "source": [
    "import stock\n"
   ]
  },
  {
   "cell_type": "code",
   "execution_count": 55,
   "id": "ec3825ac",
   "metadata": {
    "scrolled": true
   },
   "outputs": [
    {
     "data": {
      "text/plain": [
       "float"
      ]
     },
     "execution_count": 55,
     "metadata": {},
     "output_type": "execute_result"
    }
   ],
   "source": [
    "import time\n",
    "time.time()\n",
    "1444532446.467043\n",
    "time.ctime()\n",
    "'Sun Oct 11 12:00:50 2015'\n",
    "type(_)\n"
   ]
  },
  {
   "cell_type": "code",
   "execution_count": 78,
   "id": "fc81f4a5",
   "metadata": {
    "scrolled": true
   },
   "outputs": [
    {
     "data": {
      "text/plain": [
       "1658125394.6678672"
      ]
     },
     "execution_count": 78,
     "metadata": {},
     "output_type": "execute_result"
    }
   ],
   "source": [
    "time.time()"
   ]
  },
  {
   "cell_type": "code",
   "execution_count": 83,
   "id": "87ab9d14",
   "metadata": {
    "scrolled": false
   },
   "outputs": [
    {
     "data": {
      "text/plain": [
       "'Mon Jul 18 15:24:21 2022'"
      ]
     },
     "execution_count": 83,
     "metadata": {},
     "output_type": "execute_result"
    }
   ],
   "source": [
    "time.ctime()"
   ]
  },
  {
   "cell_type": "code",
   "execution_count": 84,
   "id": "995f8597",
   "metadata": {},
   "outputs": [
    {
     "data": {
      "text/plain": [
       "str"
      ]
     },
     "execution_count": 84,
     "metadata": {},
     "output_type": "execute_result"
    }
   ],
   "source": [
    "type(_)"
   ]
  },
  {
   "cell_type": "markdown",
   "id": "e8619cd7",
   "metadata": {},
   "source": [
    "여기서 type 함수의 인자로 _를 사용했는데 파이썬 IDLE에서 _는 가장 최근의 반환값을 바인딩하고 있는 변수"
   ]
  },
  {
   "cell_type": "code",
   "execution_count": 85,
   "id": "86df883d",
   "metadata": {},
   "outputs": [],
   "source": [
    "cur_time = time.ctime()\n"
   ]
  },
  {
   "cell_type": "code",
   "execution_count": 86,
   "id": "4e015bb1",
   "metadata": {},
   "outputs": [
    {
     "name": "stdout",
     "output_type": "stream",
     "text": [
      "2022\n"
     ]
    }
   ],
   "source": [
    "print(cur_time.split(' ')[-1])"
   ]
  },
  {
   "cell_type": "code",
   "execution_count": 87,
   "id": "f3b133a9",
   "metadata": {
    "scrolled": true
   },
   "outputs": [
    {
     "name": "stdout",
     "output_type": "stream",
     "text": [
      "0\n",
      "1\n",
      "2\n",
      "3\n",
      "4\n",
      "5\n",
      "6\n",
      "7\n",
      "8\n",
      "9\n"
     ]
    }
   ],
   "source": [
    "for i in range(10):\n",
    "        print(i)\n",
    "        time.sleep(1)"
   ]
  },
  {
   "cell_type": "code",
   "execution_count": 88,
   "id": "8ced16e2",
   "metadata": {},
   "outputs": [
    {
     "data": {
      "text/plain": [
       "<module 'time' (built-in)>"
      ]
     },
     "execution_count": 88,
     "metadata": {},
     "output_type": "execute_result"
    }
   ],
   "source": [
    "import time\n",
    "time"
   ]
  },
  {
   "cell_type": "code",
   "execution_count": 89,
   "id": "210b58de",
   "metadata": {},
   "outputs": [
    {
     "data": {
      "text/plain": [
       "<module 'random' from 'C:\\\\Users\\\\NOTEBOOK\\\\.conda\\\\envs\\\\py38\\\\lib\\\\random.py'>"
      ]
     },
     "execution_count": 89,
     "metadata": {},
     "output_type": "execute_result"
    }
   ],
   "source": [
    "import random\n",
    "random"
   ]
  },
  {
   "cell_type": "code",
   "execution_count": 90,
   "id": "63be4248",
   "metadata": {
    "scrolled": true
   },
   "outputs": [
    {
     "data": {
      "text/plain": [
       "['_STRUCT_TM_ITEMS',\n",
       " '__doc__',\n",
       " '__loader__',\n",
       " '__name__',\n",
       " '__package__',\n",
       " '__spec__',\n",
       " 'altzone',\n",
       " 'asctime',\n",
       " 'ctime',\n",
       " 'daylight',\n",
       " 'get_clock_info',\n",
       " 'gmtime',\n",
       " 'localtime',\n",
       " 'mktime',\n",
       " 'monotonic',\n",
       " 'monotonic_ns',\n",
       " 'perf_counter',\n",
       " 'perf_counter_ns',\n",
       " 'process_time',\n",
       " 'process_time_ns',\n",
       " 'sleep',\n",
       " 'strftime',\n",
       " 'strptime',\n",
       " 'struct_time',\n",
       " 'thread_time',\n",
       " 'thread_time_ns',\n",
       " 'time',\n",
       " 'time_ns',\n",
       " 'timezone',\n",
       " 'tzname']"
      ]
     },
     "execution_count": 90,
     "metadata": {},
     "output_type": "execute_result"
    }
   ],
   "source": [
    "import time\n",
    "dir(time)\n"
   ]
  },
  {
   "cell_type": "code",
   "execution_count": 91,
   "id": "3c89a871",
   "metadata": {},
   "outputs": [
    {
     "data": {
      "text/plain": [
       "'C:\\\\bigdata0214_0811\\\\jupyterws\\\\Algorithmic Trading\\\\python_study'"
      ]
     },
     "execution_count": 91,
     "metadata": {},
     "output_type": "execute_result"
    }
   ],
   "source": [
    "import os\n",
    "os.getcwd()\n"
   ]
  },
  {
   "cell_type": "code",
   "execution_count": 92,
   "id": "a5c4a2b6",
   "metadata": {},
   "outputs": [
    {
     "data": {
      "text/plain": [
       "['.ipynb_checkpoints',\n",
       " '220712_python IDLE.ipynb',\n",
       " '220715.ipynb',\n",
       " '220716.ipynb',\n",
       " '220717.ipynb',\n",
       " '220718.ipynb',\n",
       " 'stock.py',\n",
       " '__pycache__']"
      ]
     },
     "execution_count": 92,
     "metadata": {},
     "output_type": "execute_result"
    }
   ],
   "source": [
    "os.listdir()\n"
   ]
  },
  {
   "cell_type": "code",
   "execution_count": 95,
   "id": "c2ee4c25",
   "metadata": {
    "scrolled": true
   },
   "outputs": [
    {
     "data": {
      "text/plain": [
       "['backend',\n",
       " 'database',\n",
       " 'dbeaver',\n",
       " 'flask',\n",
       " 'front',\n",
       " 'ftproot',\n",
       " 'Git',\n",
       " 'Git_hub',\n",
       " 'hadoop',\n",
       " 'java',\n",
       " 'jupyterws',\n",
       " 'python_vs',\n",
       " 'R',\n",
       " 'spring_1']"
      ]
     },
     "execution_count": 95,
     "metadata": {},
     "output_type": "execute_result"
    }
   ],
   "source": [
    "os.listdir('C:/bigdata0214_0811')"
   ]
  },
  {
   "cell_type": "code",
   "execution_count": 97,
   "id": "c3ac49c5",
   "metadata": {
    "scrolled": true
   },
   "outputs": [
    {
     "data": {
      "text/plain": [
       "list"
      ]
     },
     "execution_count": 97,
     "metadata": {},
     "output_type": "execute_result"
    }
   ],
   "source": [
    "files = os.listdir('C:/bigdata0214_0811')\n",
    "len(files)\n",
    "type(files)\n"
   ]
  },
  {
   "cell_type": "code",
   "execution_count": 99,
   "id": "311d4d68",
   "metadata": {},
   "outputs": [
    {
     "data": {
      "text/plain": [
       "['In',\n",
       " 'Out',\n",
       " '_',\n",
       " '_16',\n",
       " '_18',\n",
       " '_23',\n",
       " '_25',\n",
       " '_36',\n",
       " '_37',\n",
       " '_38',\n",
       " '_4',\n",
       " '_44',\n",
       " '_45',\n",
       " '_46',\n",
       " '_47',\n",
       " '_49',\n",
       " '_51',\n",
       " '_55',\n",
       " '_56',\n",
       " '_57',\n",
       " '_58',\n",
       " '_59',\n",
       " '_60',\n",
       " '_61',\n",
       " '_62',\n",
       " '_63',\n",
       " '_64',\n",
       " '_65',\n",
       " '_66',\n",
       " '_67',\n",
       " '_68',\n",
       " '_69',\n",
       " '_70',\n",
       " '_71',\n",
       " '_72',\n",
       " '_73',\n",
       " '_74',\n",
       " '_75',\n",
       " '_76',\n",
       " '_77',\n",
       " '_78',\n",
       " '_79',\n",
       " '_80',\n",
       " '_81',\n",
       " '_82',\n",
       " '_83',\n",
       " '_84',\n",
       " '_88',\n",
       " '_89',\n",
       " '_90',\n",
       " '_91',\n",
       " '_92',\n",
       " '_94',\n",
       " '_95',\n",
       " '_96',\n",
       " '_97',\n",
       " '_98',\n",
       " '__',\n",
       " '___',\n",
       " '__builtin__',\n",
       " '__builtins__',\n",
       " '__doc__',\n",
       " '__loader__',\n",
       " '__name__',\n",
       " '__package__',\n",
       " '__spec__',\n",
       " '_dh',\n",
       " '_i',\n",
       " '_i1',\n",
       " '_i10',\n",
       " '_i11',\n",
       " '_i12',\n",
       " '_i13',\n",
       " '_i14',\n",
       " '_i15',\n",
       " '_i16',\n",
       " '_i17',\n",
       " '_i18',\n",
       " '_i19',\n",
       " '_i2',\n",
       " '_i20',\n",
       " '_i21',\n",
       " '_i22',\n",
       " '_i23',\n",
       " '_i24',\n",
       " '_i25',\n",
       " '_i26',\n",
       " '_i27',\n",
       " '_i28',\n",
       " '_i29',\n",
       " '_i3',\n",
       " '_i30',\n",
       " '_i31',\n",
       " '_i32',\n",
       " '_i33',\n",
       " '_i34',\n",
       " '_i35',\n",
       " '_i36',\n",
       " '_i37',\n",
       " '_i38',\n",
       " '_i39',\n",
       " '_i4',\n",
       " '_i40',\n",
       " '_i41',\n",
       " '_i42',\n",
       " '_i43',\n",
       " '_i44',\n",
       " '_i45',\n",
       " '_i46',\n",
       " '_i47',\n",
       " '_i48',\n",
       " '_i49',\n",
       " '_i5',\n",
       " '_i50',\n",
       " '_i51',\n",
       " '_i52',\n",
       " '_i53',\n",
       " '_i54',\n",
       " '_i55',\n",
       " '_i56',\n",
       " '_i57',\n",
       " '_i58',\n",
       " '_i59',\n",
       " '_i6',\n",
       " '_i60',\n",
       " '_i61',\n",
       " '_i62',\n",
       " '_i63',\n",
       " '_i64',\n",
       " '_i65',\n",
       " '_i66',\n",
       " '_i67',\n",
       " '_i68',\n",
       " '_i69',\n",
       " '_i7',\n",
       " '_i70',\n",
       " '_i71',\n",
       " '_i72',\n",
       " '_i73',\n",
       " '_i74',\n",
       " '_i75',\n",
       " '_i76',\n",
       " '_i77',\n",
       " '_i78',\n",
       " '_i79',\n",
       " '_i8',\n",
       " '_i80',\n",
       " '_i81',\n",
       " '_i82',\n",
       " '_i83',\n",
       " '_i84',\n",
       " '_i85',\n",
       " '_i86',\n",
       " '_i87',\n",
       " '_i88',\n",
       " '_i89',\n",
       " '_i9',\n",
       " '_i90',\n",
       " '_i91',\n",
       " '_i92',\n",
       " '_i93',\n",
       " '_i94',\n",
       " '_i95',\n",
       " '_i96',\n",
       " '_i97',\n",
       " '_i98',\n",
       " '_i99',\n",
       " '_ih',\n",
       " '_ii',\n",
       " '_iii',\n",
       " '_oh',\n",
       " 'cal_lower',\n",
       " 'cal_upper',\n",
       " 'cal_upper2',\n",
       " 'cal_upper_lower',\n",
       " 'cal_upper_lower2',\n",
       " 'cur_time',\n",
       " 'exit',\n",
       " 'files',\n",
       " 'get_ipython',\n",
       " 'i',\n",
       " 'lower',\n",
       " 'os',\n",
       " 'print_ntimes',\n",
       " 'quit',\n",
       " 'random',\n",
       " 'stock',\n",
       " 'sys',\n",
       " 'time',\n",
       " 'upper']"
      ]
     },
     "execution_count": 99,
     "metadata": {},
     "output_type": "execute_result"
    }
   ],
   "source": [
    "import os\n",
    "dir()"
   ]
  },
  {
   "cell_type": "code",
   "execution_count": 100,
   "id": "50816a85",
   "metadata": {},
   "outputs": [],
   "source": [
    "from os import listdir"
   ]
  },
  {
   "cell_type": "code",
   "execution_count": 101,
   "id": "3b5865d3",
   "metadata": {
    "scrolled": false
   },
   "outputs": [
    {
     "data": {
      "text/plain": [
       "['In',\n",
       " 'Out',\n",
       " '_',\n",
       " '_16',\n",
       " '_18',\n",
       " '_23',\n",
       " '_25',\n",
       " '_36',\n",
       " '_37',\n",
       " '_38',\n",
       " '_4',\n",
       " '_44',\n",
       " '_45',\n",
       " '_46',\n",
       " '_47',\n",
       " '_49',\n",
       " '_51',\n",
       " '_55',\n",
       " '_56',\n",
       " '_57',\n",
       " '_58',\n",
       " '_59',\n",
       " '_60',\n",
       " '_61',\n",
       " '_62',\n",
       " '_63',\n",
       " '_64',\n",
       " '_65',\n",
       " '_66',\n",
       " '_67',\n",
       " '_68',\n",
       " '_69',\n",
       " '_70',\n",
       " '_71',\n",
       " '_72',\n",
       " '_73',\n",
       " '_74',\n",
       " '_75',\n",
       " '_76',\n",
       " '_77',\n",
       " '_78',\n",
       " '_79',\n",
       " '_80',\n",
       " '_81',\n",
       " '_82',\n",
       " '_83',\n",
       " '_84',\n",
       " '_88',\n",
       " '_89',\n",
       " '_90',\n",
       " '_91',\n",
       " '_92',\n",
       " '_94',\n",
       " '_95',\n",
       " '_96',\n",
       " '_97',\n",
       " '_98',\n",
       " '_99',\n",
       " '__',\n",
       " '___',\n",
       " '__builtin__',\n",
       " '__builtins__',\n",
       " '__doc__',\n",
       " '__loader__',\n",
       " '__name__',\n",
       " '__package__',\n",
       " '__spec__',\n",
       " '_dh',\n",
       " '_i',\n",
       " '_i1',\n",
       " '_i10',\n",
       " '_i100',\n",
       " '_i101',\n",
       " '_i11',\n",
       " '_i12',\n",
       " '_i13',\n",
       " '_i14',\n",
       " '_i15',\n",
       " '_i16',\n",
       " '_i17',\n",
       " '_i18',\n",
       " '_i19',\n",
       " '_i2',\n",
       " '_i20',\n",
       " '_i21',\n",
       " '_i22',\n",
       " '_i23',\n",
       " '_i24',\n",
       " '_i25',\n",
       " '_i26',\n",
       " '_i27',\n",
       " '_i28',\n",
       " '_i29',\n",
       " '_i3',\n",
       " '_i30',\n",
       " '_i31',\n",
       " '_i32',\n",
       " '_i33',\n",
       " '_i34',\n",
       " '_i35',\n",
       " '_i36',\n",
       " '_i37',\n",
       " '_i38',\n",
       " '_i39',\n",
       " '_i4',\n",
       " '_i40',\n",
       " '_i41',\n",
       " '_i42',\n",
       " '_i43',\n",
       " '_i44',\n",
       " '_i45',\n",
       " '_i46',\n",
       " '_i47',\n",
       " '_i48',\n",
       " '_i49',\n",
       " '_i5',\n",
       " '_i50',\n",
       " '_i51',\n",
       " '_i52',\n",
       " '_i53',\n",
       " '_i54',\n",
       " '_i55',\n",
       " '_i56',\n",
       " '_i57',\n",
       " '_i58',\n",
       " '_i59',\n",
       " '_i6',\n",
       " '_i60',\n",
       " '_i61',\n",
       " '_i62',\n",
       " '_i63',\n",
       " '_i64',\n",
       " '_i65',\n",
       " '_i66',\n",
       " '_i67',\n",
       " '_i68',\n",
       " '_i69',\n",
       " '_i7',\n",
       " '_i70',\n",
       " '_i71',\n",
       " '_i72',\n",
       " '_i73',\n",
       " '_i74',\n",
       " '_i75',\n",
       " '_i76',\n",
       " '_i77',\n",
       " '_i78',\n",
       " '_i79',\n",
       " '_i8',\n",
       " '_i80',\n",
       " '_i81',\n",
       " '_i82',\n",
       " '_i83',\n",
       " '_i84',\n",
       " '_i85',\n",
       " '_i86',\n",
       " '_i87',\n",
       " '_i88',\n",
       " '_i89',\n",
       " '_i9',\n",
       " '_i90',\n",
       " '_i91',\n",
       " '_i92',\n",
       " '_i93',\n",
       " '_i94',\n",
       " '_i95',\n",
       " '_i96',\n",
       " '_i97',\n",
       " '_i98',\n",
       " '_i99',\n",
       " '_ih',\n",
       " '_ii',\n",
       " '_iii',\n",
       " '_oh',\n",
       " 'cal_lower',\n",
       " 'cal_upper',\n",
       " 'cal_upper2',\n",
       " 'cal_upper_lower',\n",
       " 'cal_upper_lower2',\n",
       " 'cur_time',\n",
       " 'exit',\n",
       " 'files',\n",
       " 'get_ipython',\n",
       " 'i',\n",
       " 'listdir',\n",
       " 'lower',\n",
       " 'os',\n",
       " 'print_ntimes',\n",
       " 'quit',\n",
       " 'random',\n",
       " 'stock',\n",
       " 'sys',\n",
       " 'time',\n",
       " 'upper']"
      ]
     },
     "execution_count": 101,
     "metadata": {},
     "output_type": "execute_result"
    }
   ],
   "source": [
    "dir()\n"
   ]
  },
  {
   "cell_type": "code",
   "execution_count": 102,
   "id": "f9f55c16",
   "metadata": {
    "scrolled": true
   },
   "outputs": [
    {
     "data": {
      "text/plain": [
       "3"
      ]
     },
     "execution_count": 102,
     "metadata": {},
     "output_type": "execute_result"
    }
   ],
   "source": [
    "abs(-3)\n"
   ]
  },
  {
   "cell_type": "code",
   "execution_count": 103,
   "id": "cded4c2a",
   "metadata": {
    "scrolled": true
   },
   "outputs": [
    {
     "data": {
      "text/plain": [
       "3.0"
      ]
     },
     "execution_count": 103,
     "metadata": {},
     "output_type": "execute_result"
    }
   ],
   "source": [
    " abs(-3.0)"
   ]
  },
  {
   "cell_type": "code",
   "execution_count": 104,
   "id": "301f1664",
   "metadata": {},
   "outputs": [
    {
     "ename": "TypeError",
     "evalue": "bad operand type for abs(): 'str'",
     "output_type": "error",
     "traceback": [
      "\u001b[1;31m---------------------------------------------------------------------------\u001b[0m",
      "\u001b[1;31mTypeError\u001b[0m                                 Traceback (most recent call last)",
      "Input \u001b[1;32mIn [104]\u001b[0m, in \u001b[0;36m<cell line: 1>\u001b[1;34m()\u001b[0m\n\u001b[1;32m----> 1\u001b[0m \u001b[38;5;28;43mabs\u001b[39;49m\u001b[43m(\u001b[49m\u001b[38;5;124;43m\"\u001b[39;49m\u001b[38;5;124;43mhello\u001b[39;49m\u001b[38;5;124;43m\"\u001b[39;49m\u001b[43m)\u001b[49m\n",
      "\u001b[1;31mTypeError\u001b[0m: bad operand type for abs(): 'str'"
     ]
    }
   ],
   "source": [
    "abs(\"hello\")\n"
   ]
  },
  {
   "cell_type": "code",
   "execution_count": 105,
   "id": "5c85fedf",
   "metadata": {
    "scrolled": true
   },
   "outputs": [
    {
     "data": {
      "text/plain": [
       "'a'"
      ]
     },
     "execution_count": 105,
     "metadata": {},
     "output_type": "execute_result"
    }
   ],
   "source": [
    "chr(97)\n"
   ]
  },
  {
   "cell_type": "code",
   "execution_count": 106,
   "id": "f8d12e67",
   "metadata": {},
   "outputs": [
    {
     "data": {
      "text/plain": [
       "'A'"
      ]
     },
     "execution_count": 106,
     "metadata": {},
     "output_type": "execute_result"
    }
   ],
   "source": [
    "chr(65)\n"
   ]
  },
  {
   "cell_type": "code",
   "execution_count": 107,
   "id": "7f6bc6c2",
   "metadata": {
    "scrolled": true
   },
   "outputs": [
    {
     "name": "stdout",
     "output_type": "stream",
     "text": [
      "0 Naver\n",
      "1 KAKAO\n",
      "2 SK\n"
     ]
    }
   ],
   "source": [
    "for i, stock in enumerate(['Naver', 'KAKAO', 'SK']):\n",
    "        print(i, stock)"
   ]
  },
  {
   "cell_type": "code",
   "execution_count": 110,
   "id": "722f904a",
   "metadata": {},
   "outputs": [
    {
     "data": {
      "text/plain": [
       "1918947744"
      ]
     },
     "execution_count": 110,
     "metadata": {},
     "output_type": "execute_result"
    }
   ],
   "source": [
    ">>> a = 1\n",
    ">>> b = 1\n",
    ">>> id(a)\n",
    "1918947744\n",
    ">>> id(b)\n",
    "1918947744\n",
    ">>>"
   ]
  },
  {
   "cell_type": "code",
   "execution_count": 111,
   "id": "677ef787",
   "metadata": {},
   "outputs": [
    {
     "data": {
      "text/plain": [
       "2"
      ]
     },
     "execution_count": 111,
     "metadata": {},
     "output_type": "execute_result"
    }
   ],
   "source": [
    "len(['SK', 'naver'])\n"
   ]
  },
  {
   "cell_type": "code",
   "execution_count": 112,
   "id": "86dee3b2",
   "metadata": {
    "scrolled": true
   },
   "outputs": [
    {
     "data": {
      "text/plain": [
       "8"
      ]
     },
     "execution_count": 112,
     "metadata": {},
     "output_type": "execute_result"
    }
   ],
   "source": [
    "len('SK hynix')\n"
   ]
  },
  {
   "cell_type": "code",
   "execution_count": 113,
   "id": "c0e838b8",
   "metadata": {},
   "outputs": [
    {
     "data": {
      "text/plain": [
       "['h', 'e', 'l', 'l', 'o']"
      ]
     },
     "execution_count": 113,
     "metadata": {},
     "output_type": "execute_result"
    }
   ],
   "source": [
    " list('hello')"
   ]
  },
  {
   "cell_type": "code",
   "execution_count": 114,
   "id": "9b441ad8",
   "metadata": {
    "scrolled": true
   },
   "outputs": [
    {
     "data": {
      "text/plain": [
       "1"
      ]
     },
     "execution_count": 114,
     "metadata": {},
     "output_type": "execute_result"
    }
   ],
   "source": [
    "max(1,2,3)\n",
    "max([1,2,3])\n",
    "min(1,2,3)\n",
    "min([1,2,3])\n"
   ]
  },
  {
   "cell_type": "code",
   "execution_count": 115,
   "id": "4c57ebc3",
   "metadata": {},
   "outputs": [
    {
     "data": {
      "text/plain": [
       "[0, 1, 3, 4]"
      ]
     },
     "execution_count": 115,
     "metadata": {},
     "output_type": "execute_result"
    }
   ],
   "source": [
    "sorted((4,3,1,0))\n"
   ]
  },
  {
   "cell_type": "code",
   "execution_count": 116,
   "id": "271cf783",
   "metadata": {},
   "outputs": [
    {
     "data": {
      "text/plain": [
       "[1, 2, 3, 4, 5]"
      ]
     },
     "execution_count": 116,
     "metadata": {},
     "output_type": "execute_result"
    }
   ],
   "source": [
    "sorted([5, 4, 3, 2, 1])\n"
   ]
  },
  {
   "cell_type": "code",
   "execution_count": 117,
   "id": "373ac9c0",
   "metadata": {},
   "outputs": [
    {
     "data": {
      "text/plain": [
       "['a', 'b', 'c']"
      ]
     },
     "execution_count": 117,
     "metadata": {},
     "output_type": "execute_result"
    }
   ],
   "source": [
    "sorted(['c', 'b', 'a'])\n"
   ]
  },
  {
   "cell_type": "code",
   "execution_count": 118,
   "id": "186a3fc8",
   "metadata": {},
   "outputs": [
    {
     "data": {
      "text/plain": [
       "3"
      ]
     },
     "execution_count": 118,
     "metadata": {},
     "output_type": "execute_result"
    }
   ],
   "source": [
    "int('3')"
   ]
  },
  {
   "cell_type": "code",
   "execution_count": 119,
   "id": "89452970",
   "metadata": {
    "scrolled": true
   },
   "outputs": [
    {
     "data": {
      "text/plain": [
       "'3'"
      ]
     },
     "execution_count": 119,
     "metadata": {},
     "output_type": "execute_result"
    }
   ],
   "source": [
    "str(3)\n"
   ]
  },
  {
   "cell_type": "code",
   "execution_count": 121,
   "id": "d664fa36",
   "metadata": {},
   "outputs": [],
   "source": [
    "def myaverage(a, b):\n",
    "    average = ( a + b ) / 2\n",
    "    print(average)"
   ]
  },
  {
   "cell_type": "code",
   "execution_count": 122,
   "id": "13eea75a",
   "metadata": {
    "scrolled": true
   },
   "outputs": [
    {
     "name": "stdout",
     "output_type": "stream",
     "text": [
      "4.5\n"
     ]
    }
   ],
   "source": [
    "myaverage(3,6)"
   ]
  },
  {
   "cell_type": "code",
   "execution_count": 134,
   "id": "90b1e497",
   "metadata": {},
   "outputs": [],
   "source": [
    "def get_max_min(data_list):\n",
    "    max_num = max(data_list)\n",
    "    min_num = min(data_list)\n",
    "    return(max_num, min_num)"
   ]
  },
  {
   "cell_type": "code",
   "execution_count": 135,
   "id": "ec2cfa53",
   "metadata": {},
   "outputs": [],
   "source": [
    "max_num, min_num = get_max_min([1, 2, 3, 4, 5])\n"
   ]
  },
  {
   "cell_type": "code",
   "execution_count": 139,
   "id": "6a1d2775",
   "metadata": {},
   "outputs": [
    {
     "data": {
      "text/plain": [
       "(8, 3)"
      ]
     },
     "execution_count": 139,
     "metadata": {},
     "output_type": "execute_result"
    }
   ],
   "source": [
    "get_max_min([5,4,7,8,5,3])"
   ]
  },
  {
   "cell_type": "code",
   "execution_count": 137,
   "id": "8fd1aac0",
   "metadata": {},
   "outputs": [
    {
     "data": {
      "text/plain": [
       "5"
      ]
     },
     "execution_count": 137,
     "metadata": {},
     "output_type": "execute_result"
    }
   ],
   "source": [
    "max_num"
   ]
  },
  {
   "cell_type": "code",
   "execution_count": 138,
   "id": "b432b14d",
   "metadata": {
    "scrolled": true
   },
   "outputs": [
    {
     "data": {
      "text/plain": [
       "1"
      ]
     },
     "execution_count": 138,
     "metadata": {},
     "output_type": "execute_result"
    }
   ],
   "source": [
    "min_num"
   ]
  },
  {
   "cell_type": "code",
   "execution_count": 140,
   "id": "b211375b",
   "metadata": {},
   "outputs": [],
   "source": [
    "import os\n",
    "def get_txt_list(path):\n",
    "    org_list = os.listdir(path)\n",
    "    ret_list = []\n",
    "    for x in org_list:\n",
    "        if x.endswith('txt'):\n",
    "            ret_list.append(x)\n",
    "    return ret_list"
   ]
  },
  {
   "cell_type": "code",
   "execution_count": 144,
   "id": "cc56a70a",
   "metadata": {},
   "outputs": [
    {
     "data": {
      "text/plain": [
       "['test.txt']"
      ]
     },
     "execution_count": 144,
     "metadata": {},
     "output_type": "execute_result"
    }
   ],
   "source": [
    "get_txt_list('C:/bigdata0214_0811')"
   ]
  },
  {
   "cell_type": "code",
   "execution_count": 163,
   "id": "68d011af",
   "metadata": {},
   "outputs": [],
   "source": [
    "def get_bmi(kg, m):\n",
    "    # bmi = kg / (1 / m) * (1 / m)\n",
    "    m_2 = m * 0.01\n",
    "    bmi = kg / (m_2 * m_2)\n",
    "    if bmi < 18.5:\n",
    "        print('마른체중입니다. BMI는 %s입니다.' % bmi)\n",
    "    elif bmi >= 18.5 and bmi <25.0:\n",
    "        print('표준입니다. BMI는 %s입니다.' % bmi)\n",
    "    elif bmi >= 25.0 and bmi <30.0:\n",
    "        print('비민입니다. BMI는 %s입니다.' % bmi)\n",
    "    else:\n",
    "        print('고도비민입니다. BMI는 %s입니다.' % bmi)"
   ]
  },
  {
   "cell_type": "code",
   "execution_count": 165,
   "id": "0ae14663",
   "metadata": {
    "scrolled": true
   },
   "outputs": [
    {
     "name": "stdout",
     "output_type": "stream",
     "text": [
      "표준입니다. BMI는 21.79930795847751입니다.\n"
     ]
    }
   ],
   "source": [
    "get_bmi(63, 170)"
   ]
  },
  {
   "cell_type": "code",
   "execution_count": 166,
   "id": "999f2957",
   "metadata": {
    "scrolled": true
   },
   "outputs": [
    {
     "name": "stdout",
     "output_type": "stream",
     "text": [
      "Height (cm): 100\n",
      "Weight (kg): 50\n",
      "BMI:  50.0\n",
      "고도비만\n",
      "Height (cm): 100\n",
      "Weight (kg): 20\n",
      "BMI:  20.0\n",
      "표준\n",
      "Height (cm): 100\n",
      "Weight (kg): 5\n",
      "BMI:  5.0\n",
      "마른체형\n",
      "Height (cm): \n"
     ]
    },
    {
     "ename": "KeyboardInterrupt",
     "evalue": "Interrupted by user",
     "output_type": "error",
     "traceback": [
      "\u001b[1;31m---------------------------------------------------------------------------\u001b[0m",
      "\u001b[1;31mKeyboardInterrupt\u001b[0m                         Traceback (most recent call last)",
      "Input \u001b[1;32mIn [166]\u001b[0m, in \u001b[0;36m<cell line: 14>\u001b[1;34m()\u001b[0m\n\u001b[0;32m     13\u001b[0m \u001b[38;5;28;01mwhile\u001b[39;00m \u001b[38;5;241m1\u001b[39m:\n\u001b[0;32m     14\u001b[0m     height \u001b[38;5;241m=\u001b[39m \u001b[38;5;28minput\u001b[39m(\u001b[38;5;124m\"\u001b[39m\u001b[38;5;124mHeight (cm): \u001b[39m\u001b[38;5;124m\"\u001b[39m)\n\u001b[1;32m---> 15\u001b[0m     weight \u001b[38;5;241m=\u001b[39m \u001b[38;5;28;43minput\u001b[39;49m\u001b[43m(\u001b[49m\u001b[38;5;124;43m\"\u001b[39;49m\u001b[38;5;124;43mWeight (kg): \u001b[39;49m\u001b[38;5;124;43m\"\u001b[39;49m\u001b[43m)\u001b[49m\n\u001b[0;32m     16\u001b[0m     cal_bmi2(\u001b[38;5;28mfloat\u001b[39m(height), \u001b[38;5;28mfloat\u001b[39m(weight))\n",
      "File \u001b[1;32m~\\.conda\\envs\\py38\\lib\\site-packages\\ipykernel\\kernelbase.py:1075\u001b[0m, in \u001b[0;36mKernel.raw_input\u001b[1;34m(self, prompt)\u001b[0m\n\u001b[0;32m   1071\u001b[0m \u001b[38;5;28;01mif\u001b[39;00m \u001b[38;5;129;01mnot\u001b[39;00m \u001b[38;5;28mself\u001b[39m\u001b[38;5;241m.\u001b[39m_allow_stdin:\n\u001b[0;32m   1072\u001b[0m     \u001b[38;5;28;01mraise\u001b[39;00m StdinNotImplementedError(\n\u001b[0;32m   1073\u001b[0m         \u001b[38;5;124m\"\u001b[39m\u001b[38;5;124mraw_input was called, but this frontend does not support input requests.\u001b[39m\u001b[38;5;124m\"\u001b[39m\n\u001b[0;32m   1074\u001b[0m     )\n\u001b[1;32m-> 1075\u001b[0m \u001b[38;5;28;01mreturn\u001b[39;00m \u001b[38;5;28;43mself\u001b[39;49m\u001b[38;5;241;43m.\u001b[39;49m\u001b[43m_input_request\u001b[49m\u001b[43m(\u001b[49m\n\u001b[0;32m   1076\u001b[0m \u001b[43m    \u001b[49m\u001b[38;5;28;43mstr\u001b[39;49m\u001b[43m(\u001b[49m\u001b[43mprompt\u001b[49m\u001b[43m)\u001b[49m\u001b[43m,\u001b[49m\n\u001b[0;32m   1077\u001b[0m \u001b[43m    \u001b[49m\u001b[38;5;28;43mself\u001b[39;49m\u001b[38;5;241;43m.\u001b[39;49m\u001b[43m_parent_ident\u001b[49m\u001b[43m[\u001b[49m\u001b[38;5;124;43m\"\u001b[39;49m\u001b[38;5;124;43mshell\u001b[39;49m\u001b[38;5;124;43m\"\u001b[39;49m\u001b[43m]\u001b[49m\u001b[43m,\u001b[49m\n\u001b[0;32m   1078\u001b[0m \u001b[43m    \u001b[49m\u001b[38;5;28;43mself\u001b[39;49m\u001b[38;5;241;43m.\u001b[39;49m\u001b[43mget_parent\u001b[49m\u001b[43m(\u001b[49m\u001b[38;5;124;43m\"\u001b[39;49m\u001b[38;5;124;43mshell\u001b[39;49m\u001b[38;5;124;43m\"\u001b[39;49m\u001b[43m)\u001b[49m\u001b[43m,\u001b[49m\n\u001b[0;32m   1079\u001b[0m \u001b[43m    \u001b[49m\u001b[43mpassword\u001b[49m\u001b[38;5;241;43m=\u001b[39;49m\u001b[38;5;28;43;01mFalse\u001b[39;49;00m\u001b[43m,\u001b[49m\n\u001b[0;32m   1080\u001b[0m \u001b[43m\u001b[49m\u001b[43m)\u001b[49m\n",
      "File \u001b[1;32m~\\.conda\\envs\\py38\\lib\\site-packages\\ipykernel\\kernelbase.py:1120\u001b[0m, in \u001b[0;36mKernel._input_request\u001b[1;34m(self, prompt, ident, parent, password)\u001b[0m\n\u001b[0;32m   1117\u001b[0m             \u001b[38;5;28;01mbreak\u001b[39;00m\n\u001b[0;32m   1118\u001b[0m \u001b[38;5;28;01mexcept\u001b[39;00m \u001b[38;5;167;01mKeyboardInterrupt\u001b[39;00m:\n\u001b[0;32m   1119\u001b[0m     \u001b[38;5;66;03m# re-raise KeyboardInterrupt, to truncate traceback\u001b[39;00m\n\u001b[1;32m-> 1120\u001b[0m     \u001b[38;5;28;01mraise\u001b[39;00m \u001b[38;5;167;01mKeyboardInterrupt\u001b[39;00m(\u001b[38;5;124m\"\u001b[39m\u001b[38;5;124mInterrupted by user\u001b[39m\u001b[38;5;124m\"\u001b[39m) \u001b[38;5;28;01mfrom\u001b[39;00m \u001b[38;5;28mNone\u001b[39m\n\u001b[0;32m   1121\u001b[0m \u001b[38;5;28;01mexcept\u001b[39;00m \u001b[38;5;167;01mException\u001b[39;00m:\n\u001b[0;32m   1122\u001b[0m     \u001b[38;5;28mself\u001b[39m\u001b[38;5;241m.\u001b[39mlog\u001b[38;5;241m.\u001b[39mwarning(\u001b[38;5;124m\"\u001b[39m\u001b[38;5;124mInvalid Message:\u001b[39m\u001b[38;5;124m\"\u001b[39m, exc_info\u001b[38;5;241m=\u001b[39m\u001b[38;5;28;01mTrue\u001b[39;00m)\n",
      "\u001b[1;31mKeyboardInterrupt\u001b[0m: Interrupted by user"
     ]
    }
   ],
   "source": [
    "def cal_bmi2(height, weight):\n",
    "    height = height * 0.01\n",
    "    bmi = weight / (height * height)\n",
    "    print(\"BMI: \", bmi)\n",
    "    if bmi < 18.5:\n",
    "            print(\"마른체형\")\n",
    "    elif 18.5 <= bmi < 25.0:\n",
    "            print(\"표준\")\n",
    "    elif 25.0 <= bmi < 30.0:\n",
    "            print(\"비만\")\n",
    "    else:\n",
    "                print(\"고도비만\")\n",
    "while 1:\n",
    "    height = input(\"Height (cm): \")\n",
    "    weight = input(\"Weight (kg): \")\n",
    "    cal_bmi2(float(height), float(weight))"
   ]
  },
  {
   "cell_type": "code",
   "execution_count": 168,
   "id": "e3884179",
   "metadata": {},
   "outputs": [],
   "source": [
    "def get_triangle_area(width, height):\n",
    "    return width * height / 2\n"
   ]
  },
  {
   "cell_type": "code",
   "execution_count": 170,
   "id": "7b054336",
   "metadata": {},
   "outputs": [
    {
     "data": {
      "text/plain": [
       "25.0"
      ]
     },
     "execution_count": 170,
     "metadata": {},
     "output_type": "execute_result"
    }
   ],
   "source": [
    "get_triangle_area(10, 5)"
   ]
  },
  {
   "cell_type": "code",
   "execution_count": 171,
   "id": "669a6e67",
   "metadata": {},
   "outputs": [],
   "source": [
    "def add_start_to_end(start, end):\n",
    "    return sum(range(start, end+1))\n"
   ]
  },
  {
   "cell_type": "code",
   "execution_count": 172,
   "id": "163bf1bd",
   "metadata": {
    "scrolled": true
   },
   "outputs": [
    {
     "data": {
      "text/plain": [
       "55"
      ]
     },
     "execution_count": 172,
     "metadata": {},
     "output_type": "execute_result"
    }
   ],
   "source": [
    "add_start_to_end(1,10)\n"
   ]
  },
  {
   "cell_type": "code",
   "execution_count": 173,
   "id": "ef460beb",
   "metadata": {},
   "outputs": [],
   "source": [
    "def get_abbr(data_list):\n",
    "    result = []\n",
    "    for x in data_list:\n",
    "        result.append(x[:3])\n",
    "    return result"
   ]
  },
  {
   "cell_type": "code",
   "execution_count": 174,
   "id": "41e391b5",
   "metadata": {},
   "outputs": [
    {
     "data": {
      "text/plain": [
       "['Seo', 'Dae', 'Kwa', 'Jej']"
      ]
     },
     "execution_count": 174,
     "metadata": {},
     "output_type": "execute_result"
    }
   ],
   "source": [
    "get_abbr(['Seoul', 'Daegu', 'Kwangju', 'Jeju'])\n"
   ]
  }
 ],
 "metadata": {
  "kernelspec": {
   "display_name": "Python 3 (ipykernel)",
   "language": "python",
   "name": "python3"
  },
  "language_info": {
   "codemirror_mode": {
    "name": "ipython",
    "version": 3
   },
   "file_extension": ".py",
   "mimetype": "text/x-python",
   "name": "python",
   "nbconvert_exporter": "python",
   "pygments_lexer": "ipython3",
   "version": "3.8.13"
  }
 },
 "nbformat": 4,
 "nbformat_minor": 5
}
