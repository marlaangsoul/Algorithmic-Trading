{
 "cells": [
  {
   "cell_type": "code",
   "execution_count": 2,
   "id": "55c1a04c",
   "metadata": {},
   "outputs": [
    {
     "name": "stdout",
     "output_type": "stream",
     "text": [
      "안녕하세요.\n"
     ]
    }
   ],
   "source": [
    "print(\"안녕하세요.\")"
   ]
  },
  {
   "cell_type": "markdown",
   "id": "3aa436c6",
   "metadata": {},
   "source": [
    "## 파이썬 들여쓰기\n",
    "\n",
    "파이썬은 들여쓰기가 필수다. \n",
    "\n",
    "'Indent' 라는 단어가 포함된 오류 메시지는 띄어스기에 문제가 있을 가능성이 높다.\n"
   ]
  },
  {
   "cell_type": "markdown",
   "id": "5b4a24db",
   "metadata": {},
   "source": [
    "#### 파이썬 연습문제\n",
    "- 문제 1-1 파이썬을 윈도우 환경에 직접 설치합니다. \n",
    "- 문제 1-2 파이썬 IDLE를 실행한 후 화면에 '주식은 대박이다.'라는 글자를 출력해 보세요.\n",
    "- 문제 1-3 파이썬에서 콘솔에 어떤 값을 출력할 때 사용하는 키워드(keyword)는 무엇인가요?\n",
    "- 문제 1-4 다음 다섯 가지 파이썬 표현 중 정상적으로 화면에 값이 출력되는 것을 고르시오."
   ]
  },
  {
   "cell_type": "markdown",
   "id": "9b8a1302",
   "metadata": {},
   "source": [
    "문제 1 V"
   ]
  },
  {
   "cell_type": "code",
   "execution_count": 6,
   "id": "b5d8c08e",
   "metadata": {},
   "outputs": [
    {
     "name": "stdout",
     "output_type": "stream",
     "text": [
      "주식은 대박이다.\n"
     ]
    }
   ],
   "source": [
    "print(\"주식은 대박이다.\")"
   ]
  },
  {
   "cell_type": "markdown",
   "id": "bcd29c4b",
   "metadata": {},
   "source": [
    "print"
   ]
  },
  {
   "cell_type": "code",
   "execution_count": 8,
   "id": "9c133a7e",
   "metadata": {},
   "outputs": [
    {
     "name": "stdout",
     "output_type": "stream",
     "text": [
      "I love 'you'\n"
     ]
    }
   ],
   "source": [
    "print(\"I love 'you'\")\n"
   ]
  },
  {
   "cell_type": "code",
   "execution_count": 9,
   "id": "1ce005b4",
   "metadata": {},
   "outputs": [
    {
     "ename": "SyntaxError",
     "evalue": "EOL while scanning string literal (3170430565.py, line 1)",
     "output_type": "error",
     "traceback": [
      "\u001b[1;36m  Input \u001b[1;32mIn [9]\u001b[1;36m\u001b[0m\n\u001b[1;33m    print(\"I like you')\u001b[0m\n\u001b[1;37m                       ^\u001b[0m\n\u001b[1;31mSyntaxError\u001b[0m\u001b[1;31m:\u001b[0m EOL while scanning string literal\n"
     ]
    }
   ],
   "source": [
    "print(\"I like you')\n"
   ]
  },
  {
   "cell_type": "code",
   "execution_count": 10,
   "id": "a7ce58cd",
   "metadata": {},
   "outputs": [
    {
     "name": "stdout",
     "output_type": "stream",
     "text": [
      "Korea\n"
     ]
    }
   ],
   "source": [
    "print('Korea')\n"
   ]
  },
  {
   "cell_type": "code",
   "execution_count": 11,
   "id": "b785db3d",
   "metadata": {},
   "outputs": [
    {
     "ename": "SyntaxError",
     "evalue": "invalid syntax (1291651472.py, line 1)",
     "output_type": "error",
     "traceback": [
      "\u001b[1;36m  Input \u001b[1;32mIn [11]\u001b[1;36m\u001b[0m\n\u001b[1;33m    print{Hello}\u001b[0m\n\u001b[1;37m         ^\u001b[0m\n\u001b[1;31mSyntaxError\u001b[0m\u001b[1;31m:\u001b[0m invalid syntax\n"
     ]
    }
   ],
   "source": [
    "print{Hello}\n"
   ]
  },
  {
   "cell_type": "markdown",
   "id": "cf243c34",
   "metadata": {},
   "source": [
    "ㄴ 위는 순서가 없는 자료 구조 중, set 클래스로 쓸수 있다. print랑은 별개. "
   ]
  },
  {
   "cell_type": "code",
   "execution_count": 12,
   "id": "3cb0c681",
   "metadata": {
    "scrolled": true
   },
   "outputs": [
    {
     "ename": "NameError",
     "evalue": "name 'Hello' is not defined",
     "output_type": "error",
     "traceback": [
      "\u001b[1;31m---------------------------------------------------------------------------\u001b[0m",
      "\u001b[1;31mNameError\u001b[0m                                 Traceback (most recent call last)",
      "Input \u001b[1;32mIn [12]\u001b[0m, in \u001b[0;36m<cell line: 1>\u001b[1;34m()\u001b[0m\n\u001b[1;32m----> 1\u001b[0m \u001b[38;5;28mprint\u001b[39m[\u001b[43mHello\u001b[49m]\n",
      "\u001b[1;31mNameError\u001b[0m: name 'Hello' is not defined"
     ]
    }
   ],
   "source": [
    "print[Hello]\n"
   ]
  },
  {
   "cell_type": "markdown",
   "id": "631b8c31",
   "metadata": {},
   "source": [
    "### 02. 파이썬 변수와 문자열 (revision)\n",
    "파이썬 프로그래밍의 기본 데이터 타입인 정수, 실수, 문자열(string)"
   ]
  },
  {
   "cell_type": "code",
   "execution_count": 13,
   "id": "dcc88739",
   "metadata": {},
   "outputs": [
    {
     "data": {
      "text/plain": [
       "6010000"
      ]
     },
     "execution_count": 13,
     "metadata": {},
     "output_type": "execute_result"
    }
   ],
   "source": [
    "601000*10"
   ]
  },
  {
   "cell_type": "code",
   "execution_count": 14,
   "id": "9b154f1b",
   "metadata": {},
   "outputs": [
    {
     "data": {
      "text/plain": [
       "582970.0"
      ]
     },
     "execution_count": 14,
     "metadata": {},
     "output_type": "execute_result"
    }
   ],
   "source": [
    "601000 * 0.97"
   ]
  },
  {
   "cell_type": "markdown",
   "id": "748fd80b",
   "metadata": {},
   "source": [
    "만약 현재가가 582970보다 낮으면\n",
    "\n",
    "    보유 주식을 전량 매도\n",
    "    \n",
    "그렇지 않으면 \n",
    "\n",
    "    보유\n",
    "    "
   ]
  },
  {
   "cell_type": "code",
   "execution_count": 19,
   "id": "b58c5c0f",
   "metadata": {},
   "outputs": [
    {
     "name": "stdout",
     "output_type": "stream",
     "text": [
      "14000\n",
      "11800\n"
     ]
    }
   ],
   "source": [
    "print(601000 - 587000)\n",
    "print(180 * 10 + 10000)"
   ]
  },
  {
   "cell_type": "code",
   "execution_count": 17,
   "id": "44bae23c",
   "metadata": {},
   "outputs": [
    {
     "data": {
      "text/plain": [
       "11800"
      ]
     },
     "execution_count": 17,
     "metadata": {},
     "output_type": "execute_result"
    }
   ],
   "source": [
    "(180 * 10) + 10000"
   ]
  },
  {
   "cell_type": "code",
   "execution_count": 18,
   "id": "eb7ce7cc",
   "metadata": {},
   "outputs": [],
   "source": [
    "naver = 601000\n"
   ]
  },
  {
   "cell_type": "markdown",
   "id": "848cc12e",
   "metadata": {},
   "source": [
    "산수에서는 등호 표시(=)가 ‘같음’을 의미하지만 파이썬에서는 바인딩(binding)을 의미"
   ]
  },
  {
   "attachments": {
    "image.png": {
     "image/png": "[encoded data removed]"
    }
   },
   "cell_type": "markdown",
   "id": "25dd97d5",
   "metadata": {},
   "source": [
    "![image.png](attachment:image.png)"
   ]
  },
  {
   "cell_type": "code",
   "execution_count": 20,
   "id": "71845ebc",
   "metadata": {},
   "outputs": [
    {
     "data": {
      "text/plain": [
       "601000"
      ]
     },
     "execution_count": 20,
     "metadata": {},
     "output_type": "execute_result"
    }
   ],
   "source": [
    "naver"
   ]
  },
  {
   "cell_type": "code",
   "execution_count": 21,
   "id": "c39b22ae",
   "metadata": {},
   "outputs": [
    {
     "data": {
      "text/plain": [
       "6010000"
      ]
     },
     "execution_count": 21,
     "metadata": {},
     "output_type": "execute_result"
    }
   ],
   "source": [
    "naver * 10 \n"
   ]
  },
  {
   "cell_type": "code",
   "execution_count": 22,
   "id": "d4349c5d",
   "metadata": {},
   "outputs": [],
   "source": [
    "naver_juga = 601000"
   ]
  },
  {
   "cell_type": "code",
   "execution_count": 23,
   "id": "ea8de5ef",
   "metadata": {},
   "outputs": [
    {
     "data": {
      "text/plain": [
       "601000"
      ]
     },
     "execution_count": 23,
     "metadata": {},
     "output_type": "execute_result"
    }
   ],
   "source": [
    "naver_juga"
   ]
  },
  {
   "cell_type": "code",
   "execution_count": 24,
   "id": "2c98a072",
   "metadata": {},
   "outputs": [],
   "source": [
    "monday_end_price = 10000 - (10000 * 0.3)\n"
   ]
  },
  {
   "cell_type": "code",
   "execution_count": 25,
   "id": "a442ed5b",
   "metadata": {},
   "outputs": [],
   "source": [
    "tuesday_end_price = monday_end_price - (monday_end_price * 0.3)\n"
   ]
  },
  {
   "cell_type": "code",
   "execution_count": 26,
   "id": "9fd3f357",
   "metadata": {},
   "outputs": [
    {
     "data": {
      "text/plain": [
       "4900.0"
      ]
     },
     "execution_count": 26,
     "metadata": {},
     "output_type": "execute_result"
    }
   ],
   "source": [
    "tuesday_end_price"
   ]
  },
  {
   "cell_type": "code",
   "execution_count": 27,
   "id": "b2dc9fda",
   "metadata": {},
   "outputs": [],
   "source": [
    "x = 100"
   ]
  },
  {
   "cell_type": "code",
   "execution_count": 28,
   "id": "4554b778",
   "metadata": {},
   "outputs": [
    {
     "data": {
      "text/plain": [
       "140730548628320"
      ]
     },
     "execution_count": 28,
     "metadata": {},
     "output_type": "execute_result"
    }
   ],
   "source": [
    "x = 100\n",
    "id(x)\n"
   ]
  },
  {
   "cell_type": "code",
   "execution_count": 29,
   "id": "631b942b",
   "metadata": {},
   "outputs": [],
   "source": [
    " y = 100"
   ]
  },
  {
   "cell_type": "code",
   "execution_count": 30,
   "id": "3918c08e",
   "metadata": {
    "scrolled": true
   },
   "outputs": [
    {
     "data": {
      "text/plain": [
       "140730548628320"
      ]
     },
     "execution_count": 30,
     "metadata": {},
     "output_type": "execute_result"
    }
   ],
   "source": [
    "id(y)\n"
   ]
  },
  {
   "attachments": {
    "image.png": {
     "image/png": "[encoded data removed]"
    }
   },
   "cell_type": "markdown",
   "id": "75e04f55",
   "metadata": {},
   "source": [
    "![image.png](attachment:image.png)"
   ]
  },
  {
   "attachments": {
    "image.png": {
     "image/png": "[encoded data removed]"
    }
   },
   "cell_type": "markdown",
   "id": "f7d302d2",
   "metadata": {},
   "source": [
    "![image.png](attachment:image.png)"
   ]
  },
  {
   "cell_type": "code",
   "execution_count": 31,
   "id": "86f768ac",
   "metadata": {},
   "outputs": [
    {
     "data": {
      "text/plain": [
       "(1935499985136, 1935499985232)"
      ]
     },
     "execution_count": 31,
     "metadata": {},
     "output_type": "execute_result"
    }
   ],
   "source": [
    "x = 10000\n",
    "y = 10000\n",
    "id(x), id(y)\n"
   ]
  },
  {
   "attachments": {
    "image.png": {
     "image/png": "[encoded data removed]"
    }
   },
   "cell_type": "markdown",
   "id": "4bcf9416",
   "metadata": {},
   "source": [
    "![image.png](attachment:image.png)"
   ]
  },
  {
   "cell_type": "code",
   "execution_count": 32,
   "id": "fc38999c",
   "metadata": {},
   "outputs": [],
   "source": [
    ">>> mystring  = 'hello world'\n",
    ">>> mystring1 = 'a'\n",
    ">>> mystring2 = \"a\"\n",
    ">>> mystring3 = \"abc mart\""
   ]
  },
  {
   "cell_type": "code",
   "execution_count": 34,
   "id": "ada9dc03",
   "metadata": {},
   "outputs": [
    {
     "name": "stdout",
     "output_type": "stream",
     "text": [
      "hello world\n",
      "a\n",
      "a\n",
      "abc mart\n"
     ]
    }
   ],
   "source": [
    "print(mystring)\n",
    "print(mystring1)\n",
    "print(mystring2)\n",
    "print(mystring3)"
   ]
  },
  {
   "cell_type": "code",
   "execution_count": 35,
   "id": "c8c9edb6",
   "metadata": {},
   "outputs": [
    {
     "data": {
      "text/plain": [
       "'hello world'"
      ]
     },
     "execution_count": 35,
     "metadata": {},
     "output_type": "execute_result"
    }
   ],
   "source": [
    "mystring"
   ]
  },
  {
   "cell_type": "code",
   "execution_count": 36,
   "id": "8e58d715",
   "metadata": {},
   "outputs": [
    {
     "data": {
      "text/plain": [
       "11"
      ]
     },
     "execution_count": 36,
     "metadata": {},
     "output_type": "execute_result"
    }
   ],
   "source": [
    "len(mystring)"
   ]
  },
  {
   "cell_type": "code",
   "execution_count": 37,
   "id": "da26d9e7",
   "metadata": {},
   "outputs": [
    {
     "data": {
      "text/plain": [
       "'hello'"
      ]
     },
     "execution_count": 37,
     "metadata": {},
     "output_type": "execute_result"
    }
   ],
   "source": [
    "mystring[0:5]"
   ]
  },
  {
   "cell_type": "code",
   "execution_count": 39,
   "id": "0f229a53",
   "metadata": {},
   "outputs": [
    {
     "data": {
      "text/plain": [
       "'world'"
      ]
     },
     "execution_count": 39,
     "metadata": {},
     "output_type": "execute_result"
    }
   ],
   "source": [
    "mystring[6:11]"
   ]
  },
  {
   "cell_type": "code",
   "execution_count": 38,
   "id": "765567c5",
   "metadata": {
    "scrolled": true
   },
   "outputs": [
    {
     "data": {
      "text/plain": [
       "'world'"
      ]
     },
     "execution_count": 38,
     "metadata": {},
     "output_type": "execute_result"
    }
   ],
   "source": [
    "mystring[6:]"
   ]
  },
  {
   "attachments": {
    "image.png": {
     "image/png": "[encoded data removed]"
    }
   },
   "cell_type": "markdown",
   "id": "4cbebe7c",
   "metadata": {},
   "source": [
    "![image.png](attachment:image.png)"
   ]
  },
  {
   "cell_type": "code",
   "execution_count": 40,
   "id": "8d9e4529",
   "metadata": {},
   "outputs": [
    {
     "data": {
      "text/plain": [
       "'worl'"
      ]
     },
     "execution_count": 40,
     "metadata": {},
     "output_type": "execute_result"
    }
   ],
   "source": [
    "mystring[6:-1]\n"
   ]
  },
  {
   "cell_type": "code",
   "execution_count": 41,
   "id": "a22eb003",
   "metadata": {},
   "outputs": [],
   "source": [
    "my_jusik = \"naver daum\""
   ]
  },
  {
   "cell_type": "code",
   "execution_count": 42,
   "id": "a22dd702",
   "metadata": {},
   "outputs": [
    {
     "data": {
      "text/plain": [
       "'naver daum'"
      ]
     },
     "execution_count": 42,
     "metadata": {},
     "output_type": "execute_result"
    }
   ],
   "source": [
    "my_jusik"
   ]
  },
  {
   "cell_type": "markdown",
   "id": "cc3e3d5b",
   "metadata": {},
   "source": [
    "split이라는 메서드(method)"
   ]
  },
  {
   "cell_type": "code",
   "execution_count": 43,
   "id": "ac3f2a4b",
   "metadata": {
    "scrolled": true
   },
   "outputs": [
    {
     "data": {
      "text/plain": [
       "['naver', 'daum']"
      ]
     },
     "execution_count": 43,
     "metadata": {},
     "output_type": "execute_result"
    }
   ],
   "source": [
    "my_jusik.split(' ')"
   ]
  },
  {
   "cell_type": "code",
   "execution_count": 44,
   "id": "fdd7c623",
   "metadata": {},
   "outputs": [
    {
     "data": {
      "text/plain": [
       "'naver'"
      ]
     },
     "execution_count": 44,
     "metadata": {},
     "output_type": "execute_result"
    }
   ],
   "source": [
    "my_jusik.split(' ')[0]\n"
   ]
  },
  {
   "cell_type": "markdown",
   "id": "9e496a2b",
   "metadata": {},
   "source": [
    "ㄴ split(' ')의 반환값이 리스트"
   ]
  },
  {
   "cell_type": "code",
   "execution_count": 46,
   "id": "e90b14b6",
   "metadata": {},
   "outputs": [
    {
     "name": "stdout",
     "output_type": "stream",
     "text": [
      "naver\n"
     ]
    }
   ],
   "source": [
    "print(my_jusik.split(' ')[0])\n"
   ]
  },
  {
   "cell_type": "code",
   "execution_count": 51,
   "id": "6d66b7c8",
   "metadata": {},
   "outputs": [
    {
     "name": "stdout",
     "output_type": "stream",
     "text": [
      "['naver', 'daum']\n",
      "naver\n"
     ]
    }
   ],
   "source": [
    "split_jusik = my_jusik.split(' ')\n",
    "print(split_jusik)\n",
    "print(split_jusik[0])\n",
    "\n"
   ]
  },
  {
   "cell_type": "code",
   "execution_count": 53,
   "id": "40e54c95",
   "metadata": {},
   "outputs": [],
   "source": [
    "daum = \"Daum\"\n",
    "kakao = \"KAKAO\""
   ]
  },
  {
   "cell_type": "code",
   "execution_count": 54,
   "id": "d5d1e709",
   "metadata": {},
   "outputs": [
    {
     "data": {
      "text/plain": [
       "'DaumKAKAO'"
      ]
     },
     "execution_count": 54,
     "metadata": {},
     "output_type": "execute_result"
    }
   ],
   "source": [
    "daum + kakao\n"
   ]
  },
  {
   "cell_type": "code",
   "execution_count": 55,
   "id": "be3b82a5",
   "metadata": {},
   "outputs": [
    {
     "data": {
      "text/plain": [
       "'Daum KAKAO'"
      ]
     },
     "execution_count": 55,
     "metadata": {},
     "output_type": "execute_result"
    }
   ],
   "source": [
    "daum + ' ' + kakao"
   ]
  },
  {
   "cell_type": "code",
   "execution_count": 56,
   "id": "bcf77007",
   "metadata": {},
   "outputs": [],
   "source": [
    "daum_kakao = daum + ' ' + kakao"
   ]
  },
  {
   "cell_type": "code",
   "execution_count": 57,
   "id": "31b156d6",
   "metadata": {},
   "outputs": [
    {
     "data": {
      "text/plain": [
       "'Daum KAKAO'"
      ]
     },
     "execution_count": 57,
     "metadata": {},
     "output_type": "execute_result"
    }
   ],
   "source": [
    "daum_kakao"
   ]
  },
  {
   "cell_type": "code",
   "execution_count": 59,
   "id": "ff72e7cf",
   "metadata": {},
   "outputs": [
    {
     "name": "stdout",
     "output_type": "stream",
     "text": [
      "<class 'int'>\n"
     ]
    }
   ],
   "source": [
    "print(type(70000))\n"
   ]
  },
  {
   "cell_type": "code",
   "execution_count": 60,
   "id": "8017c4bb",
   "metadata": {},
   "outputs": [
    {
     "data": {
      "text/plain": [
       "int"
      ]
     },
     "execution_count": 60,
     "metadata": {},
     "output_type": "execute_result"
    }
   ],
   "source": [
    "type(70000)"
   ]
  },
  {
   "cell_type": "code",
   "execution_count": 61,
   "id": "c50078d0",
   "metadata": {},
   "outputs": [
    {
     "data": {
      "text/plain": [
       "float"
      ]
     },
     "execution_count": 61,
     "metadata": {},
     "output_type": "execute_result"
    }
   ],
   "source": [
    "type(3.141592)\n"
   ]
  },
  {
   "cell_type": "code",
   "execution_count": 62,
   "id": "cf6626e5",
   "metadata": {},
   "outputs": [
    {
     "data": {
      "text/plain": [
       "str"
      ]
     },
     "execution_count": 62,
     "metadata": {},
     "output_type": "execute_result"
    }
   ],
   "source": [
    "type('python')\n"
   ]
  },
  {
   "cell_type": "code",
   "execution_count": 63,
   "id": "1a379d2e",
   "metadata": {},
   "outputs": [
    {
     "data": {
      "text/plain": [
       "str"
      ]
     },
     "execution_count": 63,
     "metadata": {},
     "output_type": "execute_result"
    }
   ],
   "source": [
    "type('jusik')\n"
   ]
  },
  {
   "cell_type": "markdown",
   "id": "54ed03dd",
   "metadata": {},
   "source": [
    "문제 2-1 다음(Daum)의 주가가 89,000원이고 네이버(Naver)의 주가가 751,000원이라고 가정하고, 어떤 사람이 다음 주식 100주와 네이버 주식 20주를 가지고 있을 때 그 사람이 가지고 있는 주식의 총액을 계산하는 프로그램을 작성하세요.\n",
    "\n",
    "문제 2-2 문제 2-1에서 구한 주식 총액에서 다음과 네이버의 주가가 각각 5%, 10% 하락한 경우에 손실액을 구하는 프로그램을 작성하세요.\n",
    "\n",
    "문제 2-3 우리나라는 섭씨 온도를 사용하는 반면 미국과 유럽은 화씨 온도를 주로 사용합니다. 화씨 온도(F)를 섭씨 온도(C)로 변환할 때는 다음과 같은 공식을 사용합니다. 이 공식을 사용해 화씨 온도가 50일 때의 섭씨 온도를 계산해 보세요.\n",
    "\n",
    "C = (F-32)/1.8\n",
    "문제 2-4 화면에 \"pizza\"를 10번 출력하는 프로그램을 작성하세요.\n",
    "\n",
    "문제 2-5 월요일에 네이버의 주가가 100만 원으로 시작해 3일 연속으로 하한가(-30%)를 기록했을 때 수요일의 종가를 계산해 보세요.\n",
    "\n",
    "문제 2-6 다음 형식과 같이 이름, 생년월일, 주민등록번호를 출력하는 프로그램을 작성해 보세요. 이름: 파이썬 생년월일: 2014년 12월 12일 주민등록번호: 20141212-1623210\n",
    "\n",
    "문제 2-7 s라는 변수에 'Daum KaKao'라는 문자열이 바인딩돼 있다고 했을 때 문자열의 슬라이싱 기능과 연결하기를 이용해 s의 값을 'KaKao Daum'으로 변경해 보세요.\n",
    "\n",
    "문제 2-8 a라는 변수에 'hello world'라는 문자열이 바인딩돼 있다고 했을 때 a의 값을 'hi world'로 변경해 보세요.\n",
    "\n",
    "문제 2-9 x라는 변수에 'abcdef'라는 문자열이 바인딩돼 있다고 했을 때 x의 값을 'bcdefa'로 변경해 보세요.\n",
    "\n"
   ]
  },
  {
   "cell_type": "code",
   "execution_count": 68,
   "id": "3eb6b9f7",
   "metadata": {},
   "outputs": [
    {
     "name": "stdout",
     "output_type": "stream",
     "text": [
      "23920000\n"
     ]
    }
   ],
   "source": [
    "# 문제 2-1 \n",
    "\n",
    "daum_juga = 89000\n",
    "naver_juga = 751000\n",
    "a_daum = 100\n",
    "a_naver = 20\n",
    "a_daum_jusik = daum_juga * a_daum\n",
    "a_naver_jusik = naver_juga * a_naver\n",
    "\n",
    "sum = (a_daum_jusik) + (a_naver_jusik)\n",
    "print(sum)"
   ]
  },
  {
   "cell_type": "code",
   "execution_count": 69,
   "id": "d6618685",
   "metadata": {},
   "outputs": [
    {
     "data": {
      "text/plain": [
       "21973000.0"
      ]
     },
     "execution_count": 69,
     "metadata": {},
     "output_type": "execute_result"
    }
   ],
   "source": [
    "# 문제 2-2\n",
    "a_daum_jusik * 0.95 + a_naver_jusik * 0.90"
   ]
  },
  {
   "cell_type": "code",
   "execution_count": 71,
   "id": "cd1ff627",
   "metadata": {},
   "outputs": [
    {
     "name": "stdout",
     "output_type": "stream",
     "text": [
      "10.0\n"
     ]
    }
   ],
   "source": [
    "F = 50\n",
    "C = 0\n",
    "C = (F-32)/1.8\n",
    "print(C)"
   ]
  },
  {
   "cell_type": "code",
   "execution_count": 75,
   "id": "78db442a",
   "metadata": {},
   "outputs": [
    {
     "data": {
      "text/plain": [
       "'pizzapizzapizzapizzapizzapizzapizzapizzapizzapizza'"
      ]
     },
     "execution_count": 75,
     "metadata": {},
     "output_type": "execute_result"
    }
   ],
   "source": [
    "'pizza' * 10"
   ]
  },
  {
   "cell_type": "code",
   "execution_count": 77,
   "id": "b1904b93",
   "metadata": {
    "scrolled": true
   },
   "outputs": [
    {
     "data": {
      "text/plain": [
       "34.3"
      ]
     },
     "execution_count": 77,
     "metadata": {},
     "output_type": "execute_result"
    }
   ],
   "source": [
    "naver_mon = 100\n",
    "naver_mon * 0.7 * 0.7 * 0.7"
   ]
  },
  {
   "cell_type": "code",
   "execution_count": 78,
   "id": "ad32fb63",
   "metadata": {},
   "outputs": [
    {
     "name": "stdout",
     "output_type": "stream",
     "text": [
      "\n",
      "이름 : 파이썬\n",
      "생년월일 : 2014년 12월 12일\n",
      "주민등록번호 : 20141212-1623210\n",
      "\n"
     ]
    }
   ],
   "source": [
    "print('''\n",
    "이름 : 파이썬\n",
    "생년월일 : 2014년 12월 12일\n",
    "주민등록번호 : 20141212-1623210\n",
    "''')"
   ]
  },
  {
   "cell_type": "code",
   "execution_count": 80,
   "id": "556f4e8f",
   "metadata": {
    "scrolled": true
   },
   "outputs": [],
   "source": [
    "s = 'Daum KaKao'"
   ]
  },
  {
   "cell_type": "code",
   "execution_count": 103,
   "id": "1ed984f7",
   "metadata": {
    "scrolled": true
   },
   "outputs": [
    {
     "name": "stdout",
     "output_type": "stream",
     "text": [
      "Daum KaKao\n",
      "KaKao\n",
      "KaKao Daum\n"
     ]
    }
   ],
   "source": [
    "s_D = s[:4]\n",
    "s_K = s[5:]\n",
    "print(s)\n",
    "print(s_K)\n",
    "print( s_K+ ' ' +s_D)"
   ]
  },
  {
   "cell_type": "code",
   "execution_count": 104,
   "id": "8c7f9f62",
   "metadata": {},
   "outputs": [],
   "source": [
    "a = 'hello world'"
   ]
  },
  {
   "cell_type": "code",
   "execution_count": 108,
   "id": "a0402153",
   "metadata": {},
   "outputs": [
    {
     "data": {
      "text/plain": [
       "['h', ' world']"
      ]
     },
     "execution_count": 108,
     "metadata": {},
     "output_type": "execute_result"
    }
   ],
   "source": [
    "a.split('ello')"
   ]
  },
  {
   "cell_type": "code",
   "execution_count": 115,
   "id": "e616a23c",
   "metadata": {},
   "outputs": [
    {
     "data": {
      "text/plain": [
       "'hi world'"
      ]
     },
     "execution_count": 115,
     "metadata": {},
     "output_type": "execute_result"
    }
   ],
   "source": [
    ">>> a = 'hi ' + a[6:]\n",
    ">>> a"
   ]
  },
  {
   "cell_type": "code",
   "execution_count": 109,
   "id": "fcdf030f",
   "metadata": {},
   "outputs": [
    {
     "name": "stdout",
     "output_type": "stream",
     "text": [
      "23920000\n"
     ]
    }
   ],
   "source": [
    ">>> daum = 89000\n",
    ">>> naver = 751000\n",
    ">>> total = daum * 100 + naver * 20\n",
    ">>> print(total)\n"
   ]
  },
  {
   "cell_type": "code",
   "execution_count": 110,
   "id": "e0b5fb76",
   "metadata": {},
   "outputs": [
    {
     "name": "stdout",
     "output_type": "stream",
     "text": [
      "1947000.0\n"
     ]
    }
   ],
   "source": [
    ">>> daum = 89000\n",
    ">>> naver = 751000\n",
    ">>> loss = (daum * 0.05 * 100) + (naver * 0.1 * 20)\n",
    ">>> print(loss)"
   ]
  },
  {
   "cell_type": "code",
   "execution_count": 111,
   "id": "ef47ce41",
   "metadata": {},
   "outputs": [
    {
     "name": "stdout",
     "output_type": "stream",
     "text": [
      "10.0\n"
     ]
    }
   ],
   "source": [
    ">>> f = 50\n",
    ">>> c = (f-32) / 1.8\n",
    ">>> print(c)\n"
   ]
  },
  {
   "cell_type": "code",
   "execution_count": 112,
   "id": "1e6a741e",
   "metadata": {},
   "outputs": [
    {
     "name": "stdout",
     "output_type": "stream",
     "text": [
      "pizza\n",
      "pizza\n",
      "pizza\n",
      "pizza\n",
      "pizza\n",
      "pizza\n",
      "pizza\n",
      "pizza\n",
      "pizza\n",
      "pizza\n",
      "\n"
     ]
    }
   ],
   "source": [
    "print(\"pizza\\n\" * 10)\n"
   ]
  },
  {
   "cell_type": "code",
   "execution_count": 114,
   "id": "e6de9cea",
   "metadata": {},
   "outputs": [
    {
     "name": "stdout",
     "output_type": "stream",
     "text": [
      "342999.99999999994\n"
     ]
    }
   ],
   "source": [
    ">>> monday_start_price = 1000000\n",
    ">>> monday_end_price = monday_start_price * 0.7\n",
    ">>> tuesday_start_price = monday_end_price\n",
    ">>> tuesday_end_price = tuesday_start_price * 0.7\n",
    ">>> wednesday_start_price = tuesday_end_price\n",
    ">>> wednesday_end_price = wednesday_start_price * 0.7\n",
    ">>> print(wednesday_end_price)"
   ]
  },
  {
   "cell_type": "code",
   "execution_count": 116,
   "id": "b23991e1",
   "metadata": {},
   "outputs": [
    {
     "data": {
      "text/plain": [
       "'bcdefa'"
      ]
     },
     "execution_count": 116,
     "metadata": {},
     "output_type": "execute_result"
    }
   ],
   "source": [
    ">>> x = 'abcdef'\n",
    ">>> x = x[1:]+x[0]\n",
    ">>> x\n",
    "'bcdefa'\n",
    ">>>"
   ]
  }
 ],
 "metadata": {
  "kernelspec": {
   "display_name": "Python 3 (ipykernel)",
   "language": "python",
   "name": "python3"
  },
  "language_info": {
   "codemirror_mode": {
    "name": "ipython",
    "version": 3
   },
   "file_extension": ".py",
   "mimetype": "text/x-python",
   "name": "python",
   "nbconvert_exporter": "python",
   "pygments_lexer": "ipython3",
   "version": "3.8.13"
  }
 },
 "nbformat": 4,
 "nbformat_minor": 5
}
