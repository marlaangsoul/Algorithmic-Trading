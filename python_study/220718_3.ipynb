{
 "cells": [
  {
   "cell_type": "code",
   "execution_count": 45,
   "id": "2af67c2a",
   "metadata": {},
   "outputs": [],
   "source": [
    "f = open('C:/bigdata0214_0811/jupyterws/Algorithmic Trading/python_study/buy_list.txt', 'rt')"
   ]
  },
  {
   "cell_type": "code",
   "execution_count": 52,
   "id": "703895a4",
   "metadata": {},
   "outputs": [
    {
     "data": {
      "text/plain": [
       "[]"
      ]
     },
     "execution_count": 52,
     "metadata": {},
     "output_type": "execute_result"
    }
   ],
   "source": [
    "lines = f.readlines()\n",
    "lines"
   ]
  },
  {
   "cell_type": "code",
   "execution_count": 58,
   "id": "cad33caa",
   "metadata": {},
   "outputs": [],
   "source": [
    "for line in lines:\n",
    "        print(line)"
   ]
  },
  {
   "cell_type": "code",
   "execution_count": 62,
   "id": "4d4efbbd",
   "metadata": {
    "scrolled": true
   },
   "outputs": [
    {
     "data": {
      "text/plain": [
       "[]"
      ]
     },
     "execution_count": 62,
     "metadata": {},
     "output_type": "execute_result"
    }
   ],
   "source": [
    "f.readlines(2)"
   ]
  },
  {
   "cell_type": "code",
   "execution_count": 63,
   "id": "a6689b2a",
   "metadata": {},
   "outputs": [],
   "source": [
    "f = open('C:./sel_list.txt', 'wt')"
   ]
  },
  {
   "cell_type": "code",
   "execution_count": 64,
   "id": "e350fea7",
   "metadata": {},
   "outputs": [
    {
     "data": {
      "text/plain": [
       "5"
      ]
     },
     "execution_count": 64,
     "metadata": {},
     "output_type": "execute_result"
    }
   ],
   "source": [
    "f.write('삼성전자\\n')\n"
   ]
  },
  {
   "cell_type": "code",
   "execution_count": 65,
   "id": "06d9be5d",
   "metadata": {},
   "outputs": [
    {
     "data": {
      "text/plain": [
       "7"
      ]
     },
     "execution_count": 65,
     "metadata": {},
     "output_type": "execute_result"
    }
   ],
   "source": [
    "f.write('SK하이닉스\\n')\n"
   ]
  },
  {
   "cell_type": "code",
   "execution_count": 66,
   "id": "95cdfe26",
   "metadata": {},
   "outputs": [],
   "source": [
    "f.close()"
   ]
  },
  {
   "cell_type": "code",
   "execution_count": null,
   "id": "dca169be",
   "metadata": {},
   "outputs": [],
   "source": [
    "f = open('c:\\\\Users\\\\Jason\\\\Desktop\\\\number.txt', 'wt')\n",
    "for i in range(1, 11):\n",
    "    f.write(\"%d\\n\" % i)\n",
    "f.close()"
   ]
  },
  {
   "cell_type": "code",
   "execution_count": null,
   "id": "951da695",
   "metadata": {},
   "outputs": [],
   "source": [
    "import os\n",
    "def print_flist(path):\n",
    "    f = open('c:\\\\Users\\\\Jason\\\\Desktop\\\\flist.txt', 'wt')\n",
    "    flist = os.listdir(path)\n",
    "    for x in flist:\n",
    "            f.write('%s\\n' % x)\n",
    "    f.close()\n",
    "print_flist('c:\\\\Anaconda3')\n"
   ]
  },
  {
   "cell_type": "code",
   "execution_count": null,
   "id": "db144386",
   "metadata": {},
   "outputs": [],
   "source": []
  }
 ],
 "metadata": {
  "kernelspec": {
   "display_name": "Python 3 (ipykernel)",
   "language": "python",
   "name": "python3"
  },
  "language_info": {
   "codemirror_mode": {
    "name": "ipython",
    "version": 3
   },
   "file_extension": ".py",
   "mimetype": "text/x-python",
   "name": "python",
   "nbconvert_exporter": "python",
   "pygments_lexer": "ipython3",
   "version": "3.8.13"
  }
 },
 "nbformat": 4,
 "nbformat_minor": 5
}
