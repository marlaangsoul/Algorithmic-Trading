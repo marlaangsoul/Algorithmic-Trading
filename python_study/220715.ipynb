{
 "cells": [
  {
   "cell_type": "markdown",
   "id": "28d431a8",
   "metadata": {},
   "source": [
    "### 리스트"
   ]
  },
  {
   "cell_type": "code",
   "execution_count": 5,
   "id": "85d736ea",
   "metadata": {},
   "outputs": [],
   "source": [
    ">>> interest1 = \"삼성전자\"\n",
    ">>> interest2 = \"LG전자\"\n",
    ">>> interest3 = \"네이버\""
   ]
  },
  {
   "cell_type": "markdown",
   "id": "7315f084",
   "metadata": {},
   "source": [
    "파이썬은 파인딩 하는것,. 바인딩. 가르키다.. 바인딩. 바인딩. 파이썬은 데이터가 저장 되는 공간 자체가 아니라, 데이터가 메모리상에서 위치하는 주솟값이 저장 되는 공간이다. \n",
    "파이썬은 데이터가 저장 되는 공간 자체가 아니라, 데이터가 메모리 상에서 위치하는 주솟값아 저장되는 공간이다..\n",
    "\n",
    "즉 파이썬은 바인딩이라고 표현하는데 데이터가 메모리 상에서 위치하는 주솟값이 저장 되는 공간이다. 파이썬의 변수가 어떤값을 바인딩 하고 있으면, 가르키고 있으면, 프롬프트 상에서 변수명을 입력한 후 엔터키를 누르면 해당 변수가 가르키는 값이 반환됩ㄴ디ㅏ.\n",
    "즉 어떤 주소값에 변수의 값이 저장 되어 있는 상태라는 뜻. 예를 들어. \n"
   ]
  },
  {
   "cell_type": "code",
   "execution_count": 6,
   "id": "6e6eb804",
   "metadata": {},
   "outputs": [
    {
     "name": "stdout",
     "output_type": "stream",
     "text": [
      "삼성전자\n"
     ]
    }
   ],
   "source": [
    "print(interest1)"
   ]
  },
  {
   "cell_type": "code",
   "execution_count": 8,
   "id": "0fc71a92",
   "metadata": {},
   "outputs": [],
   "source": [
    "interest = [\"삼성전자\", \"LG 전자\", \"네이버\"]"
   ]
  },
  {
   "cell_type": "code",
   "execution_count": 9,
   "id": "3556a26e",
   "metadata": {},
   "outputs": [
    {
     "data": {
      "text/plain": [
       "'삼성전자'"
      ]
     },
     "execution_count": 9,
     "metadata": {},
     "output_type": "execute_result"
    }
   ],
   "source": [
    "interest[0]"
   ]
  },
  {
   "cell_type": "code",
   "execution_count": 10,
   "id": "1a842a1c",
   "metadata": {},
   "outputs": [
    {
     "data": {
      "text/plain": [
       "'삼성전자'"
      ]
     },
     "execution_count": 10,
     "metadata": {},
     "output_type": "execute_result"
    }
   ],
   "source": [
    "interest[0]"
   ]
  },
  {
   "cell_type": "code",
   "execution_count": 14,
   "id": "c5ceab17",
   "metadata": {},
   "outputs": [
    {
     "data": {
      "text/plain": [
       "'네이버'"
      ]
     },
     "execution_count": 14,
     "metadata": {},
     "output_type": "execute_result"
    }
   ],
   "source": [
    "interest[2]"
   ]
  },
  {
   "cell_type": "code",
   "execution_count": 15,
   "id": "1469fc93",
   "metadata": {},
   "outputs": [
    {
     "data": {
      "text/plain": [
       "'네이버'"
      ]
     },
     "execution_count": 15,
     "metadata": {},
     "output_type": "execute_result"
    }
   ],
   "source": [
    "interest[-1]"
   ]
  },
  {
   "cell_type": "markdown",
   "id": "58786977",
   "metadata": {},
   "source": [
    "### [  /  Left Bracket (레프트 브래킷)                  /  대괄호 열기\n",
    "\n",
    "\n",
    "### ]  /   Right Bracket (라이트 브래킷)                     /   대괄호 닫기\n",
    "\n",
    "### {  /  Left Brace (레프트 브레이스)                 /  중괄호 열기\n",
    "\n",
    "### }  /  Right Brace (라이트 브레이스)               /  중괄호 닫기\n",
    "\n",
    "\n",
    "### (  /  Left Parenthesis (레프트 퍼렌씨시스)     /  소괄호 열기\n",
    "\n",
    "### )   /  Right Parenthesis (라이트 퍼렌씨시스)  /  소괄호 닫기"
   ]
  },
  {
   "cell_type": "code",
   "execution_count": 16,
   "id": "1c9ce8f8",
   "metadata": {},
   "outputs": [],
   "source": [
    "kospi_top10 = ['삼성전자', 'SK하이닉스', '현대차', '한국전력', '아모레퍼시픽', '제일모직', '삼성전자우', '삼성생명', 'NAVER', '현대모비스']"
   ]
  },
  {
   "cell_type": "code",
   "execution_count": 17,
   "id": "fa727856",
   "metadata": {},
   "outputs": [
    {
     "name": "stdout",
     "output_type": "stream",
     "text": [
      "시가총액 5위 :  아모레퍼시픽\n"
     ]
    }
   ],
   "source": [
    "print(\"시가총액 5위 : \", kospi_top10[4])"
   ]
  },
  {
   "cell_type": "code",
   "execution_count": 20,
   "id": "c242b1f4",
   "metadata": {},
   "outputs": [],
   "source": [
    "kospi_top5 = kospi_top10[0:5]"
   ]
  },
  {
   "cell_type": "code",
   "execution_count": 21,
   "id": "fbeb3ab5",
   "metadata": {},
   "outputs": [
    {
     "data": {
      "text/plain": [
       "['삼성전자', 'SK하이닉스', '현대차', '한국전력', '아모레퍼시픽']"
      ]
     },
     "execution_count": 21,
     "metadata": {},
     "output_type": "execute_result"
    }
   ],
   "source": [
    "kospi_top5"
   ]
  },
  {
   "cell_type": "code",
   "execution_count": 24,
   "id": "7cb602bb",
   "metadata": {},
   "outputs": [
    {
     "data": {
      "text/plain": [
       "'제일모직'"
      ]
     },
     "execution_count": 24,
     "metadata": {},
     "output_type": "execute_result"
    }
   ],
   "source": [
    "kospi_top10[5]"
   ]
  },
  {
   "cell_type": "code",
   "execution_count": 26,
   "id": "6fb6c89d",
   "metadata": {},
   "outputs": [
    {
     "data": {
      "text/plain": [
       "['삼성전자', 'SK하이닉스', '현대차', '한국전력', '아모레퍼시픽']"
      ]
     },
     "execution_count": 26,
     "metadata": {},
     "output_type": "execute_result"
    }
   ],
   "source": [
    "kospi_top10[0:5]"
   ]
  },
  {
   "cell_type": "code",
   "execution_count": 27,
   "id": "95758e42",
   "metadata": {},
   "outputs": [
    {
     "data": {
      "text/plain": [
       "['제일모직', '삼성전자우', '삼성생명', 'NAVER', '현대모비스']"
      ]
     },
     "execution_count": 27,
     "metadata": {},
     "output_type": "execute_result"
    }
   ],
   "source": [
    "kospi_top10[5:]"
   ]
  },
  {
   "cell_type": "code",
   "execution_count": 30,
   "id": "48276309",
   "metadata": {},
   "outputs": [
    {
     "data": {
      "text/plain": [
       "['현대차']"
      ]
     },
     "execution_count": 30,
     "metadata": {},
     "output_type": "execute_result"
    }
   ],
   "source": [
    "kospi_top10[2:3]"
   ]
  },
  {
   "cell_type": "code",
   "execution_count": 31,
   "id": "3378dc66",
   "metadata": {},
   "outputs": [],
   "source": [
    "kospi_top10 = ['삼성전자', 'SK하이닉스', '현대차', '한국전력', '아모레퍼시픽', '제일모직', '삼성전자우', '삼성생명', 'NAVER', '현대모비스']\n"
   ]
  },
  {
   "cell_type": "code",
   "execution_count": 32,
   "id": "d161f6b3",
   "metadata": {},
   "outputs": [],
   "source": [
    "kospi_top5 = kospi_top10[0:5]\n"
   ]
  },
  {
   "cell_type": "code",
   "execution_count": 33,
   "id": "257b4576",
   "metadata": {},
   "outputs": [
    {
     "data": {
      "text/plain": [
       "['삼성전자', 'SK하이닉스', '현대차', '한국전력', '아모레퍼시픽']"
      ]
     },
     "execution_count": 33,
     "metadata": {},
     "output_type": "execute_result"
    }
   ],
   "source": [
    "kospi_top5"
   ]
  },
  {
   "cell_type": "code",
   "execution_count": 34,
   "id": "e5ec4dcd",
   "metadata": {},
   "outputs": [
    {
     "data": {
      "text/plain": [
       "['제일모직', '삼성전자우', '삼성생명', 'NAVER', '현대모비스']"
      ]
     },
     "execution_count": 34,
     "metadata": {},
     "output_type": "execute_result"
    }
   ],
   "source": [
    "kospi_top10[5:10]\n"
   ]
  },
  {
   "cell_type": "code",
   "execution_count": 35,
   "id": "8ba68db1",
   "metadata": {},
   "outputs": [
    {
     "data": {
      "text/plain": [
       "['제일모직', '삼성전자우', '삼성생명', 'NAVER', '현대모비스']"
      ]
     },
     "execution_count": 35,
     "metadata": {},
     "output_type": "execute_result"
    }
   ],
   "source": [
    "kospi_top10[5:]\n"
   ]
  },
  {
   "cell_type": "code",
   "execution_count": 36,
   "id": "e19b464e",
   "metadata": {},
   "outputs": [
    {
     "data": {
      "text/plain": [
       "['삼성전자', 'SK하이닉스', '현대차', '한국전력', '아모레퍼시픽']"
      ]
     },
     "execution_count": 36,
     "metadata": {},
     "output_type": "execute_result"
    }
   ],
   "source": [
    "kospi_top10[:5]"
   ]
  },
  {
   "cell_type": "code",
   "execution_count": 37,
   "id": "2c63133c",
   "metadata": {},
   "outputs": [
    {
     "data": {
      "text/plain": [
       "['제일모직', '삼성전자우', '삼성생명', 'NAVER']"
      ]
     },
     "execution_count": 37,
     "metadata": {},
     "output_type": "execute_result"
    }
   ],
   "source": [
    "kospi_top10[5:9]"
   ]
  },
  {
   "cell_type": "code",
   "execution_count": 38,
   "id": "8daf0edb",
   "metadata": {},
   "outputs": [
    {
     "data": {
      "text/plain": [
       "['제일모직', '삼성전자우', '삼성생명', 'NAVER']"
      ]
     },
     "execution_count": 38,
     "metadata": {},
     "output_type": "execute_result"
    }
   ],
   "source": [
    "kospi_top10[5:-1]\n"
   ]
  },
  {
   "cell_type": "code",
   "execution_count": 39,
   "id": "6a0e76f5",
   "metadata": {},
   "outputs": [],
   "source": [
    "kospi_top10.append('SK텔레콤')\n"
   ]
  },
  {
   "cell_type": "code",
   "execution_count": 40,
   "id": "792a9443",
   "metadata": {
    "scrolled": true
   },
   "outputs": [
    {
     "data": {
      "text/plain": [
       "['삼성전자',\n",
       " 'SK하이닉스',\n",
       " '현대차',\n",
       " '한국전력',\n",
       " '아모레퍼시픽',\n",
       " '제일모직',\n",
       " '삼성전자우',\n",
       " '삼성생명',\n",
       " 'NAVER',\n",
       " '현대모비스',\n",
       " 'SK텔레콤']"
      ]
     },
     "execution_count": 40,
     "metadata": {},
     "output_type": "execute_result"
    }
   ],
   "source": [
    "kospi_top10"
   ]
  },
  {
   "cell_type": "code",
   "execution_count": 41,
   "id": "bf807b0f",
   "metadata": {},
   "outputs": [],
   "source": [
    "kospi_top11 = kospi_top10"
   ]
  },
  {
   "cell_type": "code",
   "execution_count": 42,
   "id": "e50a1ab0",
   "metadata": {},
   "outputs": [
    {
     "data": {
      "text/plain": [
       "['삼성전자',\n",
       " 'SK하이닉스',\n",
       " '현대차',\n",
       " '한국전력',\n",
       " '아모레퍼시픽',\n",
       " '제일모직',\n",
       " '삼성전자우',\n",
       " '삼성생명',\n",
       " 'NAVER',\n",
       " '현대모비스',\n",
       " 'SK텔레콤']"
      ]
     },
     "execution_count": 42,
     "metadata": {},
     "output_type": "execute_result"
    }
   ],
   "source": [
    "kospi_top11"
   ]
  },
  {
   "cell_type": "code",
   "execution_count": 43,
   "id": "62b797e9",
   "metadata": {},
   "outputs": [],
   "source": [
    "kospi_top10 = ['삼성전자', 'SK하이닉스', '현대차', '한국전력', '아모레퍼시픽', '제일모직', '삼성전자우', '삼성생명', 'NAVER', '현대모비스']\n"
   ]
  },
  {
   "cell_type": "code",
   "execution_count": 51,
   "id": "0bc7aa78",
   "metadata": {},
   "outputs": [],
   "source": [
    "kospi_top10.insert(3, 'SK 텔레콤')\n",
    "# 3인덱스가 sk 텔레콤이 되어라."
   ]
  },
  {
   "cell_type": "code",
   "execution_count": 55,
   "id": "43ee2a02",
   "metadata": {},
   "outputs": [
    {
     "data": {
      "text/plain": [
       "['삼성전자',\n",
       " 'SK하이닉스',\n",
       " '현대차',\n",
       " 'SK 텔레콤',\n",
       " 'SK 텔레콤',\n",
       " 'SK 텔레콤',\n",
       " 'SK 텔레콤',\n",
       " 'SK 텔레콤',\n",
       " 'SK 텔레콤',\n",
       " '한국전력',\n",
       " '아모레퍼시픽',\n",
       " '제일모직',\n",
       " '삼성전자우',\n",
       " '삼성생명',\n",
       " 'NAVER',\n",
       " '현대모비스']"
      ]
     },
     "execution_count": 55,
     "metadata": {},
     "output_type": "execute_result"
    }
   ],
   "source": [
    "kospi_top10"
   ]
  },
  {
   "cell_type": "code",
   "execution_count": 56,
   "id": "a3bc8371",
   "metadata": {},
   "outputs": [
    {
     "data": {
      "text/plain": [
       "16"
      ]
     },
     "execution_count": 56,
     "metadata": {},
     "output_type": "execute_result"
    }
   ],
   "source": [
    "len(kospi_top10)\n"
   ]
  },
  {
   "cell_type": "code",
   "execution_count": 57,
   "id": "e65f9d32",
   "metadata": {
    "scrolled": true
   },
   "outputs": [
    {
     "data": {
      "text/plain": [
       "'아모레퍼시픽'"
      ]
     },
     "execution_count": 57,
     "metadata": {},
     "output_type": "execute_result"
    }
   ],
   "source": [
    "kospi_top10[-6]"
   ]
  },
  {
   "cell_type": "code",
   "execution_count": 58,
   "id": "035bc4f3",
   "metadata": {},
   "outputs": [],
   "source": [
    "del kospi_top10[-6]"
   ]
  },
  {
   "cell_type": "code",
   "execution_count": 60,
   "id": "9c213f3d",
   "metadata": {},
   "outputs": [
    {
     "data": {
      "text/plain": [
       "['삼성전자',\n",
       " 'SK하이닉스',\n",
       " '현대차',\n",
       " 'SK 텔레콤',\n",
       " 'SK 텔레콤',\n",
       " 'SK 텔레콤',\n",
       " 'SK 텔레콤',\n",
       " 'SK 텔레콤',\n",
       " 'SK 텔레콤',\n",
       " '한국전력',\n",
       " '제일모직',\n",
       " '삼성전자우',\n",
       " '삼성생명',\n",
       " 'NAVER',\n",
       " '현대모비스']"
      ]
     },
     "execution_count": 60,
     "metadata": {},
     "output_type": "execute_result"
    }
   ],
   "source": [
    "kospi_top10"
   ]
  },
  {
   "cell_type": "code",
   "execution_count": 67,
   "id": "24437497",
   "metadata": {
    "scrolled": true
   },
   "outputs": [
    {
     "data": {
      "text/plain": [
       "15"
      ]
     },
     "execution_count": 67,
     "metadata": {},
     "output_type": "execute_result"
    }
   ],
   "source": [
    "len(kospi_top10)"
   ]
  },
  {
   "cell_type": "code",
   "execution_count": 68,
   "id": "bfff1e2d",
   "metadata": {},
   "outputs": [],
   "source": [
    "del kospi_top10[-1]\n"
   ]
  },
  {
   "cell_type": "code",
   "execution_count": 69,
   "id": "e3e048f0",
   "metadata": {},
   "outputs": [],
   "source": [
    "del kospi_top10[-1]\n"
   ]
  },
  {
   "cell_type": "code",
   "execution_count": 70,
   "id": "7d3f1143",
   "metadata": {},
   "outputs": [
    {
     "data": {
      "text/plain": [
       "['삼성전자',\n",
       " 'SK하이닉스',\n",
       " '현대차',\n",
       " 'SK 텔레콤',\n",
       " 'SK 텔레콤',\n",
       " 'SK 텔레콤',\n",
       " 'SK 텔레콤',\n",
       " 'SK 텔레콤',\n",
       " 'SK 텔레콤',\n",
       " '한국전력',\n",
       " '제일모직',\n",
       " '삼성전자우',\n",
       " '삼성생명']"
      ]
     },
     "execution_count": 70,
     "metadata": {},
     "output_type": "execute_result"
    }
   ],
   "source": [
    "kospi_top10"
   ]
  },
  {
   "cell_type": "code",
   "execution_count": 71,
   "id": "d1e635e0",
   "metadata": {},
   "outputs": [
    {
     "data": {
      "text/plain": [
       "13"
      ]
     },
     "execution_count": 71,
     "metadata": {},
     "output_type": "execute_result"
    }
   ],
   "source": [
    "len(kospi_top10)"
   ]
  },
  {
   "cell_type": "code",
   "execution_count": 72,
   "id": "f821079f",
   "metadata": {},
   "outputs": [],
   "source": [
    "del kospi_top10[-2]"
   ]
  },
  {
   "cell_type": "code",
   "execution_count": 73,
   "id": "37697588",
   "metadata": {},
   "outputs": [
    {
     "data": {
      "text/plain": [
       "12"
      ]
     },
     "execution_count": 73,
     "metadata": {},
     "output_type": "execute_result"
    }
   ],
   "source": [
    "len(kospi_top10)"
   ]
  },
  {
   "cell_type": "code",
   "execution_count": 74,
   "id": "b6f05c31",
   "metadata": {},
   "outputs": [
    {
     "data": {
      "text/plain": [
       "['삼성전자',\n",
       " 'SK하이닉스',\n",
       " '현대차',\n",
       " 'SK 텔레콤',\n",
       " 'SK 텔레콤',\n",
       " 'SK 텔레콤',\n",
       " 'SK 텔레콤',\n",
       " 'SK 텔레콤',\n",
       " 'SK 텔레콤',\n",
       " '한국전력',\n",
       " '제일모직',\n",
       " '삼성생명']"
      ]
     },
     "execution_count": 74,
     "metadata": {},
     "output_type": "execute_result"
    }
   ],
   "source": [
    "kospi_top10"
   ]
  },
  {
   "cell_type": "code",
   "execution_count": 76,
   "id": "d4d38d94",
   "metadata": {},
   "outputs": [],
   "source": [
    "del kospi_top10[-1]"
   ]
  },
  {
   "cell_type": "code",
   "execution_count": 77,
   "id": "60366ee5",
   "metadata": {},
   "outputs": [
    {
     "data": {
      "text/plain": [
       "['삼성전자',\n",
       " 'SK하이닉스',\n",
       " '현대차',\n",
       " 'SK 텔레콤',\n",
       " 'SK 텔레콤',\n",
       " 'SK 텔레콤',\n",
       " 'SK 텔레콤',\n",
       " 'SK 텔레콤',\n",
       " 'SK 텔레콤',\n",
       " '한국전력']"
      ]
     },
     "execution_count": 77,
     "metadata": {},
     "output_type": "execute_result"
    }
   ],
   "source": [
    "kospi_top10"
   ]
  },
  {
   "cell_type": "code",
   "execution_count": 78,
   "id": "7a0eecd0",
   "metadata": {
    "scrolled": true
   },
   "outputs": [
    {
     "data": {
      "text/plain": [
       "10"
      ]
     },
     "execution_count": 78,
     "metadata": {},
     "output_type": "execute_result"
    }
   ],
   "source": [
    "len(kospi_top10)"
   ]
  },
  {
   "cell_type": "markdown",
   "id": "c17b6826",
   "metadata": {},
   "source": [
    "튜플"
   ]
  },
  {
   "cell_type": "code",
   "execution_count": 79,
   "id": "1bf5f733",
   "metadata": {},
   "outputs": [],
   "source": [
    "t = ('Samsung', 'LG', 'SK')"
   ]
  },
  {
   "cell_type": "code",
   "execution_count": 80,
   "id": "3caeabb7",
   "metadata": {
    "scrolled": true
   },
   "outputs": [
    {
     "data": {
      "text/plain": [
       "('Samsung', 'LG', 'SK')"
      ]
     },
     "execution_count": 80,
     "metadata": {},
     "output_type": "execute_result"
    }
   ],
   "source": [
    "t"
   ]
  },
  {
   "cell_type": "code",
   "execution_count": 81,
   "id": "e43a1d0f",
   "metadata": {
    "scrolled": true
   },
   "outputs": [
    {
     "data": {
      "text/plain": [
       "'SK'"
      ]
     },
     "execution_count": 81,
     "metadata": {},
     "output_type": "execute_result"
    }
   ],
   "source": [
    "t[2]"
   ]
  },
  {
   "cell_type": "code",
   "execution_count": 82,
   "id": "62339313",
   "metadata": {
    "scrolled": true
   },
   "outputs": [
    {
     "ename": "TypeError",
     "evalue": "'tuple' object does not support item assignment",
     "output_type": "error",
     "traceback": [
      "\u001b[1;31m---------------------------------------------------------------------------\u001b[0m",
      "\u001b[1;31mTypeError\u001b[0m                                 Traceback (most recent call last)",
      "Input \u001b[1;32mIn [82]\u001b[0m, in \u001b[0;36m<cell line: 1>\u001b[1;34m()\u001b[0m\n\u001b[1;32m----> 1\u001b[0m t[\u001b[38;5;241m0\u001b[39m] \u001b[38;5;241m=\u001b[39m \u001b[38;5;124m\"\u001b[39m\u001b[38;5;124mNaver\u001b[39m\u001b[38;5;124m\"\u001b[39m\n",
      "\u001b[1;31mTypeError\u001b[0m: 'tuple' object does not support item assignment"
     ]
    }
   ],
   "source": [
    "t[0] = \"Naver\""
   ]
  },
  {
   "cell_type": "code",
   "execution_count": 83,
   "id": "71d697fc",
   "metadata": {},
   "outputs": [],
   "source": [
    "cur_price = {}\n"
   ]
  },
  {
   "cell_type": "code",
   "execution_count": 84,
   "id": "c2f8b8b4",
   "metadata": {},
   "outputs": [
    {
     "data": {
      "text/plain": [
       "dict"
      ]
     },
     "execution_count": 84,
     "metadata": {},
     "output_type": "execute_result"
    }
   ],
   "source": [
    "type(cur_price)\n"
   ]
  },
  {
   "cell_type": "code",
   "execution_count": 85,
   "id": "da469991",
   "metadata": {},
   "outputs": [],
   "source": [
    "cur_price['daeshin'] = 30000"
   ]
  },
  {
   "cell_type": "code",
   "execution_count": 86,
   "id": "fa8f6534",
   "metadata": {},
   "outputs": [
    {
     "data": {
      "text/plain": [
       "{'daeshin': 30000}"
      ]
     },
     "execution_count": 86,
     "metadata": {},
     "output_type": "execute_result"
    }
   ],
   "source": [
    "cur_price"
   ]
  },
  {
   "cell_type": "code",
   "execution_count": 87,
   "id": "c3fd6e9c",
   "metadata": {},
   "outputs": [],
   "source": [
    "cur_price['daum kakao'] = 80000"
   ]
  },
  {
   "cell_type": "code",
   "execution_count": 88,
   "id": "e662d8ec",
   "metadata": {},
   "outputs": [
    {
     "data": {
      "text/plain": [
       "{'daeshin': 30000, 'daum kakao': 80000}"
      ]
     },
     "execution_count": 88,
     "metadata": {},
     "output_type": "execute_result"
    }
   ],
   "source": [
    "cur_price"
   ]
  },
  {
   "cell_type": "code",
   "execution_count": 93,
   "id": "95a6f3ff",
   "metadata": {},
   "outputs": [
    {
     "data": {
      "text/plain": [
       "2"
      ]
     },
     "execution_count": 93,
     "metadata": {},
     "output_type": "execute_result"
    }
   ],
   "source": [
    "len(cur_price)"
   ]
  },
  {
   "cell_type": "code",
   "execution_count": 96,
   "id": "9681b6a9",
   "metadata": {},
   "outputs": [
    {
     "data": {
      "text/plain": [
       "30000"
      ]
     },
     "execution_count": 96,
     "metadata": {},
     "output_type": "execute_result"
    }
   ],
   "source": [
    "cur_price['daeshin']"
   ]
  },
  {
   "cell_type": "code",
   "execution_count": 98,
   "id": "6dca2a84",
   "metadata": {},
   "outputs": [],
   "source": [
    "cur_price['naver'] = 8000000"
   ]
  },
  {
   "cell_type": "code",
   "execution_count": 99,
   "id": "0a4be2d9",
   "metadata": {},
   "outputs": [
    {
     "data": {
      "text/plain": [
       "{'daeshin': 30000, 'daum kakao': 80000, 'naver': 8000000}"
      ]
     },
     "execution_count": 99,
     "metadata": {},
     "output_type": "execute_result"
    }
   ],
   "source": [
    "cur_price"
   ]
  },
  {
   "cell_type": "code",
   "execution_count": 100,
   "id": "a6067faa",
   "metadata": {},
   "outputs": [],
   "source": [
    "del cur_price['daeshin']"
   ]
  },
  {
   "cell_type": "code",
   "execution_count": 101,
   "id": "90c77811",
   "metadata": {},
   "outputs": [
    {
     "data": {
      "text/plain": [
       "{'daum kakao': 80000, 'naver': 8000000}"
      ]
     },
     "execution_count": 101,
     "metadata": {},
     "output_type": "execute_result"
    }
   ],
   "source": [
    "cur_price"
   ]
  },
  {
   "cell_type": "code",
   "execution_count": 102,
   "id": "403dde08",
   "metadata": {},
   "outputs": [],
   "source": [
    "cur_price = {'Daum KAKAO': 80000, 'naver':800000, 'daeshin':30000}\n"
   ]
  },
  {
   "cell_type": "code",
   "execution_count": 103,
   "id": "4500751a",
   "metadata": {},
   "outputs": [
    {
     "data": {
      "text/plain": [
       "dict_keys(['Daum KAKAO', 'naver', 'daeshin'])"
      ]
     },
     "execution_count": 103,
     "metadata": {},
     "output_type": "execute_result"
    }
   ],
   "source": [
    "cur_price.keys()"
   ]
  },
  {
   "cell_type": "code",
   "execution_count": 104,
   "id": "8556c1ef",
   "metadata": {},
   "outputs": [
    {
     "data": {
      "text/plain": [
       "['Daum KAKAO', 'naver', 'daeshin']"
      ]
     },
     "execution_count": 104,
     "metadata": {},
     "output_type": "execute_result"
    }
   ],
   "source": [
    "list(cur_price.keys())"
   ]
  },
  {
   "cell_type": "code",
   "execution_count": 107,
   "id": "f51ad41d",
   "metadata": {},
   "outputs": [
    {
     "data": {
      "text/plain": [
       "['naver', 'Daum KAKAO', 'daeshin']"
      ]
     },
     "execution_count": 107,
     "metadata": {},
     "output_type": "execute_result"
    }
   ],
   "source": [
    ">>> list(cur_price.keys())\n",
    "['naver', 'Daum KAKAO', 'daeshin']\n",
    ">>>"
   ]
  },
  {
   "cell_type": "code",
   "execution_count": 109,
   "id": "36d617d1",
   "metadata": {},
   "outputs": [
    {
     "data": {
      "text/plain": [
       "['Daum KAKAO', 'naver', 'daeshin']"
      ]
     },
     "execution_count": 109,
     "metadata": {},
     "output_type": "execute_result"
    }
   ],
   "source": [
    ">>> stock_list = list(cur_price.keys())\n",
    ">>> stock_list"
   ]
  },
  {
   "cell_type": "code",
   "execution_count": 110,
   "id": "0a163cb5",
   "metadata": {},
   "outputs": [
    {
     "data": {
      "text/plain": [
       "[80000, 800000, 30000]"
      ]
     },
     "execution_count": 110,
     "metadata": {},
     "output_type": "execute_result"
    }
   ],
   "source": [
    ">>> price_list = list(cur_price.values())\n",
    ">>> price_list"
   ]
  },
  {
   "cell_type": "code",
   "execution_count": 111,
   "id": "4b539285",
   "metadata": {},
   "outputs": [
    {
     "data": {
      "text/plain": [
       "False"
      ]
     },
     "execution_count": 111,
     "metadata": {},
     "output_type": "execute_result"
    }
   ],
   "source": [
    "'Samsung' in cur_price.keys()"
   ]
  },
  {
   "cell_type": "code",
   "execution_count": 112,
   "id": "211a4a8a",
   "metadata": {},
   "outputs": [],
   "source": [
    "naver_closing_price = ['474500', '461500', '501000', '500500', '488500']"
   ]
  },
  {
   "cell_type": "code",
   "execution_count": 121,
   "id": "6a107279",
   "metadata": {},
   "outputs": [
    {
     "name": "stdout",
     "output_type": "stream",
     "text": [
      "501000\n"
     ]
    }
   ],
   "source": [
    "print(max(naver_closing_price))"
   ]
  },
  {
   "cell_type": "code",
   "execution_count": 122,
   "id": "e3bdedfd",
   "metadata": {},
   "outputs": [
    {
     "name": "stdout",
     "output_type": "stream",
     "text": [
      "461500\n"
     ]
    }
   ],
   "source": [
    "print(min(naver_closing_price))"
   ]
  },
  {
   "cell_type": "code",
   "execution_count": 124,
   "id": "cfef56b3",
   "metadata": {},
   "outputs": [],
   "source": [
    "naver_closing_price_max = max(naver_closing_price)\n",
    "naver_closing_price_min = min(naver_closing_price)"
   ]
  },
  {
   "cell_type": "code",
   "execution_count": 129,
   "id": "7bdbf27b",
   "metadata": {},
   "outputs": [
    {
     "name": "stdout",
     "output_type": "stream",
     "text": [
      "39500\n"
     ]
    }
   ],
   "source": [
    "print(int(naver_closing_price_max) - int(naver_closing_price_min))"
   ]
  },
  {
   "cell_type": "code",
   "execution_count": 130,
   "id": "a03f31f8",
   "metadata": {},
   "outputs": [
    {
     "name": "stdout",
     "output_type": "stream",
     "text": [
      "501000\n"
     ]
    }
   ],
   "source": [
    "print(naver_closing_price[2])"
   ]
  },
  {
   "cell_type": "code",
   "execution_count": 136,
   "id": "aa952ff9",
   "metadata": {},
   "outputs": [],
   "source": [
    "naver_closing_price2 = {'09/07' : 474500, '09/08' : 461500, '09/09' : 501000, '09/10' : 500500, '09/11' : 488500}"
   ]
  },
  {
   "cell_type": "code",
   "execution_count": 137,
   "id": "d4103013",
   "metadata": {},
   "outputs": [
    {
     "data": {
      "text/plain": [
       "{'09/07': 474500,\n",
       " '09/08': 461500,\n",
       " '09/09': 501000,\n",
       " '09/10': 500500,\n",
       " '09/11': 488500}"
      ]
     },
     "execution_count": 137,
     "metadata": {},
     "output_type": "execute_result"
    }
   ],
   "source": [
    "naver_closing_price2"
   ]
  },
  {
   "cell_type": "code",
   "execution_count": 139,
   "id": "94d293f2",
   "metadata": {},
   "outputs": [
    {
     "name": "stdout",
     "output_type": "stream",
     "text": [
      "501000\n"
     ]
    }
   ],
   "source": [
    "print(naver_closing_price2['09/09'])"
   ]
  },
  {
   "cell_type": "markdown",
   "id": "6e383776",
   "metadata": {},
   "source": [
    "Boolean(불리언)"
   ]
  },
  {
   "cell_type": "code",
   "execution_count": 145,
   "id": "54e8780a",
   "metadata": {},
   "outputs": [
    {
     "data": {
      "text/plain": [
       "True"
      ]
     },
     "execution_count": 145,
     "metadata": {},
     "output_type": "execute_result"
    }
   ],
   "source": [
    "day1 = 10000\n",
    "day2 = 13000\n",
    "(day2 - day1) == (day1 * 0.3)"
   ]
  },
  {
   "cell_type": "code",
   "execution_count": 146,
   "id": "f9a6f3b1",
   "metadata": {},
   "outputs": [
    {
     "data": {
      "text/plain": [
       "True"
      ]
     },
     "execution_count": 146,
     "metadata": {},
     "output_type": "execute_result"
    }
   ],
   "source": [
    ">>> day1 = 10000\n",
    ">>> day2 = 13000\n",
    ">>> ((day2- day1) == (day1 * 0.3)) or ((day2-day1) > (day1 * 0.292))\n"
   ]
  },
  {
   "attachments": {
    "image.png": {
     "image/png": "[encoded data removed]"
    }
   },
   "cell_type": "markdown",
   "id": "52efa5ef",
   "metadata": {},
   "source": [
    "![image.png](attachment:image.png)"
   ]
  },
  {
   "attachments": {
    "image.png": {
     "image/png": "[encoded data removed]"
    }
   },
   "cell_type": "markdown",
   "id": "bdcde2fd",
   "metadata": {},
   "source": [
    "![image.png](attachment:image.png)"
   ]
  },
  {
   "cell_type": "code",
   "execution_count": 147,
   "id": "fcbbce99",
   "metadata": {},
   "outputs": [
    {
     "data": {
      "text/plain": [
       "True"
      ]
     },
     "execution_count": 147,
     "metadata": {},
     "output_type": "execute_result"
    }
   ],
   "source": [
    ">>> day1 = 10000\n",
    ">>> day2 = 13000\n",
    ">>> ((day2- day1) == (day1 * 0.3)) or ((day2-day1) > (day1 * 0.292))"
   ]
  },
  {
   "cell_type": "markdown",
   "id": "5fd58951",
   "metadata": {},
   "source": [
    "금액이 전일 종가의 30%에 해당하는 금액이거나 29.2%에 해당하는 금액보다 큰 금액이면 상한가로 판단"
   ]
  },
  {
   "cell_type": "code",
   "execution_count": 148,
   "id": "89cb108f",
   "metadata": {},
   "outputs": [],
   "source": [
    "wiwikibooks_cur_price = 11000\n"
   ]
  },
  {
   "cell_type": "code",
   "execution_count": 149,
   "id": "ebe6efed",
   "metadata": {},
   "outputs": [
    {
     "name": "stdout",
     "output_type": "stream",
     "text": [
      "buy 10\n"
     ]
    }
   ],
   "source": [
    "if wiwikibooks_cur_price >= 10000:\n",
    "    print('buy 10')"
   ]
  },
  {
   "cell_type": "code",
   "execution_count": 150,
   "id": "62e48b94",
   "metadata": {},
   "outputs": [
    {
     "data": {
      "text/plain": [
       "11000"
      ]
     },
     "execution_count": 150,
     "metadata": {},
     "output_type": "execute_result"
    }
   ],
   "source": [
    "wiwikibooks_cur_price"
   ]
  },
  {
   "cell_type": "code",
   "execution_count": 151,
   "id": "bf9ec2df",
   "metadata": {},
   "outputs": [],
   "source": [
    "wiwikibooks_cur_price = 7000"
   ]
  },
  {
   "cell_type": "code",
   "execution_count": 156,
   "id": "770fb957",
   "metadata": {},
   "outputs": [
    {
     "name": "stdout",
     "output_type": "stream",
     "text": [
      "sell 20\n"
     ]
    }
   ],
   "source": [
    "if wiwikibooks_cur_price <=7500:\n",
    "    print('sell 20')"
   ]
  },
  {
   "cell_type": "code",
   "execution_count": 157,
   "id": "9975adf3",
   "metadata": {},
   "outputs": [],
   "source": [
    "wiwikibooks_cur_price = 11000"
   ]
  },
  {
   "cell_type": "code",
   "execution_count": 161,
   "id": "e5dbb7d2",
   "metadata": {},
   "outputs": [
    {
     "name": "stdout",
     "output_type": "stream",
     "text": [
      "buy 5\n",
      "buy 5\n",
      "buy 5\n",
      "buy 5\n",
      "buy 5\n"
     ]
    }
   ],
   "source": [
    "if wiwikibooks_cur_price >= 10000:\n",
    "    print('buy 5')\n",
    "    print('buy 5')\n",
    "    print('buy 5')\n",
    "    print('buy 5')\n",
    "    print('buy 5')"
   ]
  },
  {
   "cell_type": "code",
   "execution_count": 162,
   "id": "fd80a10b",
   "metadata": {},
   "outputs": [],
   "source": [
    ">>> wikibooks_cur_price = 11000"
   ]
  },
  {
   "cell_type": "code",
   "execution_count": 169,
   "id": "613a6d39",
   "metadata": {},
   "outputs": [
    {
     "name": "stdout",
     "output_type": "stream",
     "text": [
      "holding\n"
     ]
    }
   ],
   "source": [
    "if wiwikibooks_cur_price <= 10000:\n",
    "    print('buy 10')\n",
    "else: \n",
    "    print('holding')"
   ]
  },
  {
   "cell_type": "code",
   "execution_count": 171,
   "id": "b9aac1f6",
   "metadata": {},
   "outputs": [
    {
     "name": "stdout",
     "output_type": "stream",
     "text": [
      "Buy 10\n"
     ]
    }
   ],
   "source": [
    "wikibooks_cur_price = 11000\n",
    "if wikibooks_cur_price >= 10000:\n",
    "        print(\"Buy 10\")\n",
    "else:\n",
    "        print(\"Holding\")\n"
   ]
  },
  {
   "cell_type": "code",
   "execution_count": 172,
   "id": "436a2447",
   "metadata": {
    "scrolled": true
   },
   "outputs": [
    {
     "name": "stdout",
     "output_type": "stream",
     "text": [
      "3이 크다\n"
     ]
    }
   ],
   "source": [
    "if 3 > 1:\n",
    "        print(\"3이 크다\")\n",
    "else:\n",
    "        print(\"3이 작다\")\n"
   ]
  },
  {
   "cell_type": "markdown",
   "id": "950c2cd8",
   "metadata": {},
   "source": [
    "현재가가 1,000원 미만이면 호가 가격은 1원, \n",
    "\n",
    "그렇지 않고 현재가가 1,000원 이상이고 5,000원 미만이면 호가 가격단위는 5원, \n",
    "\n",
    "그렇지 않고 현재가가 5,000원 이상이고 10,000원 미만이면 호가 가격단위는 10원, \n",
    "\n",
    "그렇지 않고 현재가가 10,000원 이상이고 50,000원 미만이면 호가 가격단위는 50원, \n",
    "\n",
    "그렇지 않고 현재가가 50,000원 이상이고 100,000원 미만이면 호가 가격단위는 100원,\n",
    "\n",
    "그렇지 않고 현재가가 100,000원 이상이고 500,000원 미만이면 호가 가격단위는 500원, \n",
    "\n",
    "그렇지 않고 현재가가 500,000원 이상이면 호가 가격단위는 1,000원 \n"
   ]
  },
  {
   "cell_type": "code",
   "execution_count": 175,
   "id": "f11726db",
   "metadata": {},
   "outputs": [],
   "source": [
    "price = 7000\n",
    "if price < 1000:\n",
    "        bid = 1\n",
    "elif price >= 1000 and price < 5000:\n",
    "        bid = 5\n",
    "elif price >= 5000 and price < 10000:\n",
    "        bid = 10\n",
    "elif price >= 10000 and price < 50000:\n",
    "        bid = 50\n",
    "elif price >= 50000 and price < 100000:\n",
    "        bid = 100\n",
    "elif price >= 100000 and price < 500000:\n",
    "        bid = 500\n",
    "elif price >= 500000:\n",
    "        bid = 1000"
   ]
  },
  {
   "cell_type": "code",
   "execution_count": 176,
   "id": "65881ad8",
   "metadata": {
    "scrolled": true
   },
   "outputs": [
    {
     "data": {
      "text/plain": [
       "10"
      ]
     },
     "execution_count": 176,
     "metadata": {},
     "output_type": "execute_result"
    }
   ],
   "source": [
    "bid"
   ]
  },
  {
   "cell_type": "code",
   "execution_count": 180,
   "id": "5ae5f2d0",
   "metadata": {
    "scrolled": true
   },
   "outputs": [
    {
     "name": "stdout",
     "output_type": "stream",
     "text": [
      "0\n",
      "1\n",
      "2\n",
      "3\n",
      "4\n",
      "5\n",
      "6\n",
      "7\n",
      "8\n",
      "9\n",
      "10\n"
     ]
    }
   ],
   "source": [
    "for i in [0,1,2,3,4,5,6,7,8,9,10]:\n",
    "    print(i)"
   ]
  },
  {
   "cell_type": "code",
   "execution_count": 181,
   "id": "05b87ae7",
   "metadata": {
    "scrolled": true
   },
   "outputs": [
    {
     "name": "stdout",
     "output_type": "stream",
     "text": [
      "0\n",
      "0\n",
      "1\n",
      "1\n",
      "2\n",
      "2\n",
      "3\n",
      "3\n",
      "4\n",
      "4\n",
      "5\n",
      "5\n"
     ]
    }
   ],
   "source": [
    "for i in [0,1,2,3,4,5]:\n",
    "    print(i)\n",
    "    print(i)"
   ]
  },
  {
   "cell_type": "code",
   "execution_count": 182,
   "id": "ca8fe21a",
   "metadata": {},
   "outputs": [
    {
     "data": {
      "text/plain": [
       "range(1, 10)"
      ]
     },
     "execution_count": 182,
     "metadata": {},
     "output_type": "execute_result"
    }
   ],
   "source": [
    "range(1,10)"
   ]
  },
  {
   "cell_type": "code",
   "execution_count": 186,
   "id": "2bc43cd2",
   "metadata": {},
   "outputs": [
    {
     "data": {
      "text/plain": [
       "[0, 1, 2, 3, 4, 5, 6, 7, 8, 9, 10, 11, 12, 13, 14, 15, 16, 17, 18, 19]"
      ]
     },
     "execution_count": 186,
     "metadata": {},
     "output_type": "execute_result"
    }
   ],
   "source": [
    "list(range(0,20))"
   ]
  },
  {
   "cell_type": "code",
   "execution_count": 187,
   "id": "e55bd9e7",
   "metadata": {
    "scrolled": true
   },
   "outputs": [
    {
     "name": "stdout",
     "output_type": "stream",
     "text": [
      "0\n",
      "1\n",
      "2\n",
      "3\n",
      "4\n",
      "5\n",
      "6\n",
      "7\n",
      "8\n",
      "9\n",
      "10\n"
     ]
    }
   ],
   "source": [
    "for i in range(0,11):\n",
    "    print(i)"
   ]
  },
  {
   "cell_type": "code",
   "execution_count": 188,
   "id": "0d87f833",
   "metadata": {
    "scrolled": true
   },
   "outputs": [
    {
     "name": "stdout",
     "output_type": "stream",
     "text": [
      "0\n",
      "1\n",
      "2\n",
      "3\n",
      "4\n",
      "5\n",
      "6\n",
      "7\n",
      "8\n",
      "9\n",
      "10\n"
     ]
    }
   ],
   "source": [
    "for i in list(range(0,11)):\n",
    "    print(i)"
   ]
  },
  {
   "cell_type": "markdown",
   "id": "11f1953d",
   "metadata": {},
   "source": [
    "list 를 안 쓰는 것이 메모리 사용 관점에서 더욱 효율적이다."
   ]
  },
  {
   "cell_type": "code",
   "execution_count": 189,
   "id": "11bd14f1",
   "metadata": {},
   "outputs": [],
   "source": [
    "interest_stocks = [\"Naver\", \"Samsung\", \"SK Hynix\"]"
   ]
  },
  {
   "cell_type": "code",
   "execution_count": 190,
   "id": "17d0ec20",
   "metadata": {
    "scrolled": true
   },
   "outputs": [
    {
     "name": "stdout",
     "output_type": "stream",
     "text": [
      "Naver: Buy 10\n",
      "Samsung: Buy 10\n",
      "SK Hynix: Buy 10\n"
     ]
    }
   ],
   "source": [
    "for company in interest_stocks:\n",
    "        print(\"%s: Buy 10\" % company)"
   ]
  },
  {
   "cell_type": "code",
   "execution_count": 191,
   "id": "2a60bcbb",
   "metadata": {},
   "outputs": [],
   "source": [
    "interest_stocks = [\"Naver\", \"Samsung\", \"SK Hynix\"]"
   ]
  },
  {
   "cell_type": "code",
   "execution_count": 192,
   "id": "d33a2954",
   "metadata": {},
   "outputs": [
    {
     "name": "stdout",
     "output_type": "stream",
     "text": [
      "company: Buy 10\n",
      "company: Buy 10\n",
      "company: Buy 10\n"
     ]
    }
   ],
   "source": [
    "for company in interest_stocks:\n",
    "        print(\"company: Buy 10\")"
   ]
  },
  {
   "cell_type": "code",
   "execution_count": 193,
   "id": "890ba16f",
   "metadata": {},
   "outputs": [],
   "source": [
    "interest_stocks = (\"Naver\", \"Samsung\", \"SK Hynix\")"
   ]
  },
  {
   "cell_type": "code",
   "execution_count": 194,
   "id": "53ddc592",
   "metadata": {},
   "outputs": [
    {
     "name": "stdout",
     "output_type": "stream",
     "text": [
      "Naver: Buy 10\n",
      "Samsung: Buy 10\n",
      "SK Hynix: Buy 10\n"
     ]
    }
   ],
   "source": [
    "for company in interest_stocks:\n",
    "        print(\"%s: Buy 10\" % company)"
   ]
  },
  {
   "cell_type": "code",
   "execution_count": 195,
   "id": "6f813573",
   "metadata": {},
   "outputs": [],
   "source": [
    "interest_stocks = {\"Naver\":10, \"Samsung\":5, \"SK Hynix\":30}\n"
   ]
  },
  {
   "cell_type": "code",
   "execution_count": 198,
   "id": "1b8525e7",
   "metadata": {},
   "outputs": [
    {
     "name": "stdout",
     "output_type": "stream",
     "text": [
      "Naver: Buy 10\n",
      "Samsung: Buy 5\n",
      "SK Hynix: Buy 30\n"
     ]
    }
   ],
   "source": [
    "for company, stock_num in interest_stocks.items():\n",
    "        print(\"%s: Buy %s\" % (company, stock_num))"
   ]
  },
  {
   "cell_type": "code",
   "execution_count": 202,
   "id": "315a9554",
   "metadata": {},
   "outputs": [
    {
     "name": "stdout",
     "output_type": "stream",
     "text": [
      "Naver : Buy 10\n",
      "Samsung : Buy 5\n",
      "SK Hynix : Buy 30\n"
     ]
    }
   ],
   "source": [
    "for com, values in interest_stocks.items():\n",
    "    print(\"%s : Buy %s\" % (com, values))"
   ]
  },
  {
   "cell_type": "code",
   "execution_count": 208,
   "id": "d0fbd7ef",
   "metadata": {
    "scrolled": false
   },
   "outputs": [
    {
     "name": "stdout",
     "output_type": "stream",
     "text": [
      "2\n",
      "61\n",
      "120\n",
      "179\n",
      "238\n",
      "297\n",
      "356\n",
      "415\n",
      "474\n",
      "533\n",
      "592\n",
      "651\n",
      "710\n",
      "769\n",
      "828\n",
      "887\n",
      "946\n"
     ]
    }
   ],
   "source": [
    "i = 2\n",
    "while i <= 1000:\n",
    "    print(i)\n",
    "    i = i+59"
   ]
  },
  {
   "cell_type": "code",
   "execution_count": 209,
   "id": "e918c3de",
   "metadata": {
    "scrolled": true
   },
   "outputs": [
    {
     "data": {
      "text/plain": [
       "1005"
      ]
     },
     "execution_count": 209,
     "metadata": {},
     "output_type": "execute_result"
    }
   ],
   "source": [
    "i"
   ]
  },
  {
   "cell_type": "code",
   "execution_count": 210,
   "id": "7ef8c652",
   "metadata": {
    "scrolled": true
   },
   "outputs": [
    {
     "data": {
      "text/plain": [
       "13000.0"
      ]
     },
     "execution_count": 210,
     "metadata": {},
     "output_type": "execute_result"
    }
   ],
   "source": [
    "10000 + 10000 * 0.3"
   ]
  },
  {
   "cell_type": "code",
   "execution_count": 213,
   "id": "f66bed9f",
   "metadata": {
    "scrolled": true
   },
   "outputs": [
    {
     "data": {
      "text/plain": [
       "16900.0"
      ]
     },
     "execution_count": 213,
     "metadata": {},
     "output_type": "execute_result"
    }
   ],
   "source": [
    "13000 + 13000 * 0.3"
   ]
  },
  {
   "cell_type": "code",
   "execution_count": 215,
   "id": "7e00fdce",
   "metadata": {},
   "outputs": [],
   "source": [
    "wikibooks = 10000\n",
    "day = 1\n",
    "while day < 6:\n",
    "        wikibooks = wikibooks + wikibooks * 0.3\n",
    "        day = day + 1"
   ]
  },
  {
   "cell_type": "code",
   "execution_count": 216,
   "id": "c588ed43",
   "metadata": {},
   "outputs": [
    {
     "data": {
      "text/plain": [
       "37129.3"
      ]
     },
     "execution_count": 216,
     "metadata": {},
     "output_type": "execute_result"
    }
   ],
   "source": [
    "wikibooks"
   ]
  },
  {
   "cell_type": "markdown",
   "id": "a836a8cc",
   "metadata": {},
   "source": [
    "1) while 문의 조건 확인\n",
    "\n",
    "2) 조건을 만족하면 while 문 내부의 코드를 차례로 수행하고, 조건을 만족하지 않으면 while 문의 다음 문장을 수행 \n",
    "\n",
    "3) 2)의 과정에서 while 문 내부의 코드를 차례로 수행한 경우 다시 while 문의 조건 확인으로 이동"
   ]
  }
 ],
 "metadata": {
  "kernelspec": {
   "display_name": "Python 3 (ipykernel)",
   "language": "python",
   "name": "python3"
  },
  "language_info": {
   "codemirror_mode": {
    "name": "ipython",
    "version": 3
   },
   "file_extension": ".py",
   "mimetype": "text/x-python",
   "name": "python",
   "nbconvert_exporter": "python",
   "pygments_lexer": "ipython3",
   "version": "3.8.13"
  }
 },
 "nbformat": 4,
 "nbformat_minor": 5
}
