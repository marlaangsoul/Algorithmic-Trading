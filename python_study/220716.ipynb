{
 "cells": [
  {
   "cell_type": "code",
   "execution_count": 1,
   "id": "4538be35",
   "metadata": {},
   "outputs": [],
   "source": [
    "wikibooks = 10000\n",
    "day = 1\n",
    "while day < 6:\n",
    "        wikibooks = wikibooks + wikibooks * 0.3\n",
    "        day = day + 1"
   ]
  },
  {
   "cell_type": "code",
   "execution_count": 2,
   "id": "7feaa8b0",
   "metadata": {},
   "outputs": [
    {
     "name": "stdout",
     "output_type": "stream",
     "text": [
      "1\n",
      "3\n",
      "5\n",
      "7\n",
      "9\n"
     ]
    }
   ],
   "source": [
    "num = 0\n",
    "while num <= 10:\n",
    "        if num % 2 == 1:\n",
    "                print(num)\n",
    "        num += 1"
   ]
  }
 ],
 "metadata": {
  "kernelspec": {
   "display_name": "Python 3 (ipykernel)",
   "language": "python",
   "name": "python3"
  },
  "language_info": {
   "codemirror_mode": {
    "name": "ipython",
    "version": 3
   },
   "file_extension": ".py",
   "mimetype": "text/x-python",
   "name": "python",
   "nbconvert_exporter": "python",
   "pygments_lexer": "ipython3",
   "version": "3.8.13"
  }
 },
 "nbformat": 4,
 "nbformat_minor": 5
}
